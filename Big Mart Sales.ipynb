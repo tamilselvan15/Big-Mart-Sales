{
 "cells": [
  {
   "cell_type": "code",
   "execution_count": 1,
   "metadata": {},
   "outputs": [
    {
     "data": {
      "text/html": [
       "<div>\n",
       "<style scoped>\n",
       "    .dataframe tbody tr th:only-of-type {\n",
       "        vertical-align: middle;\n",
       "    }\n",
       "\n",
       "    .dataframe tbody tr th {\n",
       "        vertical-align: top;\n",
       "    }\n",
       "\n",
       "    .dataframe thead th {\n",
       "        text-align: right;\n",
       "    }\n",
       "</style>\n",
       "<table border=\"1\" class=\"dataframe\">\n",
       "  <thead>\n",
       "    <tr style=\"text-align: right;\">\n",
       "      <th></th>\n",
       "      <th>Item_Identifier</th>\n",
       "      <th>Item_Weight</th>\n",
       "      <th>Item_Fat_Content</th>\n",
       "      <th>Item_Visibility</th>\n",
       "      <th>Item_Type</th>\n",
       "      <th>Item_MRP</th>\n",
       "      <th>Outlet_Identifier</th>\n",
       "      <th>Outlet_Establishment_Year</th>\n",
       "      <th>Outlet_Size</th>\n",
       "      <th>Outlet_Location_Type</th>\n",
       "      <th>Outlet_Type</th>\n",
       "      <th>Item_Outlet_Sales</th>\n",
       "    </tr>\n",
       "  </thead>\n",
       "  <tbody>\n",
       "    <tr>\n",
       "      <th>0</th>\n",
       "      <td>FDA15</td>\n",
       "      <td>9.30</td>\n",
       "      <td>Low Fat</td>\n",
       "      <td>0.016047</td>\n",
       "      <td>Dairy</td>\n",
       "      <td>249.8092</td>\n",
       "      <td>OUT049</td>\n",
       "      <td>1999</td>\n",
       "      <td>Medium</td>\n",
       "      <td>Tier 1</td>\n",
       "      <td>Supermarket Type1</td>\n",
       "      <td>3735.1380</td>\n",
       "    </tr>\n",
       "    <tr>\n",
       "      <th>1</th>\n",
       "      <td>DRC01</td>\n",
       "      <td>5.92</td>\n",
       "      <td>Regular</td>\n",
       "      <td>0.019278</td>\n",
       "      <td>Soft Drinks</td>\n",
       "      <td>48.2692</td>\n",
       "      <td>OUT018</td>\n",
       "      <td>2009</td>\n",
       "      <td>Medium</td>\n",
       "      <td>Tier 3</td>\n",
       "      <td>Supermarket Type2</td>\n",
       "      <td>443.4228</td>\n",
       "    </tr>\n",
       "    <tr>\n",
       "      <th>2</th>\n",
       "      <td>FDN15</td>\n",
       "      <td>17.50</td>\n",
       "      <td>Low Fat</td>\n",
       "      <td>0.016760</td>\n",
       "      <td>Meat</td>\n",
       "      <td>141.6180</td>\n",
       "      <td>OUT049</td>\n",
       "      <td>1999</td>\n",
       "      <td>Medium</td>\n",
       "      <td>Tier 1</td>\n",
       "      <td>Supermarket Type1</td>\n",
       "      <td>2097.2700</td>\n",
       "    </tr>\n",
       "    <tr>\n",
       "      <th>3</th>\n",
       "      <td>FDX07</td>\n",
       "      <td>19.20</td>\n",
       "      <td>Regular</td>\n",
       "      <td>0.000000</td>\n",
       "      <td>Fruits and Vegetables</td>\n",
       "      <td>182.0950</td>\n",
       "      <td>OUT010</td>\n",
       "      <td>1998</td>\n",
       "      <td>NaN</td>\n",
       "      <td>Tier 3</td>\n",
       "      <td>Grocery Store</td>\n",
       "      <td>732.3800</td>\n",
       "    </tr>\n",
       "    <tr>\n",
       "      <th>4</th>\n",
       "      <td>NCD19</td>\n",
       "      <td>8.93</td>\n",
       "      <td>Low Fat</td>\n",
       "      <td>0.000000</td>\n",
       "      <td>Household</td>\n",
       "      <td>53.8614</td>\n",
       "      <td>OUT013</td>\n",
       "      <td>1987</td>\n",
       "      <td>High</td>\n",
       "      <td>Tier 3</td>\n",
       "      <td>Supermarket Type1</td>\n",
       "      <td>994.7052</td>\n",
       "    </tr>\n",
       "  </tbody>\n",
       "</table>\n",
       "</div>"
      ],
      "text/plain": [
       "  Item_Identifier  Item_Weight Item_Fat_Content  Item_Visibility  \\\n",
       "0           FDA15         9.30          Low Fat         0.016047   \n",
       "1           DRC01         5.92          Regular         0.019278   \n",
       "2           FDN15        17.50          Low Fat         0.016760   \n",
       "3           FDX07        19.20          Regular         0.000000   \n",
       "4           NCD19         8.93          Low Fat         0.000000   \n",
       "\n",
       "               Item_Type  Item_MRP Outlet_Identifier  \\\n",
       "0                  Dairy  249.8092            OUT049   \n",
       "1            Soft Drinks   48.2692            OUT018   \n",
       "2                   Meat  141.6180            OUT049   \n",
       "3  Fruits and Vegetables  182.0950            OUT010   \n",
       "4              Household   53.8614            OUT013   \n",
       "\n",
       "   Outlet_Establishment_Year Outlet_Size Outlet_Location_Type  \\\n",
       "0                       1999      Medium               Tier 1   \n",
       "1                       2009      Medium               Tier 3   \n",
       "2                       1999      Medium               Tier 1   \n",
       "3                       1998         NaN               Tier 3   \n",
       "4                       1987        High               Tier 3   \n",
       "\n",
       "         Outlet_Type  Item_Outlet_Sales  \n",
       "0  Supermarket Type1          3735.1380  \n",
       "1  Supermarket Type2           443.4228  \n",
       "2  Supermarket Type1          2097.2700  \n",
       "3      Grocery Store           732.3800  \n",
       "4  Supermarket Type1           994.7052  "
      ]
     },
     "execution_count": 1,
     "metadata": {},
     "output_type": "execute_result"
    }
   ],
   "source": [
    "import pandas as pd\n",
    "import numpy as np\n",
    "import matplotlib.pyplot as plt\n",
    "import seaborn as sns\n",
    "\n",
    "plt.style.use('seaborn')\n",
    "\n",
    "from pylab import rcParams\n",
    "\n",
    "import os\n",
    "os.chdir(\"C:\\\\Users\\\\tamil\\\\OneDrive\\\\Documents\\\\Python Directory\")\n",
    "\n",
    "folder = \"Bigmart/\"\n",
    "\n",
    "pd.set_option(\"display.max_rows\",None)\n",
    "pd.set_option(\"display.max_columns\",None)\n",
    "\n",
    "\n",
    "df = pd.read_csv(folder+\"bigmart_train.csv\")\n",
    "test_data = pd.read_csv(folder+\"bigmart_test.csv\")\n",
    "df.head()"
   ]
  },
  {
   "cell_type": "markdown",
   "metadata": {},
   "source": [
    "# Basic Information About Data"
   ]
  },
  {
   "cell_type": "code",
   "execution_count": 2,
   "metadata": {},
   "outputs": [
    {
     "name": "stdout",
     "output_type": "stream",
     "text": [
      "<class 'pandas.core.frame.DataFrame'>\n",
      "RangeIndex: 8523 entries, 0 to 8522\n",
      "Data columns (total 12 columns):\n",
      " #   Column                     Non-Null Count  Dtype  \n",
      "---  ------                     --------------  -----  \n",
      " 0   Item_Identifier            8523 non-null   object \n",
      " 1   Item_Weight                7060 non-null   float64\n",
      " 2   Item_Fat_Content           8523 non-null   object \n",
      " 3   Item_Visibility            8523 non-null   float64\n",
      " 4   Item_Type                  8523 non-null   object \n",
      " 5   Item_MRP                   8523 non-null   float64\n",
      " 6   Outlet_Identifier          8523 non-null   object \n",
      " 7   Outlet_Establishment_Year  8523 non-null   int64  \n",
      " 8   Outlet_Size                6113 non-null   object \n",
      " 9   Outlet_Location_Type       8523 non-null   object \n",
      " 10  Outlet_Type                8523 non-null   object \n",
      " 11  Item_Outlet_Sales          8523 non-null   float64\n",
      "dtypes: float64(4), int64(1), object(7)\n",
      "memory usage: 799.2+ KB\n"
     ]
    }
   ],
   "source": [
    "df.info()"
   ]
  },
  {
   "cell_type": "code",
   "execution_count": 3,
   "metadata": {},
   "outputs": [
    {
     "data": {
      "text/plain": [
       "(8523, 12)"
      ]
     },
     "execution_count": 3,
     "metadata": {},
     "output_type": "execute_result"
    }
   ],
   "source": [
    "df.shape"
   ]
  },
  {
   "cell_type": "code",
   "execution_count": 4,
   "metadata": {},
   "outputs": [
    {
     "name": "stdout",
     "output_type": "stream",
     "text": [
      "Percentage of missing values\n",
      "============================\n",
      "Item_Weight has 17.165% of missing values\n",
      "Outlet_Size has 28.276% of missing values\n"
     ]
    }
   ],
   "source": [
    "print(\"Percentage of missing values\")\n",
    "print(\"============================\")\n",
    "\n",
    "for var in df.columns:\n",
    "    if df[var].isna().sum() >0:\n",
    "        miss = np.round(df[var].isna().sum()/df.shape[0] * 100,3)\n",
    "        print(var, \"has {0}% of missing values\".format(miss))"
   ]
  },
  {
   "cell_type": "markdown",
   "metadata": {},
   "source": [
    "# Analysing Target Variable"
   ]
  },
  {
   "cell_type": "code",
   "execution_count": 5,
   "metadata": {},
   "outputs": [
    {
     "data": {
      "image/png": "[encoded data removed]",
      "text/plain": [
       "<Figure size 432x288 with 1 Axes>"
      ]
     },
     "metadata": {},
     "output_type": "display_data"
    }
   ],
   "source": [
    "rcParams[\"figure.figsize\"] = 6,4\n",
    "target = df[\"Item_Outlet_Sales\"]\n",
    "target.hist(bins = 20);"
   ]
  },
  {
   "cell_type": "markdown",
   "metadata": {},
   "source": [
    "Reponse Variable is highly Positive skewed, have to transform"
   ]
  },
  {
   "cell_type": "markdown",
   "metadata": {},
   "source": [
    "### Checking outliers"
   ]
  },
  {
   "cell_type": "code",
   "execution_count": 6,
   "metadata": {},
   "outputs": [
    {
     "data": {
      "image/png": "[encoded data removed]",
      "text/plain": [
       "<Figure size 432x288 with 1 Axes>"
      ]
     },
     "metadata": {},
     "output_type": "display_data"
    }
   ],
   "source": [
    "plt.boxplot(target);"
   ]
  },
  {
   "cell_type": "markdown",
   "metadata": {},
   "source": [
    "### Box-cox transformation"
   ]
  },
  {
   "cell_type": "code",
   "execution_count": 7,
   "metadata": {},
   "outputs": [
    {
     "name": "stdout",
     "output_type": "stream",
     "text": [
      "0.34647755754885007\n"
     ]
    },
    {
     "data": {
      "image/png": "[encoded data removed]",
      "text/plain": [
       "<Figure size 432x288 with 1 Axes>"
      ]
     },
     "metadata": {},
     "output_type": "display_data"
    }
   ],
   "source": [
    "from scipy import stats\n",
    "target_bx,fitted_lambda = stats.boxcox(target)\n",
    "print(fitted_lambda)\n",
    "\n",
    "# target_bx = np.log1p(target)\n",
    "\n",
    "#checking outliers now\n",
    "\n",
    "plt.boxplot(target_bx);"
   ]
  },
  {
   "cell_type": "code",
   "execution_count": 8,
   "metadata": {},
   "outputs": [
    {
     "data": {
      "text/plain": [
       "<matplotlib.axes._subplots.AxesSubplot at 0x2b4f43a8188>"
      ]
     },
     "execution_count": 8,
     "metadata": {},
     "output_type": "execute_result"
    },
    {
     "data": {
      "image/png": "[encoded data removed]",
      "text/plain": [
       "<Figure size 432x288 with 1 Axes>"
      ]
     },
     "metadata": {},
     "output_type": "display_data"
    }
   ],
   "source": [
    "sns.distplot(target_bx, bins = 10)"
   ]
  },
  {
   "cell_type": "markdown",
   "metadata": {},
   "source": [
    "Data is somewhat normaly distributed now"
   ]
  },
  {
   "cell_type": "markdown",
   "metadata": {},
   "source": [
    "# Spliting Numerical And Categorical Data"
   ]
  },
  {
   "cell_type": "code",
   "execution_count": 9,
   "metadata": {},
   "outputs": [
    {
     "data": {
      "text/html": [
       "<div>\n",
       "<style scoped>\n",
       "    .dataframe tbody tr th:only-of-type {\n",
       "        vertical-align: middle;\n",
       "    }\n",
       "\n",
       "    .dataframe tbody tr th {\n",
       "        vertical-align: top;\n",
       "    }\n",
       "\n",
       "    .dataframe thead th {\n",
       "        text-align: right;\n",
       "    }\n",
       "</style>\n",
       "<table border=\"1\" class=\"dataframe\">\n",
       "  <thead>\n",
       "    <tr style=\"text-align: right;\">\n",
       "      <th></th>\n",
       "      <th>Item_Identifier</th>\n",
       "      <th>Item_Weight</th>\n",
       "      <th>Item_Fat_Content</th>\n",
       "      <th>Item_Visibility</th>\n",
       "      <th>Item_Type</th>\n",
       "      <th>Item_MRP</th>\n",
       "      <th>Outlet_Identifier</th>\n",
       "      <th>Outlet_Establishment_Year</th>\n",
       "      <th>Outlet_Size</th>\n",
       "      <th>Outlet_Location_Type</th>\n",
       "      <th>Outlet_Type</th>\n",
       "    </tr>\n",
       "  </thead>\n",
       "  <tbody>\n",
       "    <tr>\n",
       "      <th>0</th>\n",
       "      <td>FDA15</td>\n",
       "      <td>9.30</td>\n",
       "      <td>Low Fat</td>\n",
       "      <td>0.016047</td>\n",
       "      <td>Dairy</td>\n",
       "      <td>249.8092</td>\n",
       "      <td>OUT049</td>\n",
       "      <td>1999</td>\n",
       "      <td>Medium</td>\n",
       "      <td>Tier 1</td>\n",
       "      <td>Supermarket Type1</td>\n",
       "    </tr>\n",
       "    <tr>\n",
       "      <th>1</th>\n",
       "      <td>DRC01</td>\n",
       "      <td>5.92</td>\n",
       "      <td>Regular</td>\n",
       "      <td>0.019278</td>\n",
       "      <td>Soft Drinks</td>\n",
       "      <td>48.2692</td>\n",
       "      <td>OUT018</td>\n",
       "      <td>2009</td>\n",
       "      <td>Medium</td>\n",
       "      <td>Tier 3</td>\n",
       "      <td>Supermarket Type2</td>\n",
       "    </tr>\n",
       "    <tr>\n",
       "      <th>2</th>\n",
       "      <td>FDN15</td>\n",
       "      <td>17.50</td>\n",
       "      <td>Low Fat</td>\n",
       "      <td>0.016760</td>\n",
       "      <td>Meat</td>\n",
       "      <td>141.6180</td>\n",
       "      <td>OUT049</td>\n",
       "      <td>1999</td>\n",
       "      <td>Medium</td>\n",
       "      <td>Tier 1</td>\n",
       "      <td>Supermarket Type1</td>\n",
       "    </tr>\n",
       "    <tr>\n",
       "      <th>3</th>\n",
       "      <td>FDX07</td>\n",
       "      <td>19.20</td>\n",
       "      <td>Regular</td>\n",
       "      <td>0.000000</td>\n",
       "      <td>Fruits and Vegetables</td>\n",
       "      <td>182.0950</td>\n",
       "      <td>OUT010</td>\n",
       "      <td>1998</td>\n",
       "      <td>NaN</td>\n",
       "      <td>Tier 3</td>\n",
       "      <td>Grocery Store</td>\n",
       "    </tr>\n",
       "    <tr>\n",
       "      <th>4</th>\n",
       "      <td>NCD19</td>\n",
       "      <td>8.93</td>\n",
       "      <td>Low Fat</td>\n",
       "      <td>0.000000</td>\n",
       "      <td>Household</td>\n",
       "      <td>53.8614</td>\n",
       "      <td>OUT013</td>\n",
       "      <td>1987</td>\n",
       "      <td>High</td>\n",
       "      <td>Tier 3</td>\n",
       "      <td>Supermarket Type1</td>\n",
       "    </tr>\n",
       "  </tbody>\n",
       "</table>\n",
       "</div>"
      ],
      "text/plain": [
       "  Item_Identifier  Item_Weight Item_Fat_Content  Item_Visibility  \\\n",
       "0           FDA15         9.30          Low Fat         0.016047   \n",
       "1           DRC01         5.92          Regular         0.019278   \n",
       "2           FDN15        17.50          Low Fat         0.016760   \n",
       "3           FDX07        19.20          Regular         0.000000   \n",
       "4           NCD19         8.93          Low Fat         0.000000   \n",
       "\n",
       "               Item_Type  Item_MRP Outlet_Identifier  \\\n",
       "0                  Dairy  249.8092            OUT049   \n",
       "1            Soft Drinks   48.2692            OUT018   \n",
       "2                   Meat  141.6180            OUT049   \n",
       "3  Fruits and Vegetables  182.0950            OUT010   \n",
       "4              Household   53.8614            OUT013   \n",
       "\n",
       "   Outlet_Establishment_Year Outlet_Size Outlet_Location_Type  \\\n",
       "0                       1999      Medium               Tier 1   \n",
       "1                       2009      Medium               Tier 3   \n",
       "2                       1999      Medium               Tier 1   \n",
       "3                       1998         NaN               Tier 3   \n",
       "4                       1987        High               Tier 3   \n",
       "\n",
       "         Outlet_Type  \n",
       "0  Supermarket Type1  \n",
       "1  Supermarket Type2  \n",
       "2  Supermarket Type1  \n",
       "3      Grocery Store  \n",
       "4  Supermarket Type1  "
      ]
     },
     "execution_count": 9,
     "metadata": {},
     "output_type": "execute_result"
    }
   ],
   "source": [
    "#Combaining train and test\n",
    "df = df.drop(\"Item_Outlet_Sales\", axis = 1)\n",
    "data = pd.concat([df,test_data],ignore_index=True, axis = 0)\n",
    "data.head()"
   ]
  },
  {
   "cell_type": "code",
   "execution_count": 10,
   "metadata": {},
   "outputs": [],
   "source": [
    "#Numerical column\n",
    "\n",
    "num_var = [var for var in data.columns if data[var].dtype != \"object\"]\n",
    "num_data = data[num_var]"
   ]
  },
  {
   "cell_type": "code",
   "execution_count": 11,
   "metadata": {},
   "outputs": [],
   "source": [
    "#Categorival columns\n",
    "\n",
    "cat_var = [var for var in data.columns if data[var].dtype == \"object\"]\n",
    "cat_data = data[cat_var]"
   ]
  },
  {
   "cell_type": "markdown",
   "metadata": {},
   "source": [
    "# Analysing Numerical Variable"
   ]
  },
  {
   "cell_type": "code",
   "execution_count": 12,
   "metadata": {},
   "outputs": [
    {
     "data": {
      "text/html": [
       "<div>\n",
       "<style scoped>\n",
       "    .dataframe tbody tr th:only-of-type {\n",
       "        vertical-align: middle;\n",
       "    }\n",
       "\n",
       "    .dataframe tbody tr th {\n",
       "        vertical-align: top;\n",
       "    }\n",
       "\n",
       "    .dataframe thead th {\n",
       "        text-align: right;\n",
       "    }\n",
       "</style>\n",
       "<table border=\"1\" class=\"dataframe\">\n",
       "  <thead>\n",
       "    <tr style=\"text-align: right;\">\n",
       "      <th></th>\n",
       "      <th>Item_Weight</th>\n",
       "      <th>Item_Visibility</th>\n",
       "      <th>Item_MRP</th>\n",
       "      <th>Outlet_Establishment_Year</th>\n",
       "    </tr>\n",
       "  </thead>\n",
       "  <tbody>\n",
       "    <tr>\n",
       "      <th>0</th>\n",
       "      <td>9.30</td>\n",
       "      <td>0.016047</td>\n",
       "      <td>249.8092</td>\n",
       "      <td>1999</td>\n",
       "    </tr>\n",
       "    <tr>\n",
       "      <th>1</th>\n",
       "      <td>5.92</td>\n",
       "      <td>0.019278</td>\n",
       "      <td>48.2692</td>\n",
       "      <td>2009</td>\n",
       "    </tr>\n",
       "    <tr>\n",
       "      <th>2</th>\n",
       "      <td>17.50</td>\n",
       "      <td>0.016760</td>\n",
       "      <td>141.6180</td>\n",
       "      <td>1999</td>\n",
       "    </tr>\n",
       "    <tr>\n",
       "      <th>3</th>\n",
       "      <td>19.20</td>\n",
       "      <td>0.000000</td>\n",
       "      <td>182.0950</td>\n",
       "      <td>1998</td>\n",
       "    </tr>\n",
       "    <tr>\n",
       "      <th>4</th>\n",
       "      <td>8.93</td>\n",
       "      <td>0.000000</td>\n",
       "      <td>53.8614</td>\n",
       "      <td>1987</td>\n",
       "    </tr>\n",
       "  </tbody>\n",
       "</table>\n",
       "</div>"
      ],
      "text/plain": [
       "   Item_Weight  Item_Visibility  Item_MRP  Outlet_Establishment_Year\n",
       "0         9.30         0.016047  249.8092                       1999\n",
       "1         5.92         0.019278   48.2692                       2009\n",
       "2        17.50         0.016760  141.6180                       1999\n",
       "3        19.20         0.000000  182.0950                       1998\n",
       "4         8.93         0.000000   53.8614                       1987"
      ]
     },
     "execution_count": 12,
     "metadata": {},
     "output_type": "execute_result"
    }
   ],
   "source": [
    "num_data.head()"
   ]
  },
  {
   "cell_type": "markdown",
   "metadata": {},
   "source": [
    "### Visual Analytics On Numerical data"
   ]
  },
  {
   "cell_type": "code",
   "execution_count": 13,
   "metadata": {},
   "outputs": [
    {
     "data": {
      "image/png": "[encoded data removed]",
      "text/plain": [
       "<Figure size 720x720 with 4 Axes>"
      ]
     },
     "metadata": {},
     "output_type": "display_data"
    }
   ],
   "source": [
    "plt.rcParams[\"figure.figsize\"] = 10,10\n",
    "num_data.hist();"
   ]
  },
  {
   "cell_type": "code",
   "execution_count": 14,
   "metadata": {},
   "outputs": [
    {
     "data": {
      "image/png": "[encoded data removed]",
      "text/plain": [
       "<Figure size 504x360 with 1 Axes>"
      ]
     },
     "metadata": {},
     "output_type": "display_data"
    }
   ],
   "source": [
    "plt.figure(figsize = (7,5))\n",
    "sns.barplot(df[\"Outlet_Establishment_Year\"],target);"
   ]
  },
  {
   "cell_type": "code",
   "execution_count": 15,
   "metadata": {},
   "outputs": [],
   "source": [
    "# sns.pairplot(num_data);"
   ]
  },
  {
   "cell_type": "code",
   "execution_count": 16,
   "metadata": {},
   "outputs": [
    {
     "data": {
      "image/png": "[encoded data removed]",
      "text/plain": [
       "<Figure size 720x720 with 2 Axes>"
      ]
     },
     "metadata": {},
     "output_type": "display_data"
    }
   ],
   "source": [
    "temp_data = pd.concat([df,target], axis = 1)\n",
    "sns.heatmap(temp_data.corr(), annot = True);"
   ]
  },
  {
   "cell_type": "markdown",
   "metadata": {},
   "source": [
    "No linearity between features, Item MRP feature is only related with Outlet sales."
   ]
  },
  {
   "cell_type": "code",
   "execution_count": 17,
   "metadata": {},
   "outputs": [
    {
     "data": {
      "image/png": "[encoded data removed]",
      "text/plain": [
       "<Figure size 504x360 with 1 Axes>"
      ]
     },
     "metadata": {},
     "output_type": "display_data"
    }
   ],
   "source": [
    "plt.figure(figsize=(7,5))\n",
    "sns.scatterplot(x = \"Item_MRP\", y = \"Item_Outlet_Sales\", data = temp_data);"
   ]
  },
  {
   "cell_type": "markdown",
   "metadata": {},
   "source": [
    "## Feature Engineering"
   ]
  },
  {
   "cell_type": "code",
   "execution_count": 18,
   "metadata": {},
   "outputs": [
    {
     "name": "stderr",
     "output_type": "stream",
     "text": [
      "C:\\Users\\tamil\\Anaconda3\\lib\\site-packages\\ipykernel_launcher.py:2: SettingWithCopyWarning: \n",
      "A value is trying to be set on a copy of a slice from a DataFrame.\n",
      "Try using .loc[row_indexer,col_indexer] = value instead\n",
      "\n",
      "See the caveats in the documentation: https://pandas.pydata.org/pandas-docs/stable/user_guide/indexing.html#returning-a-view-versus-a-copy\n",
      "  \n"
     ]
    },
    {
     "data": {
      "text/html": [
       "<div>\n",
       "<style scoped>\n",
       "    .dataframe tbody tr th:only-of-type {\n",
       "        vertical-align: middle;\n",
       "    }\n",
       "\n",
       "    .dataframe tbody tr th {\n",
       "        vertical-align: top;\n",
       "    }\n",
       "\n",
       "    .dataframe thead th {\n",
       "        text-align: right;\n",
       "    }\n",
       "</style>\n",
       "<table border=\"1\" class=\"dataframe\">\n",
       "  <thead>\n",
       "    <tr style=\"text-align: right;\">\n",
       "      <th></th>\n",
       "      <th>Item_Weight</th>\n",
       "      <th>Item_Visibility</th>\n",
       "      <th>Item_MRP</th>\n",
       "      <th>Outlet_Establishment_Year</th>\n",
       "      <th>Outlet_Age</th>\n",
       "    </tr>\n",
       "  </thead>\n",
       "  <tbody>\n",
       "    <tr>\n",
       "      <th>0</th>\n",
       "      <td>9.30</td>\n",
       "      <td>0.016047</td>\n",
       "      <td>249.8092</td>\n",
       "      <td>1999</td>\n",
       "      <td>21</td>\n",
       "    </tr>\n",
       "    <tr>\n",
       "      <th>1</th>\n",
       "      <td>5.92</td>\n",
       "      <td>0.019278</td>\n",
       "      <td>48.2692</td>\n",
       "      <td>2009</td>\n",
       "      <td>11</td>\n",
       "    </tr>\n",
       "    <tr>\n",
       "      <th>2</th>\n",
       "      <td>17.50</td>\n",
       "      <td>0.016760</td>\n",
       "      <td>141.6180</td>\n",
       "      <td>1999</td>\n",
       "      <td>21</td>\n",
       "    </tr>\n",
       "    <tr>\n",
       "      <th>3</th>\n",
       "      <td>19.20</td>\n",
       "      <td>0.000000</td>\n",
       "      <td>182.0950</td>\n",
       "      <td>1998</td>\n",
       "      <td>22</td>\n",
       "    </tr>\n",
       "    <tr>\n",
       "      <th>4</th>\n",
       "      <td>8.93</td>\n",
       "      <td>0.000000</td>\n",
       "      <td>53.8614</td>\n",
       "      <td>1987</td>\n",
       "      <td>33</td>\n",
       "    </tr>\n",
       "  </tbody>\n",
       "</table>\n",
       "</div>"
      ],
      "text/plain": [
       "   Item_Weight  Item_Visibility  Item_MRP  Outlet_Establishment_Year  \\\n",
       "0         9.30         0.016047  249.8092                       1999   \n",
       "1         5.92         0.019278   48.2692                       2009   \n",
       "2        17.50         0.016760  141.6180                       1999   \n",
       "3        19.20         0.000000  182.0950                       1998   \n",
       "4         8.93         0.000000   53.8614                       1987   \n",
       "\n",
       "   Outlet_Age  \n",
       "0          21  \n",
       "1          11  \n",
       "2          21  \n",
       "3          22  \n",
       "4          33  "
      ]
     },
     "execution_count": 18,
     "metadata": {},
     "output_type": "execute_result"
    }
   ],
   "source": [
    "current_year = 2020\n",
    "num_data[\"Outlet_Age\"] = current_year - num_data[\"Outlet_Establishment_Year\"]\n",
    "num_data.head()"
   ]
  },
  {
   "cell_type": "markdown",
   "metadata": {},
   "source": [
    "### 1. Handling Missing values"
   ]
  },
  {
   "cell_type": "code",
   "execution_count": 19,
   "metadata": {},
   "outputs": [
    {
     "name": "stdout",
     "output_type": "stream",
     "text": [
      "There is no missing values\n"
     ]
    },
    {
     "name": "stderr",
     "output_type": "stream",
     "text": [
      "C:\\Users\\tamil\\Anaconda3\\lib\\site-packages\\ipykernel_launcher.py:5: SettingWithCopyWarning: \n",
      "A value is trying to be set on a copy of a slice from a DataFrame.\n",
      "Try using .loc[row_indexer,col_indexer] = value instead\n",
      "\n",
      "See the caveats in the documentation: https://pandas.pydata.org/pandas-docs/stable/user_guide/indexing.html#returning-a-view-versus-a-copy\n",
      "  \"\"\"\n"
     ]
    },
    {
     "data": {
      "text/plain": [
       "'\\n\\ncheck R\\n\\n'"
      ]
     },
     "execution_count": 19,
     "metadata": {},
     "output_type": "execute_result"
    }
   ],
   "source": [
    "for var in num_data.columns:\n",
    "    if num_data[var].isnull().sum()/num_data.shape[0] > 0.25:\n",
    "        print(\"dropping {0}\".format(var))\n",
    "    else:\n",
    "        num_data[var] = num_data[var].fillna(num_data[var].median())\n",
    "\n",
    "if num_data[var].isnull().sum() > 1:\n",
    "    print(\"There is missing values\")\n",
    "else:\n",
    "    print(\"There is no missing values\")\n",
    "\n",
    "\n",
    "\n",
    "\"\"\"\n",
    "\n",
    "check R\n",
    "\n",
    "\"\"\""
   ]
  },
  {
   "cell_type": "markdown",
   "metadata": {},
   "source": [
    "### Feature Creation And Skew Correction"
   ]
  },
  {
   "cell_type": "code",
   "execution_count": 23,
   "metadata": {},
   "outputs": [
    {
     "data": {
      "text/plain": [
       "0.12133160626235628"
      ]
     },
     "execution_count": 23,
     "metadata": {},
     "output_type": "execute_result"
    }
   ],
   "source": [
    "num_data[\"Item_Visibility\"].skew()"
   ]
  },
  {
   "cell_type": "code",
   "execution_count": 24,
   "metadata": {},
   "outputs": [
    {
     "data": {
      "text/plain": [
       "0.011396726004802115"
      ]
     },
     "execution_count": 24,
     "metadata": {},
     "output_type": "execute_result"
    }
   ],
   "source": [
    "from scipy.stats import skew\n",
    "iy,l = stats.yeojohnson(num_data[\"Item_Visibility\"])\n",
    "skew(iy)"
   ]
  },
  {
   "cell_type": "code",
   "execution_count": 25,
   "metadata": {},
   "outputs": [
    {
     "name": "stderr",
     "output_type": "stream",
     "text": [
      "C:\\Users\\tamil\\Anaconda3\\lib\\site-packages\\ipykernel_launcher.py:1: SettingWithCopyWarning: \n",
      "A value is trying to be set on a copy of a slice from a DataFrame.\n",
      "Try using .loc[row_indexer,col_indexer] = value instead\n",
      "\n",
      "See the caveats in the documentation: https://pandas.pydata.org/pandas-docs/stable/user_guide/indexing.html#returning-a-view-versus-a-copy\n",
      "  \"\"\"Entry point for launching an IPython kernel.\n"
     ]
    }
   ],
   "source": [
    "num_data[\"Item_Visibility\"] = iy"
   ]
  },
  {
   "cell_type": "code",
   "execution_count": 26,
   "metadata": {},
   "outputs": [
    {
     "data": {
      "text/html": [
       "<div>\n",
       "<style scoped>\n",
       "    .dataframe tbody tr th:only-of-type {\n",
       "        vertical-align: middle;\n",
       "    }\n",
       "\n",
       "    .dataframe tbody tr th {\n",
       "        vertical-align: top;\n",
       "    }\n",
       "\n",
       "    .dataframe thead th {\n",
       "        text-align: right;\n",
       "    }\n",
       "</style>\n",
       "<table border=\"1\" class=\"dataframe\">\n",
       "  <thead>\n",
       "    <tr style=\"text-align: right;\">\n",
       "      <th></th>\n",
       "      <th>Item_Weight</th>\n",
       "      <th>Item_Visibility</th>\n",
       "      <th>Item_MRP</th>\n",
       "      <th>Outlet_Establishment_Year</th>\n",
       "      <th>Outlet_Age</th>\n",
       "    </tr>\n",
       "  </thead>\n",
       "  <tbody>\n",
       "    <tr>\n",
       "      <th>0</th>\n",
       "      <td>9.30</td>\n",
       "      <td>0.014570</td>\n",
       "      <td>249.8092</td>\n",
       "      <td>1999</td>\n",
       "      <td>21</td>\n",
       "    </tr>\n",
       "    <tr>\n",
       "      <th>1</th>\n",
       "      <td>5.92</td>\n",
       "      <td>0.017178</td>\n",
       "      <td>48.2692</td>\n",
       "      <td>2009</td>\n",
       "      <td>11</td>\n",
       "    </tr>\n",
       "    <tr>\n",
       "      <th>2</th>\n",
       "      <td>17.50</td>\n",
       "      <td>0.015154</td>\n",
       "      <td>141.6180</td>\n",
       "      <td>1999</td>\n",
       "      <td>21</td>\n",
       "    </tr>\n",
       "    <tr>\n",
       "      <th>3</th>\n",
       "      <td>19.20</td>\n",
       "      <td>-0.000000</td>\n",
       "      <td>182.0950</td>\n",
       "      <td>1998</td>\n",
       "      <td>22</td>\n",
       "    </tr>\n",
       "    <tr>\n",
       "      <th>4</th>\n",
       "      <td>8.93</td>\n",
       "      <td>-0.000000</td>\n",
       "      <td>53.8614</td>\n",
       "      <td>1987</td>\n",
       "      <td>33</td>\n",
       "    </tr>\n",
       "  </tbody>\n",
       "</table>\n",
       "</div>"
      ],
      "text/plain": [
       "   Item_Weight  Item_Visibility  Item_MRP  Outlet_Establishment_Year  \\\n",
       "0         9.30         0.014570  249.8092                       1999   \n",
       "1         5.92         0.017178   48.2692                       2009   \n",
       "2        17.50         0.015154  141.6180                       1999   \n",
       "3        19.20        -0.000000  182.0950                       1998   \n",
       "4         8.93        -0.000000   53.8614                       1987   \n",
       "\n",
       "   Outlet_Age  \n",
       "0          21  \n",
       "1          11  \n",
       "2          21  \n",
       "3          22  \n",
       "4          33  "
      ]
     },
     "execution_count": 26,
     "metadata": {},
     "output_type": "execute_result"
    }
   ],
   "source": [
    "num_data.head()"
   ]
  },
  {
   "cell_type": "code",
   "execution_count": 27,
   "metadata": {},
   "outputs": [
    {
     "data": {
      "text/plain": [
       "0.13072836040225863"
      ]
     },
     "execution_count": 27,
     "metadata": {},
     "output_type": "execute_result"
    }
   ],
   "source": [
    "num_data[\"Item_MRP\"].skew()"
   ]
  },
  {
   "cell_type": "code",
   "execution_count": 28,
   "metadata": {},
   "outputs": [
    {
     "data": {
      "text/plain": [
       "-0.11511166802517413"
      ]
     },
     "execution_count": 28,
     "metadata": {},
     "output_type": "execute_result"
    }
   ],
   "source": [
    "iy,l = stats.boxcox(num_data[\"Item_MRP\"])\n",
    "skew(iy)"
   ]
  },
  {
   "cell_type": "code",
   "execution_count": 29,
   "metadata": {},
   "outputs": [
    {
     "name": "stderr",
     "output_type": "stream",
     "text": [
      "C:\\Users\\tamil\\Anaconda3\\lib\\site-packages\\ipykernel_launcher.py:1: SettingWithCopyWarning: \n",
      "A value is trying to be set on a copy of a slice from a DataFrame.\n",
      "Try using .loc[row_indexer,col_indexer] = value instead\n",
      "\n",
      "See the caveats in the documentation: https://pandas.pydata.org/pandas-docs/stable/user_guide/indexing.html#returning-a-view-versus-a-copy\n",
      "  \"\"\"Entry point for launching an IPython kernel.\n"
     ]
    }
   ],
   "source": [
    "num_data[\"Item_MRP\"] = iy"
   ]
  },
  {
   "cell_type": "code",
   "execution_count": 30,
   "metadata": {},
   "outputs": [
    {
     "data": {
      "text/plain": [
       "0.13471142395276792"
      ]
     },
     "execution_count": 30,
     "metadata": {},
     "output_type": "execute_result"
    }
   ],
   "source": [
    "num_data[\"Item_Weight\"].skew()"
   ]
  },
  {
   "cell_type": "code",
   "execution_count": 31,
   "metadata": {},
   "outputs": [
    {
     "data": {
      "text/plain": [
       "-0.0687338699935203"
      ]
     },
     "execution_count": 31,
     "metadata": {},
     "output_type": "execute_result"
    }
   ],
   "source": [
    "iy,l = stats.boxcox(num_data[\"Item_Weight\"])\n",
    "skew(iy)"
   ]
  },
  {
   "cell_type": "code",
   "execution_count": 32,
   "metadata": {},
   "outputs": [
    {
     "name": "stderr",
     "output_type": "stream",
     "text": [
      "C:\\Users\\tamil\\Anaconda3\\lib\\site-packages\\ipykernel_launcher.py:1: SettingWithCopyWarning: \n",
      "A value is trying to be set on a copy of a slice from a DataFrame.\n",
      "Try using .loc[row_indexer,col_indexer] = value instead\n",
      "\n",
      "See the caveats in the documentation: https://pandas.pydata.org/pandas-docs/stable/user_guide/indexing.html#returning-a-view-versus-a-copy\n",
      "  \"\"\"Entry point for launching an IPython kernel.\n"
     ]
    }
   ],
   "source": [
    "num_data[\"Item_Weight\"] = iy"
   ]
  },
  {
   "cell_type": "code",
   "execution_count": 33,
   "metadata": {},
   "outputs": [
    {
     "data": {
      "image/png": "[encoded data removed]",
      "text/plain": [
       "<Figure size 720x720 with 6 Axes>"
      ]
     },
     "metadata": {},
     "output_type": "display_data"
    }
   ],
   "source": [
    "num_data.hist();"
   ]
  },
  {
   "cell_type": "markdown",
   "metadata": {},
   "source": [
    "### Feature Scaling"
   ]
  },
  {
   "cell_type": "code",
   "execution_count": 34,
   "metadata": {},
   "outputs": [],
   "source": [
    "from sklearn.preprocessing import StandardScaler\n",
    "\n",
    "std = StandardScaler()\n",
    "std.fit(num_data)\n",
    "std_data = std.transform(num_data)"
   ]
  },
  {
   "cell_type": "code",
   "execution_count": 35,
   "metadata": {},
   "outputs": [],
   "source": [
    "num_data = pd.DataFrame(std_data, columns = num_data.columns)"
   ]
  },
  {
   "cell_type": "code",
   "execution_count": 36,
   "metadata": {},
   "outputs": [
    {
     "data": {
      "text/html": [
       "<div>\n",
       "<style scoped>\n",
       "    .dataframe tbody tr th:only-of-type {\n",
       "        vertical-align: middle;\n",
       "    }\n",
       "\n",
       "    .dataframe tbody tr th {\n",
       "        vertical-align: top;\n",
       "    }\n",
       "\n",
       "    .dataframe thead th {\n",
       "        text-align: right;\n",
       "    }\n",
       "</style>\n",
       "<table border=\"1\" class=\"dataframe\">\n",
       "  <thead>\n",
       "    <tr style=\"text-align: right;\">\n",
       "      <th></th>\n",
       "      <th>Item_Weight</th>\n",
       "      <th>Item_Visibility</th>\n",
       "      <th>Item_MRP</th>\n",
       "      <th>Outlet_Age</th>\n",
       "    </tr>\n",
       "  </thead>\n",
       "  <tbody>\n",
       "    <tr>\n",
       "      <th>0</th>\n",
       "      <td>-0.790311</td>\n",
       "      <td>-1.162464</td>\n",
       "      <td>1.626498</td>\n",
       "      <td>-0.139681</td>\n",
       "    </tr>\n",
       "    <tr>\n",
       "      <th>1</th>\n",
       "      <td>-1.732935</td>\n",
       "      <td>-1.043837</td>\n",
       "      <td>-1.603338</td>\n",
       "      <td>-1.334228</td>\n",
       "    </tr>\n",
       "    <tr>\n",
       "      <th>2</th>\n",
       "      <td>1.102516</td>\n",
       "      <td>-1.135903</td>\n",
       "      <td>0.082011</td>\n",
       "      <td>-0.139681</td>\n",
       "    </tr>\n",
       "    <tr>\n",
       "      <th>3</th>\n",
       "      <td>1.452565</td>\n",
       "      <td>-1.824974</td>\n",
       "      <td>0.692011</td>\n",
       "      <td>-0.020226</td>\n",
       "    </tr>\n",
       "    <tr>\n",
       "      <th>4</th>\n",
       "      <td>-0.886982</td>\n",
       "      <td>-1.824974</td>\n",
       "      <td>-1.483297</td>\n",
       "      <td>1.293777</td>\n",
       "    </tr>\n",
       "  </tbody>\n",
       "</table>\n",
       "</div>"
      ],
      "text/plain": [
       "   Item_Weight  Item_Visibility  Item_MRP  Outlet_Age\n",
       "0    -0.790311        -1.162464  1.626498   -0.139681\n",
       "1    -1.732935        -1.043837 -1.603338   -1.334228\n",
       "2     1.102516        -1.135903  0.082011   -0.139681\n",
       "3     1.452565        -1.824974  0.692011   -0.020226\n",
       "4    -0.886982        -1.824974 -1.483297    1.293777"
      ]
     },
     "execution_count": 36,
     "metadata": {},
     "output_type": "execute_result"
    }
   ],
   "source": [
    "num_data = num_data.drop([\"Outlet_Establishment_Year\"],axis = 1)\n",
    "num_data.head()"
   ]
  },
  {
   "cell_type": "code",
   "execution_count": 37,
   "metadata": {},
   "outputs": [
    {
     "data": {
      "text/plain": [
       "Item_Weight        0\n",
       "Item_Visibility    0\n",
       "Item_MRP           0\n",
       "Outlet_Age         0\n",
       "dtype: int64"
      ]
     },
     "execution_count": 37,
     "metadata": {},
     "output_type": "execute_result"
    }
   ],
   "source": [
    "num_data.isnull().sum()"
   ]
  },
  {
   "cell_type": "markdown",
   "metadata": {},
   "source": [
    "# Analysing Categorical Variable"
   ]
  },
  {
   "cell_type": "code",
   "execution_count": 38,
   "metadata": {},
   "outputs": [
    {
     "data": {
      "text/html": [
       "<div>\n",
       "<style scoped>\n",
       "    .dataframe tbody tr th:only-of-type {\n",
       "        vertical-align: middle;\n",
       "    }\n",
       "\n",
       "    .dataframe tbody tr th {\n",
       "        vertical-align: top;\n",
       "    }\n",
       "\n",
       "    .dataframe thead th {\n",
       "        text-align: right;\n",
       "    }\n",
       "</style>\n",
       "<table border=\"1\" class=\"dataframe\">\n",
       "  <thead>\n",
       "    <tr style=\"text-align: right;\">\n",
       "      <th></th>\n",
       "      <th>Item_Identifier</th>\n",
       "      <th>Item_Fat_Content</th>\n",
       "      <th>Item_Type</th>\n",
       "      <th>Outlet_Identifier</th>\n",
       "      <th>Outlet_Size</th>\n",
       "      <th>Outlet_Location_Type</th>\n",
       "      <th>Outlet_Type</th>\n",
       "    </tr>\n",
       "  </thead>\n",
       "  <tbody>\n",
       "    <tr>\n",
       "      <th>0</th>\n",
       "      <td>FDA15</td>\n",
       "      <td>Low Fat</td>\n",
       "      <td>Dairy</td>\n",
       "      <td>OUT049</td>\n",
       "      <td>Medium</td>\n",
       "      <td>Tier 1</td>\n",
       "      <td>Supermarket Type1</td>\n",
       "    </tr>\n",
       "    <tr>\n",
       "      <th>1</th>\n",
       "      <td>DRC01</td>\n",
       "      <td>Regular</td>\n",
       "      <td>Soft Drinks</td>\n",
       "      <td>OUT018</td>\n",
       "      <td>Medium</td>\n",
       "      <td>Tier 3</td>\n",
       "      <td>Supermarket Type2</td>\n",
       "    </tr>\n",
       "    <tr>\n",
       "      <th>2</th>\n",
       "      <td>FDN15</td>\n",
       "      <td>Low Fat</td>\n",
       "      <td>Meat</td>\n",
       "      <td>OUT049</td>\n",
       "      <td>Medium</td>\n",
       "      <td>Tier 1</td>\n",
       "      <td>Supermarket Type1</td>\n",
       "    </tr>\n",
       "    <tr>\n",
       "      <th>3</th>\n",
       "      <td>FDX07</td>\n",
       "      <td>Regular</td>\n",
       "      <td>Fruits and Vegetables</td>\n",
       "      <td>OUT010</td>\n",
       "      <td>NaN</td>\n",
       "      <td>Tier 3</td>\n",
       "      <td>Grocery Store</td>\n",
       "    </tr>\n",
       "    <tr>\n",
       "      <th>4</th>\n",
       "      <td>NCD19</td>\n",
       "      <td>Low Fat</td>\n",
       "      <td>Household</td>\n",
       "      <td>OUT013</td>\n",
       "      <td>High</td>\n",
       "      <td>Tier 3</td>\n",
       "      <td>Supermarket Type1</td>\n",
       "    </tr>\n",
       "  </tbody>\n",
       "</table>\n",
       "</div>"
      ],
      "text/plain": [
       "  Item_Identifier Item_Fat_Content              Item_Type Outlet_Identifier  \\\n",
       "0           FDA15          Low Fat                  Dairy            OUT049   \n",
       "1           DRC01          Regular            Soft Drinks            OUT018   \n",
       "2           FDN15          Low Fat                   Meat            OUT049   \n",
       "3           FDX07          Regular  Fruits and Vegetables            OUT010   \n",
       "4           NCD19          Low Fat              Household            OUT013   \n",
       "\n",
       "  Outlet_Size Outlet_Location_Type        Outlet_Type  \n",
       "0      Medium               Tier 1  Supermarket Type1  \n",
       "1      Medium               Tier 3  Supermarket Type2  \n",
       "2      Medium               Tier 1  Supermarket Type1  \n",
       "3         NaN               Tier 3      Grocery Store  \n",
       "4        High               Tier 3  Supermarket Type1  "
      ]
     },
     "execution_count": 38,
     "metadata": {},
     "output_type": "execute_result"
    }
   ],
   "source": [
    "cat_data.head()"
   ]
  },
  {
   "cell_type": "code",
   "execution_count": 39,
   "metadata": {},
   "outputs": [],
   "source": [
    "#Droping ID\n",
    "\n",
    "cat_data = cat_data.drop([\"Item_Identifier\",\"Outlet_Identifier\"], axis = 1)"
   ]
  },
  {
   "cell_type": "code",
   "execution_count": 40,
   "metadata": {},
   "outputs": [
    {
     "name": "stdout",
     "output_type": "stream",
     "text": [
      "==========================\n",
      "Low Fat    8485\n",
      "Regular    4824\n",
      "LF          522\n",
      "reg         195\n",
      "low fat     178\n",
      "Name: Item_Fat_Content, dtype: int64\n",
      "==========================\n",
      "Fruits and Vegetables    2013\n",
      "Snack Foods              1989\n",
      "Household                1548\n",
      "Frozen Foods             1426\n",
      "Dairy                    1136\n",
      "Baking Goods             1086\n",
      "Canned                   1084\n",
      "Health and Hygiene        858\n",
      "Meat                      736\n",
      "Soft Drinks               726\n",
      "Breads                    416\n",
      "Hard Drinks               362\n",
      "Others                    280\n",
      "Starchy Foods             269\n",
      "Breakfast                 186\n",
      "Seafood                    89\n",
      "Name: Item_Type, dtype: int64\n",
      "==========================\n",
      "Medium    4655\n",
      "Small     3980\n",
      "High      1553\n",
      "Name: Outlet_Size, dtype: int64\n",
      "==========================\n",
      "Tier 3    5583\n",
      "Tier 2    4641\n",
      "Tier 1    3980\n",
      "Name: Outlet_Location_Type, dtype: int64\n",
      "==========================\n",
      "Supermarket Type1    9294\n",
      "Grocery Store        1805\n",
      "Supermarket Type3    1559\n",
      "Supermarket Type2    1546\n",
      "Name: Outlet_Type, dtype: int64\n"
     ]
    }
   ],
   "source": [
    "for var in cat_data.columns:\n",
    "    print(\"==========================\")\n",
    "    print(cat_data[var].value_counts())"
   ]
  },
  {
   "cell_type": "code",
   "execution_count": 210,
   "metadata": {},
   "outputs": [
    {
     "data": {
      "image/png": "[encoded data removed]",
      "text/plain": [
       "<Figure size 504x360 with 1 Axes>"
      ]
     },
     "metadata": {},
     "output_type": "display_data"
    },
    {
     "data": {
      "image/png": "[encoded data removed]",
      "text/plain": [
       "<Figure size 720x720 with 1 Axes>"
      ]
     },
     "metadata": {},
     "output_type": "display_data"
    },
    {
     "data": {
      "image/png": "[encoded data removed]",
      "text/plain": [
       "<Figure size 720x720 with 1 Axes>"
      ]
     },
     "metadata": {},
     "output_type": "display_data"
    },
    {
     "data": {
      "image/png": "[encoded data removed]",
      "text/plain": [
       "<Figure size 720x720 with 1 Axes>"
      ]
     },
     "metadata": {},
     "output_type": "display_data"
    },
    {
     "data": {
      "image/png": "[encoded data removed]",
      "text/plain": [
       "<Figure size 720x720 with 1 Axes>"
      ]
     },
     "metadata": {},
     "output_type": "display_data"
    }
   ],
   "source": [
    "plt.figure(figsize=(7,5))\n",
    "for var in cat_data.columns:\n",
    "    sns.barplot(df[var],target)\n",
    "    plt.xticks(rotation = 90)\n",
    "    plt.title(var)\n",
    "    plt.show()"
   ]
  },
  {
   "cell_type": "code",
   "execution_count": 42,
   "metadata": {},
   "outputs": [
    {
     "data": {
      "text/plain": [
       "Item_Fat_Content        0.000000\n",
       "Item_Type               0.000000\n",
       "Outlet_Size             0.282737\n",
       "Outlet_Location_Type    0.000000\n",
       "Outlet_Type             0.000000\n",
       "dtype: float64"
      ]
     },
     "execution_count": 42,
     "metadata": {},
     "output_type": "execute_result"
    }
   ],
   "source": [
    "cat_data.isnull().sum()/len(cat_data)"
   ]
  },
  {
   "cell_type": "markdown",
   "metadata": {},
   "source": [
    "Since, there is relation between outlet size and sale price simply we cant remove the outlet size variable"
   ]
  },
  {
   "cell_type": "code",
   "execution_count": 211,
   "metadata": {},
   "outputs": [
    {
     "data": {
      "text/plain": [
       "<matplotlib.axes._subplots.AxesSubplot at 0x2b52252af08>"
      ]
     },
     "execution_count": 211,
     "metadata": {},
     "output_type": "execute_result"
    },
    {
     "data": {
      "image/png": "[encoded data removed]",
      "text/plain": [
       "<Figure size 720x720 with 1 Axes>"
      ]
     },
     "metadata": {},
     "output_type": "display_data"
    }
   ],
   "source": [
    "sns.boxplot(df[\"Outlet_Location_Type\"],target,hue = df[\"Outlet_Size\"])"
   ]
  },
  {
   "cell_type": "code",
   "execution_count": 212,
   "metadata": {},
   "outputs": [
    {
     "data": {
      "text/plain": [
       "<matplotlib.axes._subplots.AxesSubplot at 0x2b4d6bc00c8>"
      ]
     },
     "execution_count": 212,
     "metadata": {},
     "output_type": "execute_result"
    },
    {
     "data": {
      "image/png": "[encoded data removed]",
      "text/plain": [
       "<Figure size 720x720 with 1 Axes>"
      ]
     },
     "metadata": {},
     "output_type": "display_data"
    }
   ],
   "source": [
    "sns.barplot(df[\"Outlet_Location_Type\"],target,hue = df[\"Outlet_Size\"])"
   ]
  },
  {
   "cell_type": "code",
   "execution_count": 45,
   "metadata": {},
   "outputs": [],
   "source": [
    "outlet_location_dict = {\"Tier 1\":2,\"Tier 2\":1,\"Tier 3\":0}\n",
    "cat_data[\"Outlet_Location_Type\"] = cat_data[\"Outlet_Location_Type\"].map(outlet_location_dict)"
   ]
  },
  {
   "cell_type": "code",
   "execution_count": 46,
   "metadata": {},
   "outputs": [],
   "source": [
    "outlet_size_dict = {\"High\":2,\"Medium\":1,\"Small\":0}\n",
    "cat_data[\"Outlet_Size\"] = cat_data[\"Outlet_Size\"].map(outlet_size_dict)"
   ]
  },
  {
   "cell_type": "code",
   "execution_count": 51,
   "metadata": {},
   "outputs": [],
   "source": [
    "cat_data[\"Outlet_Size\"] = cat_data[\"Outlet_Size\"].fillna(1.0)\n",
    "cat_data[\"Outlet_Size\"] = cat_data[\"Outlet_Size\"].astype(int)"
   ]
  },
  {
   "cell_type": "code",
   "execution_count": 53,
   "metadata": {},
   "outputs": [
    {
     "data": {
      "text/plain": [
       "Item_Fat_Content        0\n",
       "Item_Type               0\n",
       "Outlet_Size             0\n",
       "Outlet_Location_Type    0\n",
       "Outlet_Type             0\n",
       "dtype: int64"
      ]
     },
     "execution_count": 53,
     "metadata": {},
     "output_type": "execute_result"
    }
   ],
   "source": [
    "cat_data.isnull().sum()"
   ]
  },
  {
   "cell_type": "markdown",
   "metadata": {},
   "source": [
    "## One Hot Encoding"
   ]
  },
  {
   "cell_type": "code",
   "execution_count": 56,
   "metadata": {},
   "outputs": [
    {
     "data": {
      "text/html": [
       "<div>\n",
       "<style scoped>\n",
       "    .dataframe tbody tr th:only-of-type {\n",
       "        vertical-align: middle;\n",
       "    }\n",
       "\n",
       "    .dataframe tbody tr th {\n",
       "        vertical-align: top;\n",
       "    }\n",
       "\n",
       "    .dataframe thead th {\n",
       "        text-align: right;\n",
       "    }\n",
       "</style>\n",
       "<table border=\"1\" class=\"dataframe\">\n",
       "  <thead>\n",
       "    <tr style=\"text-align: right;\">\n",
       "      <th></th>\n",
       "      <th>Outlet_Size</th>\n",
       "      <th>Outlet_Location_Type</th>\n",
       "      <th>Item_Fat_Content_Low Fat</th>\n",
       "      <th>Item_Fat_Content_Regular</th>\n",
       "      <th>Item_Fat_Content_low fat</th>\n",
       "      <th>Item_Fat_Content_reg</th>\n",
       "      <th>Item_Type_Breads</th>\n",
       "      <th>Item_Type_Breakfast</th>\n",
       "      <th>Item_Type_Canned</th>\n",
       "      <th>Item_Type_Dairy</th>\n",
       "      <th>Item_Type_Frozen Foods</th>\n",
       "      <th>Item_Type_Fruits and Vegetables</th>\n",
       "      <th>Item_Type_Hard Drinks</th>\n",
       "      <th>Item_Type_Health and Hygiene</th>\n",
       "      <th>Item_Type_Household</th>\n",
       "      <th>Item_Type_Meat</th>\n",
       "      <th>Item_Type_Others</th>\n",
       "      <th>Item_Type_Seafood</th>\n",
       "      <th>Item_Type_Snack Foods</th>\n",
       "      <th>Item_Type_Soft Drinks</th>\n",
       "      <th>Item_Type_Starchy Foods</th>\n",
       "      <th>Outlet_Type_Supermarket Type1</th>\n",
       "      <th>Outlet_Type_Supermarket Type2</th>\n",
       "      <th>Outlet_Type_Supermarket Type3</th>\n",
       "    </tr>\n",
       "  </thead>\n",
       "  <tbody>\n",
       "    <tr>\n",
       "      <th>0</th>\n",
       "      <td>1</td>\n",
       "      <td>2</td>\n",
       "      <td>1</td>\n",
       "      <td>0</td>\n",
       "      <td>0</td>\n",
       "      <td>0</td>\n",
       "      <td>0</td>\n",
       "      <td>0</td>\n",
       "      <td>0</td>\n",
       "      <td>1</td>\n",
       "      <td>0</td>\n",
       "      <td>0</td>\n",
       "      <td>0</td>\n",
       "      <td>0</td>\n",
       "      <td>0</td>\n",
       "      <td>0</td>\n",
       "      <td>0</td>\n",
       "      <td>0</td>\n",
       "      <td>0</td>\n",
       "      <td>0</td>\n",
       "      <td>0</td>\n",
       "      <td>1</td>\n",
       "      <td>0</td>\n",
       "      <td>0</td>\n",
       "    </tr>\n",
       "    <tr>\n",
       "      <th>1</th>\n",
       "      <td>1</td>\n",
       "      <td>0</td>\n",
       "      <td>0</td>\n",
       "      <td>1</td>\n",
       "      <td>0</td>\n",
       "      <td>0</td>\n",
       "      <td>0</td>\n",
       "      <td>0</td>\n",
       "      <td>0</td>\n",
       "      <td>0</td>\n",
       "      <td>0</td>\n",
       "      <td>0</td>\n",
       "      <td>0</td>\n",
       "      <td>0</td>\n",
       "      <td>0</td>\n",
       "      <td>0</td>\n",
       "      <td>0</td>\n",
       "      <td>0</td>\n",
       "      <td>0</td>\n",
       "      <td>1</td>\n",
       "      <td>0</td>\n",
       "      <td>0</td>\n",
       "      <td>1</td>\n",
       "      <td>0</td>\n",
       "    </tr>\n",
       "    <tr>\n",
       "      <th>2</th>\n",
       "      <td>1</td>\n",
       "      <td>2</td>\n",
       "      <td>1</td>\n",
       "      <td>0</td>\n",
       "      <td>0</td>\n",
       "      <td>0</td>\n",
       "      <td>0</td>\n",
       "      <td>0</td>\n",
       "      <td>0</td>\n",
       "      <td>0</td>\n",
       "      <td>0</td>\n",
       "      <td>0</td>\n",
       "      <td>0</td>\n",
       "      <td>0</td>\n",
       "      <td>0</td>\n",
       "      <td>1</td>\n",
       "      <td>0</td>\n",
       "      <td>0</td>\n",
       "      <td>0</td>\n",
       "      <td>0</td>\n",
       "      <td>0</td>\n",
       "      <td>1</td>\n",
       "      <td>0</td>\n",
       "      <td>0</td>\n",
       "    </tr>\n",
       "    <tr>\n",
       "      <th>3</th>\n",
       "      <td>1</td>\n",
       "      <td>0</td>\n",
       "      <td>0</td>\n",
       "      <td>1</td>\n",
       "      <td>0</td>\n",
       "      <td>0</td>\n",
       "      <td>0</td>\n",
       "      <td>0</td>\n",
       "      <td>0</td>\n",
       "      <td>0</td>\n",
       "      <td>0</td>\n",
       "      <td>1</td>\n",
       "      <td>0</td>\n",
       "      <td>0</td>\n",
       "      <td>0</td>\n",
       "      <td>0</td>\n",
       "      <td>0</td>\n",
       "      <td>0</td>\n",
       "      <td>0</td>\n",
       "      <td>0</td>\n",
       "      <td>0</td>\n",
       "      <td>0</td>\n",
       "      <td>0</td>\n",
       "      <td>0</td>\n",
       "    </tr>\n",
       "    <tr>\n",
       "      <th>4</th>\n",
       "      <td>2</td>\n",
       "      <td>0</td>\n",
       "      <td>1</td>\n",
       "      <td>0</td>\n",
       "      <td>0</td>\n",
       "      <td>0</td>\n",
       "      <td>0</td>\n",
       "      <td>0</td>\n",
       "      <td>0</td>\n",
       "      <td>0</td>\n",
       "      <td>0</td>\n",
       "      <td>0</td>\n",
       "      <td>0</td>\n",
       "      <td>0</td>\n",
       "      <td>1</td>\n",
       "      <td>0</td>\n",
       "      <td>0</td>\n",
       "      <td>0</td>\n",
       "      <td>0</td>\n",
       "      <td>0</td>\n",
       "      <td>0</td>\n",
       "      <td>1</td>\n",
       "      <td>0</td>\n",
       "      <td>0</td>\n",
       "    </tr>\n",
       "  </tbody>\n",
       "</table>\n",
       "</div>"
      ],
      "text/plain": [
       "   Outlet_Size  Outlet_Location_Type  Item_Fat_Content_Low Fat  \\\n",
       "0            1                     2                         1   \n",
       "1            1                     0                         0   \n",
       "2            1                     2                         1   \n",
       "3            1                     0                         0   \n",
       "4            2                     0                         1   \n",
       "\n",
       "   Item_Fat_Content_Regular  Item_Fat_Content_low fat  Item_Fat_Content_reg  \\\n",
       "0                         0                         0                     0   \n",
       "1                         1                         0                     0   \n",
       "2                         0                         0                     0   \n",
       "3                         1                         0                     0   \n",
       "4                         0                         0                     0   \n",
       "\n",
       "   Item_Type_Breads  Item_Type_Breakfast  Item_Type_Canned  Item_Type_Dairy  \\\n",
       "0                 0                    0                 0                1   \n",
       "1                 0                    0                 0                0   \n",
       "2                 0                    0                 0                0   \n",
       "3                 0                    0                 0                0   \n",
       "4                 0                    0                 0                0   \n",
       "\n",
       "   Item_Type_Frozen Foods  Item_Type_Fruits and Vegetables  \\\n",
       "0                       0                                0   \n",
       "1                       0                                0   \n",
       "2                       0                                0   \n",
       "3                       0                                1   \n",
       "4                       0                                0   \n",
       "\n",
       "   Item_Type_Hard Drinks  Item_Type_Health and Hygiene  Item_Type_Household  \\\n",
       "0                      0                             0                    0   \n",
       "1                      0                             0                    0   \n",
       "2                      0                             0                    0   \n",
       "3                      0                             0                    0   \n",
       "4                      0                             0                    1   \n",
       "\n",
       "   Item_Type_Meat  Item_Type_Others  Item_Type_Seafood  Item_Type_Snack Foods  \\\n",
       "0               0                 0                  0                      0   \n",
       "1               0                 0                  0                      0   \n",
       "2               1                 0                  0                      0   \n",
       "3               0                 0                  0                      0   \n",
       "4               0                 0                  0                      0   \n",
       "\n",
       "   Item_Type_Soft Drinks  Item_Type_Starchy Foods  \\\n",
       "0                      0                        0   \n",
       "1                      1                        0   \n",
       "2                      0                        0   \n",
       "3                      0                        0   \n",
       "4                      0                        0   \n",
       "\n",
       "   Outlet_Type_Supermarket Type1  Outlet_Type_Supermarket Type2  \\\n",
       "0                              1                              0   \n",
       "1                              0                              1   \n",
       "2                              1                              0   \n",
       "3                              0                              0   \n",
       "4                              1                              0   \n",
       "\n",
       "   Outlet_Type_Supermarket Type3  \n",
       "0                              0  \n",
       "1                              0  \n",
       "2                              0  \n",
       "3                              0  \n",
       "4                              0  "
      ]
     },
     "execution_count": 56,
     "metadata": {},
     "output_type": "execute_result"
    }
   ],
   "source": [
    "cat_dummies = pd.get_dummies(cat_data, drop_first=True)\n",
    "cat_dummies.head()"
   ]
  },
  {
   "cell_type": "code",
   "execution_count": 57,
   "metadata": {},
   "outputs": [
    {
     "data": {
      "text/plain": [
       "8523"
      ]
     },
     "execution_count": 57,
     "metadata": {},
     "output_type": "execute_result"
    }
   ],
   "source": [
    "df.shape[0]"
   ]
  },
  {
   "cell_type": "code",
   "execution_count": 177,
   "metadata": {},
   "outputs": [],
   "source": [
    "final_data = pd.concat([num_data,cat_dummies], axis = 1)\n",
    "\n",
    "# final_data = cat_dummies.drop([\"Unnamed: 0\",\"X\"],axis = 1)\n",
    "\n",
    "train = final_data.iloc[:8523,:]\n",
    "test = final_data[df.shape[0]:]"
   ]
  },
  {
   "cell_type": "markdown",
   "metadata": {},
   "source": [
    "# MODEL BUILDING"
   ]
  },
  {
   "cell_type": "code",
   "execution_count": 59,
   "metadata": {},
   "outputs": [],
   "source": [
    "X= train\n",
    "Y = target_bx\n",
    "\n",
    "from sklearn.model_selection import train_test_split\n",
    "\n",
    "x_train,x_test,y_train,y_test = train_test_split(X,Y,test_size = 0.3)"
   ]
  },
  {
   "cell_type": "markdown",
   "metadata": {},
   "source": [
    "### Random Forest"
   ]
  },
  {
   "cell_type": "code",
   "execution_count": 270,
   "metadata": {},
   "outputs": [],
   "source": [
    "from sklearn.ensemble import RandomForestRegressor\n",
    "model = RandomForestRegressor()\n",
    "model.fit(x_train,y_train)\n",
    "pred = model.predict(x_train)"
   ]
  },
  {
   "cell_type": "code",
   "execution_count": 66,
   "metadata": {},
   "outputs": [],
   "source": [
    "def RMSE(predictions, targets):\n",
    "\n",
    "    differences = predictions - targets                       # the DIFFERENCEs.\n",
    "\n",
    "    differences_squared = differences ** 2                    # the SQUAREs of ^\n",
    "\n",
    "    mean_of_differences_squared = differences_squared.mean()  # the MEAN of ^\n",
    "\n",
    "    rmse_val = np.sqrt(mean_of_differences_squared)           # ROOT of ^\n",
    "\n",
    "    return rmse_val "
   ]
  },
  {
   "cell_type": "code",
   "execution_count": 280,
   "metadata": {},
   "outputs": [
    {
     "data": {
      "text/plain": [
       "2.60921302881374"
      ]
     },
     "execution_count": 280,
     "metadata": {},
     "output_type": "execute_result"
    }
   ],
   "source": [
    "from sklearn import metrics\n",
    "\n",
    "#training accuracy\n",
    "\n",
    "rmse = RMSE(pred,y_train)\n",
    "rmse"
   ]
  },
  {
   "cell_type": "code",
   "execution_count": 282,
   "metadata": {},
   "outputs": [
    {
     "data": {
      "text/plain": [
       "6.8256786632855135"
      ]
     },
     "execution_count": 282,
     "metadata": {},
     "output_type": "execute_result"
    }
   ],
   "source": [
    "#test accuracy\n",
    "pred = model.predict(x_test)\n",
    "rmse = RMSE(pred,y_test)\n",
    "rmse"
   ]
  },
  {
   "cell_type": "markdown",
   "metadata": {},
   "source": [
    "### XG Boost"
   ]
  },
  {
   "cell_type": "code",
   "execution_count": 283,
   "metadata": {},
   "outputs": [
    {
     "name": "stdout",
     "output_type": "stream",
     "text": [
      "4.0804114210431575\n"
     ]
    }
   ],
   "source": [
    "from xgboost import XGBRegressor\n",
    "model = XGBRegressor()\n",
    "model.fit(x_train,y_train)\n",
    "pred = model.predict(x_train)\n",
    "\n",
    "rmse = np.sqrt(metrics.mean_squared_error(y_train,pred))\n",
    "print(rmse)"
   ]
  },
  {
   "cell_type": "code",
   "execution_count": 284,
   "metadata": {},
   "outputs": [
    {
     "name": "stdout",
     "output_type": "stream",
     "text": [
      "6.962619898479108\n"
     ]
    }
   ],
   "source": [
    "pred = model.predict(x_test)\n",
    "rmse = np.sqrt(metrics.mean_squared_error(y_test,pred))\n",
    "print(rmse)"
   ]
  },
  {
   "cell_type": "code",
   "execution_count": 285,
   "metadata": {},
   "outputs": [],
   "source": [
    "from sklearn.model_selection import RandomizedSearchCV\n",
    "\n",
    "# n_estimators = [100, 500, 900, 1100, 1500]\n",
    "# max_depth = [2, 3, 5, 10, 15]\n",
    "# booster = ['gbtree', 'gblinear']\n",
    "# base_score = [0.25, 0.5, 0.75, 0.99]\n",
    "# learning_rate = [0.05, 0.1, 0.15, 0.20]\n",
    "# min_child_weight = [1, 2, 3, 4]\n",
    "\n",
    "# hyperparameter_grid = {'n_estimators': n_estimators, 'max_depth': max_depth,\n",
    "#                        'learning_rate' : learning_rate, 'min_child_weight' : min_child_weight, \n",
    "#                        'booster' : booster, 'base_score' : base_score\n",
    "#                       }\n",
    "\n",
    "# xgb_model = XGBRegressor()\n",
    "\n",
    "# xgb_cv = RandomizedSearchCV(estimator=xgb_model, param_distributions=hyperparameter_grid,\n",
    "#                                cv=5, n_iter=100,n_jobs =-1, iid=True,\n",
    "#                                verbose=1, return_train_score = True, random_state=42)\n",
    "# xgb_cv.fit(x_train,y_train)"
   ]
  },
  {
   "cell_type": "code",
   "execution_count": 286,
   "metadata": {},
   "outputs": [],
   "source": [
    "# xgb_cv.best_estimator_"
   ]
  },
  {
   "cell_type": "markdown",
   "metadata": {},
   "source": [
    "### Tuned XGBoost"
   ]
  },
  {
   "cell_type": "code",
   "execution_count": 287,
   "metadata": {},
   "outputs": [
    {
     "name": "stdout",
     "output_type": "stream",
     "text": [
      "6.30254769481785\n"
     ]
    }
   ],
   "source": [
    "model = XGBRegressor(base_score=0.5, booster='gbtree', colsample_bylevel=1,\n",
    "             colsample_bynode=1, colsample_bytree=1, gamma=0, gpu_id=-1,\n",
    "             importance_type='gain', interaction_constraints=None,\n",
    "             learning_rate=0.1, max_delta_step=0, max_depth=3,\n",
    "             min_child_weight=1, monotone_constraints=None,\n",
    "             n_estimators=100, n_jobs=0, num_parallel_tree=1,\n",
    "             objective='reg:squarederror', random_state=0, reg_alpha=0,\n",
    "             reg_lambda=1, scale_pos_weight=1, subsample=1, tree_method=None,\n",
    "             validate_parameters=False, verbosity=None)\n",
    "model.fit(x_train,y_train)\n",
    "pred = model.predict(x_train)\n",
    "\n",
    "rmse = np.sqrt(metrics.mean_squared_error(y_train,pred))\n",
    "print(rmse)"
   ]
  },
  {
   "cell_type": "code",
   "execution_count": 288,
   "metadata": {},
   "outputs": [
    {
     "name": "stdout",
     "output_type": "stream",
     "text": [
      "6.487879606813459\n"
     ]
    }
   ],
   "source": [
    "pred = model.predict(x_test)\n",
    "\n",
    "rmse = np.sqrt(metrics.mean_squared_error(y_test,pred))\n",
    "print(rmse)"
   ]
  },
  {
   "cell_type": "markdown",
   "metadata": {},
   "source": [
    "# Feature Selection"
   ]
  },
  {
   "cell_type": "markdown",
   "metadata": {},
   "source": [
    "#### Chi Square selection"
   ]
  },
  {
   "cell_type": "code",
   "execution_count": 290,
   "metadata": {},
   "outputs": [
    {
     "data": {
      "text/plain": [
       "' values must be non negative'"
      ]
     },
     "execution_count": 290,
     "metadata": {},
     "output_type": "execute_result"
    }
   ],
   "source": [
    "# from sklearn.feature_selection import SelectKBest\n",
    "# from sklearn.feature_selection import chi2\n",
    "\n",
    "# chi_selector = SelectKBest(chi2,k = 15)\n",
    "# chi_selector.fit(x_train,y_train)\n",
    "# chi_support = chi_selector.get_support()\n",
    "# chi_feature = X.loc[:,chi_support].columns.tolist()\n",
    "# print(chi_feature)\n",
    "\n",
    "\n",
    "\"\"\" values must be non negative\"\"\""
   ]
  },
  {
   "cell_type": "markdown",
   "metadata": {},
   "source": [
    "#### RFE Selector"
   ]
  },
  {
   "cell_type": "code",
   "execution_count": 324,
   "metadata": {},
   "outputs": [
    {
     "name": "stdout",
     "output_type": "stream",
     "text": [
      "Fitting estimator with 28 features.\n",
      "Fitting estimator with 18 features.\n"
     ]
    },
    {
     "data": {
      "text/plain": [
       "RFE(estimator=Lasso(alpha=1.0, copy_X=True, fit_intercept=True, max_iter=1000,\n",
       "                    normalize=False, positive=False, precompute=False,\n",
       "                    random_state=None, selection='cyclic', tol=0.0001,\n",
       "                    warm_start=False),\n",
       "    n_features_to_select=15, step=10, verbose=5)"
      ]
     },
     "execution_count": 324,
     "metadata": {},
     "output_type": "execute_result"
    }
   ],
   "source": [
    "from sklearn.feature_selection import RFE\n",
    "from sklearn.linear_model import Lasso\n",
    "rfe_selector = RFE(estimator=Lasso(), n_features_to_select=15, step=10, verbose=5)\n",
    "rfe_selector.fit(X,Y)"
   ]
  },
  {
   "cell_type": "code",
   "execution_count": 325,
   "metadata": {},
   "outputs": [
    {
     "name": "stdout",
     "output_type": "stream",
     "text": [
      "['Item_Visibility', 'Item_MRP', 'Outlet_Size', 'Outlet_Location_Type', 'Item_Fat_Content_Low Fat', 'Item_Fat_Content_Regular', 'Item_Fat_Content_low fat', 'Item_Type_Breads', 'Item_Type_Breakfast', 'Item_Type_Canned', 'Item_Type_Dairy', 'Item_Type_Frozen Foods', 'Outlet_Type_Supermarket Type1', 'Outlet_Type_Supermarket Type2', 'Outlet_Type_Supermarket Type3']\n"
     ]
    }
   ],
   "source": [
    "rfe_support = rfe_selector.get_support()\n",
    "rfe_feature = X.loc[:,rfe_support].columns.tolist()\n",
    "print(rfe_feature)"
   ]
  },
  {
   "cell_type": "markdown",
   "metadata": {},
   "source": [
    "#### Model with RFE Features"
   ]
  },
  {
   "cell_type": "code",
   "execution_count": 336,
   "metadata": {},
   "outputs": [
    {
     "name": "stdout",
     "output_type": "stream",
     "text": [
      "6.5107095352396325\n",
      "6.519232385820358\n"
     ]
    },
    {
     "data": {
      "text/plain": [
       "XGBRegressor(base_score=0.5, booster='gbtree', colsample_bylevel=1,\n",
       "             colsample_bynode=1, colsample_bytree=1, gamma=0, gpu_id=-1,\n",
       "             importance_type='gain', interaction_constraints=None,\n",
       "             learning_rate=0.1, max_delta_step=0, max_depth=2,\n",
       "             min_child_weight=1, missing=nan, monotone_constraints=None,\n",
       "             n_estimators=100, n_jobs=0, num_parallel_tree=1,\n",
       "             objective='reg:squarederror', random_state=0, reg_alpha=0,\n",
       "             reg_lambda=1, scale_pos_weight=1, subsample=1, tree_method=None,\n",
       "             validate_parameters=False, verbosity=None)"
      ]
     },
     "execution_count": 336,
     "metadata": {},
     "output_type": "execute_result"
    }
   ],
   "source": [
    "x_train_rfe = x_train[rfe_feature]\n",
    "x_test_rfe = x_test[rfe_feature]\n",
    "\n",
    "model = XGBRegressor(base_score=0.5, booster='gbtree', colsample_bylevel=1,\n",
    "             colsample_bynode=1, colsample_bytree=1, gamma=0, gpu_id=-1,\n",
    "             importance_type='gain', interaction_constraints=None,\n",
    "             learning_rate=0.1, max_delta_step=0, max_depth=2,\n",
    "             min_child_weight=1, monotone_constraints=None,\n",
    "             n_estimators=100, n_jobs=0, num_parallel_tree=1,\n",
    "             objective='reg:squarederror', random_state=0, reg_alpha=0,\n",
    "             reg_lambda=1, scale_pos_weight=1, subsample=1, tree_method=None,\n",
    "             validate_parameters=False, verbosity=None)\n",
    "model.fit(x_train_rfe,y_train)\n",
    "pred = model.predict(x_train_rfe)\n",
    "\n",
    "rmse = np.sqrt(metrics.mean_squared_error(y_train,pred))\n",
    "print(rmse)\n",
    "\n",
    "pred = model.predict(x_test_rfe)\n",
    "rmse = np.sqrt(metrics.mean_squared_error(y_test,pred))\n",
    "print(rmse)\n",
    "\n",
    "x_rfe = X[rfe_feature]\n",
    "\n",
    "model.fit(x_rfe,Y)"
   ]
  },
  {
   "cell_type": "code",
   "execution_count": 330,
   "metadata": {},
   "outputs": [
    {
     "data": {
      "text/html": [
       "<div>\n",
       "<style scoped>\n",
       "    .dataframe tbody tr th:only-of-type {\n",
       "        vertical-align: middle;\n",
       "    }\n",
       "\n",
       "    .dataframe tbody tr th {\n",
       "        vertical-align: top;\n",
       "    }\n",
       "\n",
       "    .dataframe thead th {\n",
       "        text-align: right;\n",
       "    }\n",
       "</style>\n",
       "<table border=\"1\" class=\"dataframe\">\n",
       "  <thead>\n",
       "    <tr style=\"text-align: right;\">\n",
       "      <th></th>\n",
       "      <th>Item_Visibility</th>\n",
       "      <th>Item_MRP</th>\n",
       "      <th>Outlet_Size</th>\n",
       "      <th>Outlet_Location_Type</th>\n",
       "      <th>Item_Fat_Content_Low Fat</th>\n",
       "      <th>Item_Fat_Content_Regular</th>\n",
       "      <th>Item_Fat_Content_low fat</th>\n",
       "      <th>Item_Type_Breads</th>\n",
       "      <th>Item_Type_Breakfast</th>\n",
       "      <th>Item_Type_Canned</th>\n",
       "      <th>Item_Type_Dairy</th>\n",
       "      <th>Item_Type_Frozen Foods</th>\n",
       "      <th>Outlet_Type_Supermarket Type1</th>\n",
       "      <th>Outlet_Type_Supermarket Type2</th>\n",
       "      <th>Outlet_Type_Supermarket Type3</th>\n",
       "    </tr>\n",
       "  </thead>\n",
       "  <tbody>\n",
       "    <tr>\n",
       "      <th>8120</th>\n",
       "      <td>0.457493</td>\n",
       "      <td>-1.438563</td>\n",
       "      <td>1</td>\n",
       "      <td>0</td>\n",
       "      <td>1</td>\n",
       "      <td>0</td>\n",
       "      <td>0</td>\n",
       "      <td>0</td>\n",
       "      <td>0</td>\n",
       "      <td>0</td>\n",
       "      <td>0</td>\n",
       "      <td>0</td>\n",
       "      <td>0</td>\n",
       "      <td>0</td>\n",
       "      <td>1</td>\n",
       "    </tr>\n",
       "    <tr>\n",
       "      <th>2301</th>\n",
       "      <td>-1.203947</td>\n",
       "      <td>-0.296799</td>\n",
       "      <td>1</td>\n",
       "      <td>0</td>\n",
       "      <td>1</td>\n",
       "      <td>0</td>\n",
       "      <td>0</td>\n",
       "      <td>0</td>\n",
       "      <td>0</td>\n",
       "      <td>0</td>\n",
       "      <td>0</td>\n",
       "      <td>0</td>\n",
       "      <td>0</td>\n",
       "      <td>1</td>\n",
       "      <td>0</td>\n",
       "    </tr>\n",
       "    <tr>\n",
       "      <th>4474</th>\n",
       "      <td>-0.420095</td>\n",
       "      <td>-0.652096</td>\n",
       "      <td>0</td>\n",
       "      <td>2</td>\n",
       "      <td>1</td>\n",
       "      <td>0</td>\n",
       "      <td>0</td>\n",
       "      <td>0</td>\n",
       "      <td>0</td>\n",
       "      <td>0</td>\n",
       "      <td>0</td>\n",
       "      <td>0</td>\n",
       "      <td>1</td>\n",
       "      <td>0</td>\n",
       "      <td>0</td>\n",
       "    </tr>\n",
       "    <tr>\n",
       "      <th>6583</th>\n",
       "      <td>1.308408</td>\n",
       "      <td>0.241580</td>\n",
       "      <td>2</td>\n",
       "      <td>0</td>\n",
       "      <td>1</td>\n",
       "      <td>0</td>\n",
       "      <td>0</td>\n",
       "      <td>0</td>\n",
       "      <td>0</td>\n",
       "      <td>0</td>\n",
       "      <td>0</td>\n",
       "      <td>0</td>\n",
       "      <td>1</td>\n",
       "      <td>0</td>\n",
       "      <td>0</td>\n",
       "    </tr>\n",
       "    <tr>\n",
       "      <th>1034</th>\n",
       "      <td>0.463108</td>\n",
       "      <td>-1.792512</td>\n",
       "      <td>1</td>\n",
       "      <td>0</td>\n",
       "      <td>0</td>\n",
       "      <td>0</td>\n",
       "      <td>0</td>\n",
       "      <td>0</td>\n",
       "      <td>0</td>\n",
       "      <td>0</td>\n",
       "      <td>0</td>\n",
       "      <td>1</td>\n",
       "      <td>0</td>\n",
       "      <td>0</td>\n",
       "      <td>0</td>\n",
       "    </tr>\n",
       "  </tbody>\n",
       "</table>\n",
       "</div>"
      ],
      "text/plain": [
       "      Item_Visibility  Item_MRP  Outlet_Size  Outlet_Location_Type  \\\n",
       "8120         0.457493 -1.438563            1                     0   \n",
       "2301        -1.203947 -0.296799            1                     0   \n",
       "4474        -0.420095 -0.652096            0                     2   \n",
       "6583         1.308408  0.241580            2                     0   \n",
       "1034         0.463108 -1.792512            1                     0   \n",
       "\n",
       "      Item_Fat_Content_Low Fat  Item_Fat_Content_Regular  \\\n",
       "8120                         1                         0   \n",
       "2301                         1                         0   \n",
       "4474                         1                         0   \n",
       "6583                         1                         0   \n",
       "1034                         0                         0   \n",
       "\n",
       "      Item_Fat_Content_low fat  Item_Type_Breads  Item_Type_Breakfast  \\\n",
       "8120                         0                 0                    0   \n",
       "2301                         0                 0                    0   \n",
       "4474                         0                 0                    0   \n",
       "6583                         0                 0                    0   \n",
       "1034                         0                 0                    0   \n",
       "\n",
       "      Item_Type_Canned  Item_Type_Dairy  Item_Type_Frozen Foods  \\\n",
       "8120                 0                0                       0   \n",
       "2301                 0                0                       0   \n",
       "4474                 0                0                       0   \n",
       "6583                 0                0                       0   \n",
       "1034                 0                0                       1   \n",
       "\n",
       "      Outlet_Type_Supermarket Type1  Outlet_Type_Supermarket Type2  \\\n",
       "8120                              0                              0   \n",
       "2301                              0                              1   \n",
       "4474                              1                              0   \n",
       "6583                              1                              0   \n",
       "1034                              0                              0   \n",
       "\n",
       "      Outlet_Type_Supermarket Type3  \n",
       "8120                              1  \n",
       "2301                              0  \n",
       "4474                              0  \n",
       "6583                              0  \n",
       "1034                              0  "
      ]
     },
     "execution_count": 330,
     "metadata": {},
     "output_type": "execute_result"
    }
   ],
   "source": [
    "x_train_rfe.head()"
   ]
  },
  {
   "cell_type": "markdown",
   "metadata": {},
   "source": [
    "#### Treebased selector"
   ]
  },
  {
   "cell_type": "code",
   "execution_count": 60,
   "metadata": {},
   "outputs": [
    {
     "data": {
      "text/plain": [
       "SelectFromModel(estimator=RandomForestRegressor(bootstrap=True, ccp_alpha=0.0,\n",
       "                                                criterion='mse', max_depth=None,\n",
       "                                                max_features='auto',\n",
       "                                                max_leaf_nodes=None,\n",
       "                                                max_samples=None,\n",
       "                                                min_impurity_decrease=0.0,\n",
       "                                                min_impurity_split=None,\n",
       "                                                min_samples_leaf=1,\n",
       "                                                min_samples_split=2,\n",
       "                                                min_weight_fraction_leaf=0.0,\n",
       "                                                n_estimators=100, n_jobs=None,\n",
       "                                                oob_score=False,\n",
       "                                                random_state=None, verbose=0,\n",
       "                                                warm_start=False),\n",
       "                max_features=15, norm_order=1, prefit=False, threshold=None)"
      ]
     },
     "execution_count": 60,
     "metadata": {},
     "output_type": "execute_result"
    }
   ],
   "source": [
    "from sklearn.feature_selection import SelectFromModel\n",
    "from sklearn.ensemble import RandomForestRegressor\n",
    "\n",
    "embeded_rf_selector = SelectFromModel(RandomForestRegressor(n_estimators=100), max_features=15)\n",
    "embeded_rf_selector.fit(X,Y)"
   ]
  },
  {
   "cell_type": "code",
   "execution_count": 347,
   "metadata": {},
   "outputs": [
    {
     "name": "stdout",
     "output_type": "stream",
     "text": [
      "['Item_Weight', 'Item_Visibility', 'Item_MRP', 'Outlet_Age', 'Outlet_Type_Supermarket Type1', 'Outlet_Type_Supermarket Type2', 'Outlet_Type_Supermarket Type3']\n"
     ]
    }
   ],
   "source": [
    "embeded_rf_support = embeded_rf_selector.get_support()\n",
    "embeded_rf_feature = X.loc[:,embeded_rf_support].columns.tolist()\n",
    "print(embeded_rf_feature)"
   ]
  },
  {
   "cell_type": "code",
   "execution_count": 80,
   "metadata": {},
   "outputs": [
    {
     "name": "stdout",
     "output_type": "stream",
     "text": [
      "6.275568429677341\n",
      "6.439476183282035\n"
     ]
    },
    {
     "data": {
      "text/plain": [
       "'last'"
      ]
     },
     "execution_count": 80,
     "metadata": {},
     "output_type": "execute_result"
    }
   ],
   "source": [
    "x_train_tb = x_train[['Item_Weight', 'Item_Visibility', 'Item_MRP', 'Outlet_Age', 'Outlet_Type_Supermarket Type1',\n",
    "                      'Outlet_Type_Supermarket Type2', 'Outlet_Type_Supermarket Type3']]\n",
    "x_test_tb = x_test[['Item_Weight', 'Item_Visibility', 'Item_MRP', 'Outlet_Age', 'Outlet_Type_Supermarket Type1',\n",
    "                    'Outlet_Type_Supermarket Type2', 'Outlet_Type_Supermarket Type3']]\n",
    "\n",
    "from xgboost import XGBRegressor\n",
    "from sklearn import metrics\n",
    "\n",
    "xgb_reg = XGBRegressor(base_score=0.5, booster='gbtree', colsample_bylevel=1,\n",
    "             colsample_bynode=1, colsample_bytree=1, gamma=0, gpu_id=-1,\n",
    "             importance_type='gain', interaction_constraints=None,\n",
    "             learning_rate=0.1, max_delta_step=0, max_depth=3,\n",
    "             min_child_weight=1, monotone_constraints=None,\n",
    "             n_estimators=100, n_jobs=0, num_parallel_tree=1,\n",
    "             objective='reg:squarederror', random_state=0, reg_alpha=0,\n",
    "             reg_lambda=1, scale_pos_weight=1, subsample=1, tree_method=None,\n",
    "             validate_parameters=False, verbosity=None)\n",
    "xgb_reg.fit(x_train_tb,y_train)\n",
    "pred = xgb_reg.predict(x_train_tb)\n",
    "\n",
    "rmse = np.sqrt(metrics.mean_squared_error(y_train,pred))\n",
    "print(rmse)\n",
    "\n",
    "pred = model.predict(x_test_tb)\n",
    "rmse = np.sqrt(metrics.mean_squared_error(y_test,pred))\n",
    "print(rmse)\n",
    "\n",
    "x_tb= X[['Item_Weight', 'Item_Visibility', 'Item_MRP', 'Outlet_Age', 'Outlet_Type_Supermarket Type1',\n",
    "         'Outlet_Type_Supermarket Type2', 'Outlet_Type_Supermarket Type3']]\n",
    "\n",
    "xgb_reg.fit(x_tb,Y)\n",
    "\n",
    "\n",
    "\"\"\"last\"\"\""
   ]
  },
  {
   "cell_type": "code",
   "execution_count": 81,
   "metadata": {},
   "outputs": [],
   "source": [
    "xgb_reg = XGBRegressor(base_score=0.5, booster='gbtree', colsample_bylevel=1,\n",
    "             colsample_bynode=1, colsample_bytree=1, gamma=0, gpu_id=-1,\n",
    "             importance_type='gain', interaction_constraints=None,\n",
    "             learning_rate=0.1, max_delta_step=0, max_depth=3,\n",
    "             min_child_weight=1, monotone_constraints=None,\n",
    "             n_estimators=100, n_jobs=0, num_parallel_tree=1,\n",
    "             objective='reg:squarederror', random_state=0, reg_alpha=0,\n",
    "             reg_lambda=1, scale_pos_weight=1, subsample=1, tree_method=None,\n",
    "             validate_parameters=False, verbosity=None)"
   ]
  },
  {
   "cell_type": "markdown",
   "metadata": {},
   "source": [
    "### Tuning RF With Selected Feature"
   ]
  },
  {
   "cell_type": "markdown",
   "metadata": {},
   "source": [
    "##### Orginal Model"
   ]
  },
  {
   "cell_type": "code",
   "execution_count": 67,
   "metadata": {},
   "outputs": [
    {
     "name": "stdout",
     "output_type": "stream",
     "text": [
      "2.590515778075998\n",
      "7.019724336746747\n"
     ]
    }
   ],
   "source": [
    "model = RandomForestRegressor()\n",
    "model.fit(x_train_tb,y_train)\n",
    "pred = model.predict(x_train_tb)\n",
    "print(RMSE(pred,y_train))\n",
    "predts = model.predict(x_test_tb)\n",
    "print(RMSE(predts,y_test))"
   ]
  },
  {
   "cell_type": "markdown",
   "metadata": {},
   "source": [
    "##### Tuning"
   ]
  },
  {
   "cell_type": "code",
   "execution_count": 381,
   "metadata": {},
   "outputs": [
    {
     "name": "stdout",
     "output_type": "stream",
     "text": [
      "{'n_estimators': [200, 400, 600, 800, 1000, 1200, 1400, 1600, 1800, 2000], 'max_features': ['auto', 'sqrt'], 'max_depth': [10, 20, 30, 40, 50, 60, 70, 80, 90, 100, 110, None, 3, 5], 'min_samples_split': [2, 5, 10], 'min_samples_leaf': [1, 2, 4], 'bootstrap': [True, False]}\n"
     ]
    }
   ],
   "source": [
    "# Number of trees in random forest\n",
    "n_estimators = [int(x) for x in np.linspace(start = 200, stop = 2000, num = 10)]\n",
    "# Number of features to consider at every split\n",
    "max_features = ['auto', 'sqrt']\n",
    "# Maximum number of levels in tree\n",
    "max_depth = [int(x) for x in np.linspace(10, 110, num = 11)]\n",
    "max_depth.append(None)\n",
    "max_depth.append(3)\n",
    "max_depth.append(5)\n",
    "# Minimum number of samples required to split a node\n",
    "min_samples_split = [2, 5, 10]\n",
    "# Minimum number of samples required at each leaf node\n",
    "min_samples_leaf = [1, 2, 4]\n",
    "# Method of selecting samples for training each tree\n",
    "bootstrap = [True, False]\n",
    "# Create the random grid\n",
    "random_grid = {'n_estimators': n_estimators,\n",
    "               'max_features': max_features,\n",
    "               'max_depth': max_depth,\n",
    "               'min_samples_split': min_samples_split,\n",
    "               'min_samples_leaf': min_samples_leaf,\n",
    "               'bootstrap': bootstrap}\n",
    "print(random_grid)"
   ]
  },
  {
   "cell_type": "code",
   "execution_count": 382,
   "metadata": {},
   "outputs": [
    {
     "name": "stdout",
     "output_type": "stream",
     "text": [
      "Fitting 5 folds for each of 100 candidates, totalling 500 fits\n"
     ]
    },
    {
     "name": "stderr",
     "output_type": "stream",
     "text": [
      "[Parallel(n_jobs=-1)]: Using backend LokyBackend with 8 concurrent workers.\n",
      "[Parallel(n_jobs=-1)]: Done  25 tasks      | elapsed:   46.3s\n",
      "[Parallel(n_jobs=-1)]: Done 146 tasks      | elapsed:  8.8min\n",
      "[Parallel(n_jobs=-1)]: Done 349 tasks      | elapsed: 19.0min\n",
      "[Parallel(n_jobs=-1)]: Done 500 out of 500 | elapsed: 28.8min finished\n"
     ]
    },
    {
     "data": {
      "text/plain": [
       "RandomForestRegressor(bootstrap=True, ccp_alpha=0.0, criterion='mse',\n",
       "                      max_depth=5, max_features='auto', max_leaf_nodes=None,\n",
       "                      max_samples=None, min_impurity_decrease=0.0,\n",
       "                      min_impurity_split=None, min_samples_leaf=1,\n",
       "                      min_samples_split=2, min_weight_fraction_leaf=0.0,\n",
       "                      n_estimators=1400, n_jobs=None, oob_score=False,\n",
       "                      random_state=None, verbose=0, warm_start=False)"
      ]
     },
     "execution_count": 382,
     "metadata": {},
     "output_type": "execute_result"
    }
   ],
   "source": [
    "# Use the random grid to search for best hyperparameters\n",
    "# First create the base model to tune\n",
    "rf = RandomForestRegressor()\n",
    "\"\"\"Random search of parameters, using 3 fold cross validation, \n",
    "search across 100 different combinations, and use all available cores\"\"\"\n",
    "rccv = RandomizedSearchCV(estimator = rf, param_distributions = random_grid,\n",
    "                          n_iter = 100, cv = 5, verbose=2, random_state=42, n_jobs = -1)\n",
    "\n",
    "rccv.fit(x_train_tb,y_train)\n",
    "\n",
    "rccv.best_estimator_\n",
    "# best_params = rccv.best_params_\n",
    "# best_score = rccv.best_score_\n",
    "\n",
    "# print(best_params)\n",
    "# print(best_score)"
   ]
  },
  {
   "cell_type": "code",
   "execution_count": 68,
   "metadata": {},
   "outputs": [
    {
     "name": "stdout",
     "output_type": "stream",
     "text": [
      "6.379865273612518\n",
      "6.553843527806594\n"
     ]
    }
   ],
   "source": [
    "model = RandomForestRegressor(bootstrap=True, ccp_alpha=0.0, criterion='mse',\n",
    "                      max_depth=5, max_features='auto', max_leaf_nodes=None,\n",
    "                      max_samples=None, min_impurity_decrease=0.0,\n",
    "                      min_impurity_split=None, min_samples_leaf=1,\n",
    "                      min_samples_split=2, min_weight_fraction_leaf=0.0,\n",
    "                      n_estimators=1400, n_jobs=None, oob_score=False,\n",
    "                      random_state=None, verbose=0, warm_start=False)\n",
    "model.fit(x_train_tb,y_train)\n",
    "pred = model.predict(x_train_tb)\n",
    "\n",
    "rmse = np.sqrt(metrics.mean_squared_error(y_train,pred))\n",
    "print(rmse)\n",
    "\n",
    "pred = model.predict(x_test_tb)\n",
    "rmse = np.sqrt(metrics.mean_squared_error(y_test,pred))\n",
    "print(rmse)"
   ]
  },
  {
   "cell_type": "code",
   "execution_count": 82,
   "metadata": {},
   "outputs": [],
   "source": [
    "rf_reg = RandomForestRegressor(bootstrap=True, ccp_alpha=0.0, criterion='mse',\n",
    "                      max_depth=5, max_features='auto', max_leaf_nodes=None,\n",
    "                      max_samples=None, min_impurity_decrease=0.0,\n",
    "                      min_impurity_split=None, min_samples_leaf=1,\n",
    "                      min_samples_split=2, min_weight_fraction_leaf=0.0,\n",
    "                      n_estimators=1400, n_jobs=None, oob_score=False,\n",
    "                      random_state=None, verbose=0, warm_start=False)\n",
    "# rf_reg.fit(x_tb,Y)"
   ]
  },
  {
   "cell_type": "markdown",
   "metadata": {},
   "source": [
    "# ANN"
   ]
  },
  {
   "cell_type": "code",
   "execution_count": 144,
   "metadata": {},
   "outputs": [
    {
     "name": "stderr",
     "output_type": "stream",
     "text": [
      "Using TensorFlow backend.\n"
     ]
    }
   ],
   "source": [
    "from keras import backend as K\n",
    "def root_mean_squared_error(y_true, y_pred):\n",
    "        return K.sqrt(K.mean(K.square(y_pred - y_true)))"
   ]
  },
  {
   "cell_type": "code",
   "execution_count": 202,
   "metadata": {
    "scrolled": true
   },
   "outputs": [
    {
     "name": "stderr",
     "output_type": "stream",
     "text": [
      "C:\\Users\\tamil\\Anaconda3\\lib\\site-packages\\ipykernel_launcher.py:14: UserWarning: Update your `Dense` call to the Keras 2 API: `Dense(units=7, activation=\"relu\", input_dim=7, kernel_initializer=\"he_uniform\")`\n",
      "  \n",
      "C:\\Users\\tamil\\Anaconda3\\lib\\site-packages\\ipykernel_launcher.py:17: UserWarning: Update your `Dense` call to the Keras 2 API: `Dense(activation=\"relu\", units=4, kernel_initializer=\"he_uniform\")`\n",
      "C:\\Users\\tamil\\Anaconda3\\lib\\site-packages\\ipykernel_launcher.py:20: UserWarning: Update your `Dense` call to the Keras 2 API: `Dense(activation=\"relu\", units=4, kernel_initializer=\"he_uniform\")`\n",
      "C:\\Users\\tamil\\Anaconda3\\lib\\site-packages\\ipykernel_launcher.py:23: UserWarning: Update your `Dense` call to the Keras 2 API: `Dense(activation=\"relu\", units=4, kernel_initializer=\"he_uniform\")`\n",
      "C:\\Users\\tamil\\Anaconda3\\lib\\site-packages\\ipykernel_launcher.py:26: UserWarning: Update your `Dense` call to the Keras 2 API: `Dense(activation=\"relu\", units=4, kernel_initializer=\"he_uniform\")`\n",
      "C:\\Users\\tamil\\Anaconda3\\lib\\site-packages\\ipykernel_launcher.py:29: UserWarning: Update your `Dense` call to the Keras 2 API: `Dense(activation=\"relu\", units=4, kernel_initializer=\"he_uniform\")`\n",
      "C:\\Users\\tamil\\Anaconda3\\lib\\site-packages\\ipykernel_launcher.py:35: UserWarning: Update your `Dense` call to the Keras 2 API: `Dense(units=1, kernel_initializer=\"he_uniform\")`\n",
      "C:\\Users\\tamil\\Anaconda3\\lib\\site-packages\\ipykernel_launcher.py:43: UserWarning: The `nb_epoch` argument in `fit` has been renamed `epochs`.\n"
     ]
    },
    {
     "name": "stdout",
     "output_type": "stream",
     "text": [
      "Train on 5966 samples, validate on 2557 samples\n",
      "Epoch 1/1000\n",
      "5966/5966 [==============================] - 1s 130us/step - loss: 36.6496 - val_loss: 35.8928\n",
      "Epoch 2/1000\n",
      "5966/5966 [==============================] - 1s 109us/step - loss: 35.3231 - val_loss: 33.9585\n",
      "Epoch 3/1000\n",
      "5966/5966 [==============================] - 1s 140us/step - loss: 32.5059 - val_loss: 30.0600\n",
      "Epoch 4/1000\n",
      "5966/5966 [==============================] - 1s 164us/step - loss: 27.5151 - val_loss: 23.9545\n",
      "Epoch 5/1000\n",
      "5966/5966 [==============================] - 1s 168us/step - loss: 21.1390 - val_loss: 18.1850\n",
      "Epoch 6/1000\n",
      "5966/5966 [==============================] - 1s 162us/step - loss: 16.4158 - val_loss: 14.6946\n",
      "Epoch 7/1000\n",
      "5966/5966 [==============================] - 1s 170us/step - loss: 13.3090 - val_loss: 12.1639\n",
      "Epoch 8/1000\n",
      "5966/5966 [==============================] - 1s 171us/step - loss: 11.2380 - val_loss: 10.6752\n",
      "Epoch 9/1000\n",
      "5966/5966 [==============================] - 1s 169us/step - loss: 10.1506 - val_loss: 9.9730\n",
      "Epoch 10/1000\n",
      "5966/5966 [==============================] - 1s 183us/step - loss: 9.6628 - val_loss: 9.5875\n",
      "Epoch 11/1000\n",
      "5966/5966 [==============================] - 1s 184us/step - loss: 9.3278 - val_loss: 9.3011\n",
      "Epoch 12/1000\n",
      "5966/5966 [==============================] - 1s 183us/step - loss: 9.0631 - val_loss: 9.0697\n",
      "Epoch 13/1000\n",
      "5966/5966 [==============================] - 1s 138us/step - loss: 8.8315 - val_loss: 8.8678\n",
      "Epoch 14/1000\n",
      "5966/5966 [==============================] - 1s 131us/step - loss: 8.6507 - val_loss: 8.6883\n",
      "Epoch 15/1000\n",
      "5966/5966 [==============================] - 1s 132us/step - loss: 8.4755 - val_loss: 8.5367\n",
      "Epoch 16/1000\n",
      "5966/5966 [==============================] - 1s 130us/step - loss: 8.3081 - val_loss: 8.3740\n",
      "Epoch 17/1000\n",
      "5966/5966 [==============================] - 1s 129us/step - loss: 8.1382 - val_loss: 8.2548\n",
      "Epoch 18/1000\n",
      "5966/5966 [==============================] - 1s 141us/step - loss: 8.0172 - val_loss: 8.1031\n",
      "Epoch 19/1000\n",
      "5966/5966 [==============================] - 1s 157us/step - loss: 7.8977 - val_loss: 7.9867\n",
      "Epoch 20/1000\n",
      "5966/5966 [==============================] - 1s 149us/step - loss: 7.7865 - val_loss: 7.8626\n",
      "Epoch 21/1000\n",
      "5966/5966 [==============================] - 1s 138us/step - loss: 7.6787 - val_loss: 7.7577\n",
      "Epoch 22/1000\n",
      "5966/5966 [==============================] - 1s 155us/step - loss: 7.6034 - val_loss: 7.6666\n",
      "Epoch 23/1000\n",
      "5966/5966 [==============================] - 1s 130us/step - loss: 7.4797 - val_loss: 7.5714\n",
      "Epoch 24/1000\n",
      "5966/5966 [==============================] - 1s 137us/step - loss: 7.3819 - val_loss: 7.4926\n",
      "Epoch 25/1000\n",
      "5966/5966 [==============================] - 1s 142us/step - loss: 7.3280 - val_loss: 7.4040\n",
      "Epoch 26/1000\n",
      "5966/5966 [==============================] - 1s 139us/step - loss: 7.2412 - val_loss: 7.3356\n",
      "Epoch 27/1000\n",
      "5966/5966 [==============================] - 1s 176us/step - loss: 7.1780 - val_loss: 7.2799\n",
      "Epoch 28/1000\n",
      "5966/5966 [==============================] - 1s 156us/step - loss: 7.1279 - val_loss: 7.2151\n",
      "Epoch 29/1000\n",
      "5966/5966 [==============================] - 1s 156us/step - loss: 7.0758 - val_loss: 7.1625\n",
      "Epoch 30/1000\n",
      "5966/5966 [==============================] - 1s 153us/step - loss: 7.0562 - val_loss: 7.1124\n",
      "Epoch 31/1000\n",
      "5966/5966 [==============================] - 1s 145us/step - loss: 6.9863 - val_loss: 7.0699\n",
      "Epoch 32/1000\n",
      "5966/5966 [==============================] - 1s 133us/step - loss: 6.9465 - val_loss: 7.0264\n",
      "Epoch 33/1000\n",
      "5966/5966 [==============================] - 1s 137us/step - loss: 6.9023 - val_loss: 7.0237\n",
      "Epoch 34/1000\n",
      "5966/5966 [==============================] - 1s 143us/step - loss: 6.8922 - val_loss: 6.9574\n",
      "Epoch 35/1000\n",
      "5966/5966 [==============================] - 1s 182us/step - loss: 6.8637 - val_loss: 6.9222\n",
      "Epoch 36/1000\n",
      "5966/5966 [==============================] - 1s 200us/step - loss: 6.8226 - val_loss: 6.8942\n",
      "Epoch 37/1000\n",
      "5966/5966 [==============================] - 1s 241us/step - loss: 6.7919 - val_loss: 6.8564\n",
      "Epoch 38/1000\n",
      "5966/5966 [==============================] - 1s 247us/step - loss: 6.7712 - val_loss: 6.8435\n",
      "Epoch 39/1000\n",
      "5966/5966 [==============================] - 1s 163us/step - loss: 6.7634 - val_loss: 6.8045\n",
      "Epoch 40/1000\n",
      "5966/5966 [==============================] - 1s 165us/step - loss: 6.7184 - val_loss: 6.7845\n",
      "Epoch 41/1000\n",
      "5966/5966 [==============================] - 1s 201us/step - loss: 6.7099 - val_loss: 6.7575\n",
      "Epoch 42/1000\n",
      "5966/5966 [==============================] - 1s 157us/step - loss: 6.7122 - val_loss: 6.7442\n",
      "Epoch 43/1000\n",
      "5966/5966 [==============================] - 1s 167us/step - loss: 6.6765 - val_loss: 6.7234\n",
      "Epoch 44/1000\n",
      "5966/5966 [==============================] - 1s 155us/step - loss: 6.6544 - val_loss: 6.7023\n",
      "Epoch 45/1000\n",
      "5966/5966 [==============================] - 1s 165us/step - loss: 6.6459 - val_loss: 6.6897\n",
      "Epoch 46/1000\n",
      "5966/5966 [==============================] - 1s 153us/step - loss: 6.6319 - val_loss: 6.6678\n",
      "Epoch 47/1000\n",
      "5966/5966 [==============================] - 1s 150us/step - loss: 6.6233 - val_loss: 6.6623\n",
      "Epoch 48/1000\n",
      "5966/5966 [==============================] - 1s 147us/step - loss: 6.6087 - val_loss: 6.6523\n",
      "Epoch 49/1000\n",
      "5966/5966 [==============================] - 1s 156us/step - loss: 6.5992 - val_loss: 6.6286\n",
      "Epoch 50/1000\n",
      "5966/5966 [==============================] - 1s 154us/step - loss: 6.5719 - val_loss: 6.6168\n",
      "Epoch 51/1000\n",
      "5966/5966 [==============================] - 1s 129us/step - loss: 6.5824 - val_loss: 6.6114\n",
      "Epoch 52/1000\n",
      "5966/5966 [==============================] - 1s 153us/step - loss: 6.5719 - val_loss: 6.6134\n",
      "Epoch 53/1000\n",
      "5966/5966 [==============================] - 1s 184us/step - loss: 6.5809 - val_loss: 6.5991\n",
      "Epoch 54/1000\n",
      "5966/5966 [==============================] - 1s 158us/step - loss: 6.5737 - val_loss: 6.5787\n",
      "Epoch 55/1000\n",
      "5966/5966 [==============================] - 1s 143us/step - loss: 6.5517 - val_loss: 6.5688\n",
      "Epoch 56/1000\n",
      "5966/5966 [==============================] - 1s 175us/step - loss: 6.5375 - val_loss: 6.5597\n",
      "Epoch 57/1000\n",
      "5966/5966 [==============================] - 1s 152us/step - loss: 6.5296 - val_loss: 6.5541\n",
      "Epoch 58/1000\n",
      "5966/5966 [==============================] - 1s 131us/step - loss: 6.5311 - val_loss: 6.5569\n",
      "Epoch 59/1000\n",
      "5966/5966 [==============================] - 1s 129us/step - loss: 6.5044 - val_loss: 6.5366\n",
      "Epoch 60/1000\n",
      "5966/5966 [==============================] - 1s 127us/step - loss: 6.5229 - val_loss: 6.5303\n",
      "Epoch 61/1000\n",
      "5966/5966 [==============================] - 1s 136us/step - loss: 6.5189 - val_loss: 6.5418\n",
      "Epoch 62/1000\n",
      "5966/5966 [==============================] - 1s 127us/step - loss: 6.4873 - val_loss: 6.5256\n",
      "Epoch 63/1000\n",
      "5966/5966 [==============================] - 1s 128us/step - loss: 6.5193 - val_loss: 6.5160\n",
      "Epoch 64/1000\n",
      "5966/5966 [==============================] - 1s 124us/step - loss: 6.4942 - val_loss: 6.5136\n",
      "Epoch 65/1000\n",
      "5966/5966 [==============================] - 1s 131us/step - loss: 6.4926 - val_loss: 6.5046\n",
      "Epoch 66/1000\n",
      "5966/5966 [==============================] - 1s 129us/step - loss: 6.4777 - val_loss: 6.5010\n",
      "Epoch 67/1000\n",
      "5966/5966 [==============================] - 1s 127us/step - loss: 6.4801 - val_loss: 6.4932\n",
      "Epoch 68/1000\n",
      "5966/5966 [==============================] - 1s 124us/step - loss: 6.4812 - val_loss: 6.4864\n",
      "Epoch 69/1000\n",
      "5966/5966 [==============================] - 1s 128us/step - loss: 6.4835 - val_loss: 6.4945\n",
      "Epoch 70/1000\n",
      "5966/5966 [==============================] - 1s 129us/step - loss: 6.4703 - val_loss: 6.4778\n",
      "Epoch 71/1000\n",
      "5966/5966 [==============================] - 1s 125us/step - loss: 6.4779 - val_loss: 6.4743\n",
      "Epoch 72/1000\n",
      "5966/5966 [==============================] - 1s 126us/step - loss: 6.4522 - val_loss: 6.4755\n",
      "Epoch 73/1000\n",
      "5966/5966 [==============================] - 1s 126us/step - loss: 6.4660 - val_loss: 6.4803\n",
      "Epoch 74/1000\n",
      "5966/5966 [==============================] - 1s 124us/step - loss: 6.4518 - val_loss: 6.4927\n",
      "Epoch 75/1000\n",
      "5966/5966 [==============================] - 1s 127us/step - loss: 6.4855 - val_loss: 6.4599\n",
      "Epoch 76/1000\n",
      "5966/5966 [==============================] - 1s 125us/step - loss: 6.4526 - val_loss: 6.4600\n",
      "Epoch 77/1000\n",
      "5966/5966 [==============================] - 1s 130us/step - loss: 6.4433 - val_loss: 6.4618\n",
      "Epoch 78/1000\n",
      "5966/5966 [==============================] - 1s 129us/step - loss: 6.4532 - val_loss: 6.4510\n",
      "Epoch 79/1000\n",
      "5966/5966 [==============================] - 1s 129us/step - loss: 6.4432 - val_loss: 6.4519\n",
      "Epoch 80/1000\n",
      "5966/5966 [==============================] - 1s 130us/step - loss: 6.4444 - val_loss: 6.4490\n",
      "Epoch 81/1000\n",
      "5966/5966 [==============================] - 1s 137us/step - loss: 6.4393 - val_loss: 6.4437\n",
      "Epoch 82/1000\n",
      "5966/5966 [==============================] - 1s 129us/step - loss: 6.4450 - val_loss: 6.4396\n",
      "Epoch 83/1000\n",
      "5966/5966 [==============================] - 1s 130us/step - loss: 6.4176 - val_loss: 6.4378\n",
      "Epoch 84/1000\n",
      "5966/5966 [==============================] - 1s 126us/step - loss: 6.4314 - val_loss: 6.4352\n",
      "Epoch 85/1000\n",
      "5966/5966 [==============================] - 1s 125us/step - loss: 6.4390 - val_loss: 6.4351\n",
      "Epoch 86/1000\n",
      "5966/5966 [==============================] - 1s 125us/step - loss: 6.4312 - val_loss: 6.4322\n",
      "Epoch 87/1000\n",
      "5966/5966 [==============================] - 1s 120us/step - loss: 6.4289 - val_loss: 6.4296\n",
      "Epoch 88/1000\n",
      "5966/5966 [==============================] - 1s 122us/step - loss: 6.4521 - val_loss: 6.4312\n",
      "Epoch 89/1000\n",
      "5966/5966 [==============================] - 1s 132us/step - loss: 6.4308 - val_loss: 6.4252\n",
      "Epoch 90/1000\n",
      "5966/5966 [==============================] - 1s 164us/step - loss: 6.4332 - val_loss: 6.4338\n",
      "Epoch 91/1000\n",
      "5966/5966 [==============================] - 1s 239us/step - loss: 6.4153 - val_loss: 6.4351\n",
      "Epoch 92/1000\n",
      "5966/5966 [==============================] - 1s 236us/step - loss: 6.4360 - val_loss: 6.4213\n",
      "Epoch 93/1000\n",
      "5966/5966 [==============================] - 1s 164us/step - loss: 6.4098 - val_loss: 6.4191\n",
      "Epoch 94/1000\n",
      "5966/5966 [==============================] - 1s 177us/step - loss: 6.4165 - val_loss: 6.4194\n",
      "Epoch 95/1000\n",
      "5966/5966 [==============================] - 1s 144us/step - loss: 6.4332 - val_loss: 6.4400\n",
      "Epoch 96/1000\n",
      "5966/5966 [==============================] - 1s 131us/step - loss: 6.4286 - val_loss: 6.4191\n",
      "Epoch 97/1000\n",
      "5966/5966 [==============================] - 1s 131us/step - loss: 6.4065 - val_loss: 6.4121\n",
      "Epoch 98/1000\n",
      "5966/5966 [==============================] - 1s 134us/step - loss: 6.4088 - val_loss: 6.4124\n",
      "Epoch 99/1000\n",
      "5966/5966 [==============================] - 1s 148us/step - loss: 6.4356 - val_loss: 6.4097\n",
      "Epoch 100/1000\n",
      "5966/5966 [==============================] - 1s 151us/step - loss: 6.4235 - val_loss: 6.4076\n",
      "Epoch 101/1000\n",
      "5966/5966 [==============================] - 1s 174us/step - loss: 6.4031 - val_loss: 6.4033\n",
      "Epoch 102/1000\n",
      "5966/5966 [==============================] - 1s 180us/step - loss: 6.4046 - val_loss: 6.4053\n",
      "Epoch 103/1000\n",
      "5966/5966 [==============================] - 1s 172us/step - loss: 6.4208 - val_loss: 6.4014\n",
      "Epoch 104/1000\n",
      "5966/5966 [==============================] - 1s 144us/step - loss: 6.4171 - val_loss: 6.4000\n",
      "Epoch 105/1000\n",
      "5966/5966 [==============================] - 1s 147us/step - loss: 6.4122 - val_loss: 6.3997\n",
      "Epoch 106/1000\n",
      "5966/5966 [==============================] - 1s 135us/step - loss: 6.4099 - val_loss: 6.4179\n",
      "Epoch 107/1000\n",
      "5966/5966 [==============================] - 1s 152us/step - loss: 6.4039 - val_loss: 6.4018\n",
      "Epoch 108/1000\n",
      "5966/5966 [==============================] - 1s 143us/step - loss: 6.4176 - val_loss: 6.3931\n",
      "Epoch 109/1000\n",
      "5966/5966 [==============================] - 1s 127us/step - loss: 6.4007 - val_loss: 6.3919\n",
      "Epoch 110/1000\n",
      "5966/5966 [==============================] - 1s 123us/step - loss: 6.4072 - val_loss: 6.3988\n",
      "Epoch 111/1000\n",
      "5966/5966 [==============================] - 1s 124us/step - loss: 6.4151 - val_loss: 6.3895\n",
      "Epoch 112/1000\n",
      "5966/5966 [==============================] - 1s 119us/step - loss: 6.4010 - val_loss: 6.3885\n",
      "Epoch 113/1000\n",
      "5966/5966 [==============================] - 1s 122us/step - loss: 6.4018 - val_loss: 6.3959\n",
      "Epoch 114/1000\n",
      "5966/5966 [==============================] - 1s 122us/step - loss: 6.4055 - val_loss: 6.3860\n",
      "Epoch 115/1000\n",
      "5966/5966 [==============================] - 1s 125us/step - loss: 6.4034 - val_loss: 6.3851\n",
      "Epoch 116/1000\n",
      "5966/5966 [==============================] - 1s 124us/step - loss: 6.3988 - val_loss: 6.3836\n",
      "Epoch 117/1000\n",
      "5966/5966 [==============================] - 1s 122us/step - loss: 6.3861 - val_loss: 6.3896\n",
      "Epoch 118/1000\n",
      "5966/5966 [==============================] - 1s 124us/step - loss: 6.4007 - val_loss: 6.3825\n",
      "Epoch 119/1000\n",
      "5966/5966 [==============================] - 1s 122us/step - loss: 6.4013 - val_loss: 6.3818\n",
      "Epoch 120/1000\n",
      "5966/5966 [==============================] - 1s 121us/step - loss: 6.3861 - val_loss: 6.3793\n",
      "Epoch 121/1000\n",
      "5966/5966 [==============================] - 1s 122us/step - loss: 6.3890 - val_loss: 6.3924\n",
      "Epoch 122/1000\n",
      "5966/5966 [==============================] - 1s 123us/step - loss: 6.4040 - val_loss: 6.3932\n",
      "Epoch 123/1000\n",
      "5966/5966 [==============================] - 1s 121us/step - loss: 6.3767 - val_loss: 6.3782\n",
      "Epoch 124/1000\n",
      "5966/5966 [==============================] - 1s 122us/step - loss: 6.3885 - val_loss: 6.3836\n",
      "Epoch 125/1000\n",
      "5966/5966 [==============================] - 1s 127us/step - loss: 6.3827 - val_loss: 6.3748\n",
      "Epoch 126/1000\n",
      "5966/5966 [==============================] - 1s 122us/step - loss: 6.3805 - val_loss: 6.4073\n",
      "Epoch 127/1000\n",
      "5966/5966 [==============================] - 1s 120us/step - loss: 6.3857 - val_loss: 6.3733\n",
      "Epoch 128/1000\n",
      "5966/5966 [==============================] - 1s 122us/step - loss: 6.4000 - val_loss: 6.3892\n",
      "Epoch 129/1000\n",
      "5966/5966 [==============================] - 1s 122us/step - loss: 6.3975 - val_loss: 6.3714\n",
      "Epoch 130/1000\n",
      "5966/5966 [==============================] - 1s 126us/step - loss: 6.3735 - val_loss: 6.3793\n",
      "Epoch 131/1000\n",
      "5966/5966 [==============================] - 1s 147us/step - loss: 6.3813 - val_loss: 6.3708\n",
      "Epoch 132/1000\n",
      "5966/5966 [==============================] - 1s 148us/step - loss: 6.3749 - val_loss: 6.3730\n",
      "Epoch 133/1000\n",
      "5966/5966 [==============================] - 1s 137us/step - loss: 6.3880 - val_loss: 6.3767\n",
      "Epoch 134/1000\n",
      "5966/5966 [==============================] - 1s 132us/step - loss: 6.3760 - val_loss: 6.3727\n",
      "Epoch 135/1000\n",
      "5966/5966 [==============================] - 1s 135us/step - loss: 6.3940 - val_loss: 6.3796\n",
      "Epoch 136/1000\n",
      "5966/5966 [==============================] - 1s 131us/step - loss: 6.3592 - val_loss: 6.3674\n",
      "Epoch 137/1000\n",
      "5966/5966 [==============================] - 1s 122us/step - loss: 6.3860 - val_loss: 6.3669\n",
      "Epoch 138/1000\n",
      "5966/5966 [==============================] - 1s 121us/step - loss: 6.3671 - val_loss: 6.3630\n",
      "Epoch 139/1000\n",
      "5966/5966 [==============================] - 1s 119us/step - loss: 6.3802 - val_loss: 6.3842\n",
      "Epoch 140/1000\n",
      "5966/5966 [==============================] - 1s 120us/step - loss: 6.3835 - val_loss: 6.3654\n",
      "Epoch 141/1000\n",
      "5966/5966 [==============================] - 1s 120us/step - loss: 6.3625 - val_loss: 6.3699\n",
      "Epoch 142/1000\n",
      "5966/5966 [==============================] - 1s 120us/step - loss: 6.3678 - val_loss: 6.3610\n",
      "Epoch 143/1000\n",
      "5966/5966 [==============================] - 1s 120us/step - loss: 6.3699 - val_loss: 6.3628\n",
      "Epoch 144/1000\n",
      "5966/5966 [==============================] - 1s 121us/step - loss: 6.3809 - val_loss: 6.3651\n",
      "Epoch 145/1000\n",
      "5966/5966 [==============================] - 1s 139us/step - loss: 6.3880 - val_loss: 6.3711\n",
      "Epoch 146/1000\n",
      "5966/5966 [==============================] - 1s 134us/step - loss: 6.3879 - val_loss: 6.3657\n",
      "Epoch 147/1000\n",
      "5966/5966 [==============================] - 1s 128us/step - loss: 6.3756 - val_loss: 6.3622\n",
      "Epoch 148/1000\n",
      "5966/5966 [==============================] - 1s 124us/step - loss: 6.3735 - val_loss: 6.3585\n",
      "Epoch 149/1000\n",
      "5966/5966 [==============================] - 1s 125us/step - loss: 6.3563 - val_loss: 6.3602\n",
      "Epoch 150/1000\n",
      "5966/5966 [==============================] - 1s 123us/step - loss: 6.3739 - val_loss: 6.3604\n",
      "Epoch 151/1000\n",
      "5966/5966 [==============================] - 1s 125us/step - loss: 6.3730 - val_loss: 6.3684\n",
      "Epoch 152/1000\n",
      "5966/5966 [==============================] - 1s 126us/step - loss: 6.3739 - val_loss: 6.3563\n",
      "Epoch 153/1000\n",
      "5966/5966 [==============================] - 1s 125us/step - loss: 6.3629 - val_loss: 6.3643\n",
      "Epoch 154/1000\n",
      "5966/5966 [==============================] - 1s 123us/step - loss: 6.3752 - val_loss: 6.3589\n",
      "Epoch 155/1000\n",
      "5966/5966 [==============================] - 1s 119us/step - loss: 6.3646 - val_loss: 6.3583\n",
      "Epoch 156/1000\n",
      "5966/5966 [==============================] - 1s 128us/step - loss: 6.3740 - val_loss: 6.3543\n",
      "Epoch 157/1000\n",
      "5966/5966 [==============================] - 1s 122us/step - loss: 6.3710 - val_loss: 6.3928\n",
      "Epoch 158/1000\n",
      "5966/5966 [==============================] - 1s 130us/step - loss: 6.3715 - val_loss: 6.3539\n",
      "Epoch 159/1000\n",
      "5966/5966 [==============================] - 1s 135us/step - loss: 6.3707 - val_loss: 6.3512\n",
      "Epoch 160/1000\n",
      "5966/5966 [==============================] - 1s 118us/step - loss: 6.3689 - val_loss: 6.3569\n",
      "Epoch 161/1000\n",
      "5966/5966 [==============================] - 1s 115us/step - loss: 6.3652 - val_loss: 6.3576\n",
      "Epoch 162/1000\n",
      "5966/5966 [==============================] - 1s 115us/step - loss: 6.3725 - val_loss: 6.3629\n",
      "Epoch 163/1000\n",
      "5966/5966 [==============================] - 1s 114us/step - loss: 6.3705 - val_loss: 6.3515\n",
      "Epoch 164/1000\n",
      "5966/5966 [==============================] - 1s 115us/step - loss: 6.3705 - val_loss: 6.3515\n",
      "Epoch 165/1000\n",
      "5966/5966 [==============================] - 1s 118us/step - loss: 6.3741 - val_loss: 6.3532\n",
      "Epoch 166/1000\n",
      "5966/5966 [==============================] - 1s 114us/step - loss: 6.3607 - val_loss: 6.3549\n",
      "Epoch 167/1000\n",
      "5966/5966 [==============================] - 1s 112us/step - loss: 6.3545 - val_loss: 6.3501\n",
      "Epoch 168/1000\n",
      "5966/5966 [==============================] - 1s 113us/step - loss: 6.3764 - val_loss: 6.3582\n",
      "Epoch 169/1000\n",
      "5966/5966 [==============================] - 1s 114us/step - loss: 6.3686 - val_loss: 6.3736\n",
      "Epoch 170/1000\n",
      "5966/5966 [==============================] - 1s 113us/step - loss: 6.3698 - val_loss: 6.3485\n",
      "Epoch 171/1000\n",
      "5966/5966 [==============================] - 1s 118us/step - loss: 6.3553 - val_loss: 6.3527\n",
      "Epoch 172/1000\n",
      "5966/5966 [==============================] - 1s 116us/step - loss: 6.3600 - val_loss: 6.3471\n",
      "Epoch 173/1000\n",
      "5966/5966 [==============================] - 1s 112us/step - loss: 6.3731 - val_loss: 6.3534\n",
      "Epoch 174/1000\n",
      "5966/5966 [==============================] - 1s 134us/step - loss: 6.3615 - val_loss: 6.3488\n",
      "Epoch 175/1000\n",
      "5966/5966 [==============================] - 1s 119us/step - loss: 6.3605 - val_loss: 6.3472\n",
      "Epoch 176/1000\n",
      "5966/5966 [==============================] - 1s 110us/step - loss: 6.3545 - val_loss: 6.3484\n",
      "Epoch 177/1000\n",
      "5966/5966 [==============================] - 1s 117us/step - loss: 6.3582 - val_loss: 6.3455\n",
      "Epoch 178/1000\n",
      "5966/5966 [==============================] - 1s 116us/step - loss: 6.3633 - val_loss: 6.3463\n",
      "Epoch 179/1000\n",
      "5966/5966 [==============================] - 1s 113us/step - loss: 6.3665 - val_loss: 6.3473\n",
      "Epoch 180/1000\n",
      "5966/5966 [==============================] - 1s 112us/step - loss: 6.3550 - val_loss: 6.3453\n",
      "Epoch 181/1000\n",
      "5966/5966 [==============================] - 1s 113us/step - loss: 6.3686 - val_loss: 6.3502\n",
      "Epoch 182/1000\n",
      "5966/5966 [==============================] - 1s 113us/step - loss: 6.3515 - val_loss: 6.3476\n",
      "Epoch 183/1000\n",
      "5966/5966 [==============================] - 1s 112us/step - loss: 6.3660 - val_loss: 6.3440\n",
      "Epoch 184/1000\n",
      "5966/5966 [==============================] - 1s 112us/step - loss: 6.3636 - val_loss: 6.3426\n",
      "Epoch 185/1000\n",
      "5966/5966 [==============================] - 1s 112us/step - loss: 6.3620 - val_loss: 6.3476\n",
      "Epoch 186/1000\n",
      "5966/5966 [==============================] - 1s 123us/step - loss: 6.3667 - val_loss: 6.3573\n",
      "Epoch 187/1000\n",
      "5966/5966 [==============================] - 1s 126us/step - loss: 6.3436 - val_loss: 6.3448\n",
      "Epoch 188/1000\n",
      "5966/5966 [==============================] - 1s 114us/step - loss: 6.3514 - val_loss: 6.3426\n",
      "Epoch 189/1000\n",
      "5966/5966 [==============================] - 1s 111us/step - loss: 6.3659 - val_loss: 6.3426\n",
      "Epoch 190/1000\n",
      "5966/5966 [==============================] - 1s 112us/step - loss: 6.3456 - val_loss: 6.3456\n",
      "Epoch 191/1000\n",
      "5966/5966 [==============================] - 1s 111us/step - loss: 6.3485 - val_loss: 6.3421\n",
      "Epoch 192/1000\n",
      "5966/5966 [==============================] - 1s 114us/step - loss: 6.3514 - val_loss: 6.3445\n",
      "Epoch 193/1000\n",
      "5966/5966 [==============================] - 1s 135us/step - loss: 6.3745 - val_loss: 6.3434\n",
      "Epoch 194/1000\n",
      "5966/5966 [==============================] - 1s 117us/step - loss: 6.3571 - val_loss: 6.3415\n",
      "Epoch 195/1000\n",
      "5966/5966 [==============================] - 1s 119us/step - loss: 6.3586 - val_loss: 6.3413\n",
      "Epoch 196/1000\n",
      "5966/5966 [==============================] - 1s 115us/step - loss: 6.3648 - val_loss: 6.3426\n",
      "Epoch 197/1000\n",
      "5966/5966 [==============================] - 1s 110us/step - loss: 6.3638 - val_loss: 6.3445\n",
      "Epoch 198/1000\n",
      "5966/5966 [==============================] - 1s 111us/step - loss: 6.3606 - val_loss: 6.3437\n",
      "Epoch 199/1000\n",
      "5966/5966 [==============================] - 1s 117us/step - loss: 6.3545 - val_loss: 6.3474\n",
      "Epoch 200/1000\n",
      "5966/5966 [==============================] - 1s 113us/step - loss: 6.3464 - val_loss: 6.3422\n",
      "Epoch 201/1000\n",
      "5966/5966 [==============================] - 1s 113us/step - loss: 6.3533 - val_loss: 6.3400\n",
      "Epoch 202/1000\n",
      "5966/5966 [==============================] - 1s 111us/step - loss: 6.3690 - val_loss: 6.3412\n",
      "Epoch 203/1000\n",
      "5966/5966 [==============================] - 1s 110us/step - loss: 6.3672 - val_loss: 6.3412\n",
      "Epoch 204/1000\n",
      "5966/5966 [==============================] - 1s 109us/step - loss: 6.3503 - val_loss: 6.3550\n",
      "Epoch 205/1000\n",
      "5966/5966 [==============================] - 1s 111us/step - loss: 6.3616 - val_loss: 6.3380\n",
      "Epoch 206/1000\n",
      "5966/5966 [==============================] - 1s 109us/step - loss: 6.3481 - val_loss: 6.3386\n",
      "Epoch 207/1000\n",
      "5966/5966 [==============================] - 1s 108us/step - loss: 6.3628 - val_loss: 6.3497\n",
      "Epoch 208/1000\n",
      "5966/5966 [==============================] - 1s 108us/step - loss: 6.3461 - val_loss: 6.3595\n",
      "Epoch 209/1000\n",
      "5966/5966 [==============================] - 1s 111us/step - loss: 6.3622 - val_loss: 6.3380\n",
      "Epoch 210/1000\n",
      "5966/5966 [==============================] - 1s 109us/step - loss: 6.3444 - val_loss: 6.3435\n",
      "Epoch 211/1000\n",
      "5966/5966 [==============================] - 1s 108us/step - loss: 6.3521 - val_loss: 6.3461\n",
      "Epoch 212/1000\n",
      "5966/5966 [==============================] - 1s 110us/step - loss: 6.3467 - val_loss: 6.3438\n",
      "Epoch 213/1000\n",
      "5966/5966 [==============================] - 1s 109us/step - loss: 6.3712 - val_loss: 6.3436\n",
      "Epoch 214/1000\n",
      "5966/5966 [==============================] - 1s 108us/step - loss: 6.3670 - val_loss: 6.3522\n",
      "Epoch 215/1000\n",
      "5966/5966 [==============================] - 1s 109us/step - loss: 6.3505 - val_loss: 6.3494\n",
      "Epoch 216/1000\n",
      "5966/5966 [==============================] - 1s 109us/step - loss: 6.3483 - val_loss: 6.3394\n",
      "Epoch 217/1000\n",
      "5966/5966 [==============================] - 1s 111us/step - loss: 6.3446 - val_loss: 6.3424\n",
      "Epoch 218/1000\n",
      "5966/5966 [==============================] - 1s 111us/step - loss: 6.3574 - val_loss: 6.3410\n",
      "Epoch 219/1000\n",
      "5966/5966 [==============================] - 1s 109us/step - loss: 6.3550 - val_loss: 6.3490\n",
      "Epoch 220/1000\n",
      "5966/5966 [==============================] - 1s 106us/step - loss: 6.3499 - val_loss: 6.3371\n",
      "Epoch 221/1000\n",
      "5966/5966 [==============================] - 1s 106us/step - loss: 6.3487 - val_loss: 6.3551\n",
      "Epoch 222/1000\n",
      "5966/5966 [==============================] - 1s 111us/step - loss: 6.3440 - val_loss: 6.3504\n",
      "Epoch 223/1000\n",
      "5966/5966 [==============================] - 1s 109us/step - loss: 6.3545 - val_loss: 6.3475\n",
      "Epoch 224/1000\n",
      "5966/5966 [==============================] - 1s 112us/step - loss: 6.3548 - val_loss: 6.3441\n",
      "Epoch 225/1000\n",
      "5966/5966 [==============================] - 1s 107us/step - loss: 6.3480 - val_loss: 6.3607\n",
      "Epoch 226/1000\n",
      "5966/5966 [==============================] - 1s 107us/step - loss: 6.3446 - val_loss: 6.3380\n",
      "Epoch 227/1000\n",
      "5966/5966 [==============================] - 1s 115us/step - loss: 6.3516 - val_loss: 6.3447\n",
      "Epoch 228/1000\n",
      "5966/5966 [==============================] - 1s 123us/step - loss: 6.3500 - val_loss: 6.3391\n",
      "Epoch 229/1000\n",
      "5966/5966 [==============================] - 1s 119us/step - loss: 6.3493 - val_loss: 6.3392\n",
      "Epoch 230/1000\n",
      "5966/5966 [==============================] - 1s 118us/step - loss: 6.3705 - val_loss: 6.3352\n",
      "Epoch 231/1000\n",
      "5966/5966 [==============================] - 1s 116us/step - loss: 6.3453 - val_loss: 6.3376\n",
      "Epoch 232/1000\n",
      "5966/5966 [==============================] - 1s 111us/step - loss: 6.3564 - val_loss: 6.3382\n",
      "Epoch 233/1000\n",
      "5966/5966 [==============================] - 1s 115us/step - loss: 6.3568 - val_loss: 6.3356\n",
      "Epoch 234/1000\n",
      "5966/5966 [==============================] - 1s 109us/step - loss: 6.3579 - val_loss: 6.3362\n",
      "Epoch 235/1000\n",
      "5966/5966 [==============================] - 1s 109us/step - loss: 6.3442 - val_loss: 6.3360\n",
      "Epoch 236/1000\n",
      "5966/5966 [==============================] - 1s 109us/step - loss: 6.3457 - val_loss: 6.3353\n",
      "Epoch 237/1000\n",
      "5966/5966 [==============================] - 1s 109us/step - loss: 6.3586 - val_loss: 6.3449\n",
      "Epoch 238/1000\n",
      "5966/5966 [==============================] - 1s 133us/step - loss: 6.3428 - val_loss: 6.3502\n",
      "Epoch 239/1000\n",
      "5966/5966 [==============================] - 1s 132us/step - loss: 6.3634 - val_loss: 6.3348\n",
      "Epoch 240/1000\n",
      "5966/5966 [==============================] - 1s 118us/step - loss: 6.3503 - val_loss: 6.3356\n",
      "Epoch 241/1000\n",
      "5966/5966 [==============================] - 1s 114us/step - loss: 6.3569 - val_loss: 6.3356\n",
      "Epoch 242/1000\n",
      "5966/5966 [==============================] - 1s 115us/step - loss: 6.3356 - val_loss: 6.3368\n",
      "Epoch 243/1000\n",
      "5966/5966 [==============================] - 1s 133us/step - loss: 6.3458 - val_loss: 6.3521\n",
      "Epoch 244/1000\n",
      "5966/5966 [==============================] - 1s 126us/step - loss: 6.3448 - val_loss: 6.3358\n",
      "Epoch 245/1000\n",
      "5966/5966 [==============================] - 1s 118us/step - loss: 6.3399 - val_loss: 6.3344\n",
      "Epoch 246/1000\n",
      "5966/5966 [==============================] - 1s 114us/step - loss: 6.3414 - val_loss: 6.3373\n",
      "Epoch 247/1000\n",
      "5966/5966 [==============================] - 1s 113us/step - loss: 6.3481 - val_loss: 6.3402\n",
      "Epoch 248/1000\n",
      "5966/5966 [==============================] - 1s 119us/step - loss: 6.3606 - val_loss: 6.3370\n",
      "Epoch 249/1000\n",
      "5966/5966 [==============================] - 1s 111us/step - loss: 6.3607 - val_loss: 6.3476\n",
      "Epoch 250/1000\n",
      "5966/5966 [==============================] - 1s 112us/step - loss: 6.3394 - val_loss: 6.3346\n",
      "Epoch 251/1000\n",
      "5966/5966 [==============================] - 1s 111us/step - loss: 6.3513 - val_loss: 6.3377\n",
      "Epoch 252/1000\n",
      "5966/5966 [==============================] - 1s 111us/step - loss: 6.3377 - val_loss: 6.3448\n",
      "Epoch 253/1000\n",
      "5966/5966 [==============================] - 1s 112us/step - loss: 6.3529 - val_loss: 6.3576\n",
      "Epoch 254/1000\n",
      "5966/5966 [==============================] - 1s 109us/step - loss: 6.3284 - val_loss: 6.3698\n",
      "Epoch 255/1000\n",
      "5966/5966 [==============================] - 1s 108us/step - loss: 6.3603 - val_loss: 6.3356\n",
      "Epoch 256/1000\n",
      "5966/5966 [==============================] - 1s 111us/step - loss: 6.3637 - val_loss: 6.3433\n",
      "Epoch 257/1000\n",
      "5966/5966 [==============================] - 1s 108us/step - loss: 6.3477 - val_loss: 6.3336\n",
      "Epoch 258/1000\n",
      "5966/5966 [==============================] - 1s 111us/step - loss: 6.3327 - val_loss: 6.3401\n",
      "Epoch 259/1000\n",
      "5966/5966 [==============================] - 1s 112us/step - loss: 6.3478 - val_loss: 6.3341\n",
      "Epoch 260/1000\n",
      "5966/5966 [==============================] - 1s 112us/step - loss: 6.3545 - val_loss: 6.3482\n",
      "Epoch 261/1000\n",
      "5966/5966 [==============================] - 1s 111us/step - loss: 6.3466 - val_loss: 6.3399\n",
      "Epoch 262/1000\n",
      "5966/5966 [==============================] - 1s 111us/step - loss: 6.3476 - val_loss: 6.3347\n",
      "Epoch 263/1000\n",
      "5966/5966 [==============================] - 1s 109us/step - loss: 6.3476 - val_loss: 6.3396\n",
      "Epoch 264/1000\n",
      "5966/5966 [==============================] - 1s 113us/step - loss: 6.3495 - val_loss: 6.3416\n",
      "Epoch 265/1000\n",
      "5966/5966 [==============================] - 1s 113us/step - loss: 6.3516 - val_loss: 6.3399\n",
      "Epoch 266/1000\n",
      "5966/5966 [==============================] - 1s 118us/step - loss: 6.3447 - val_loss: 6.3339\n",
      "Epoch 267/1000\n",
      "5966/5966 [==============================] - 1s 116us/step - loss: 6.3307 - val_loss: 6.3323\n",
      "Epoch 268/1000\n",
      "5966/5966 [==============================] - 1s 155us/step - loss: 6.3590 - val_loss: 6.3377\n",
      "Epoch 269/1000\n",
      "5966/5966 [==============================] - 1s 165us/step - loss: 6.3556 - val_loss: 6.3395\n",
      "Epoch 270/1000\n",
      "5966/5966 [==============================] - 1s 141us/step - loss: 6.3551 - val_loss: 6.3397\n",
      "Epoch 271/1000\n",
      "5966/5966 [==============================] - 1s 114us/step - loss: 6.3519 - val_loss: 6.3347\n",
      "Epoch 272/1000\n",
      "5966/5966 [==============================] - 1s 111us/step - loss: 6.3532 - val_loss: 6.3345\n",
      "Epoch 273/1000\n",
      "5966/5966 [==============================] - 1s 116us/step - loss: 6.3658 - val_loss: 6.3334\n",
      "Epoch 274/1000\n",
      "5966/5966 [==============================] - 1s 115us/step - loss: 6.3498 - val_loss: 6.3339\n",
      "Epoch 275/1000\n",
      "5966/5966 [==============================] - 1s 110us/step - loss: 6.3524 - val_loss: 6.3339\n",
      "Epoch 276/1000\n",
      "5966/5966 [==============================] - 1s 112us/step - loss: 6.3209 - val_loss: 6.3349\n",
      "Epoch 277/1000\n",
      "5966/5966 [==============================] - 1s 111us/step - loss: 6.3530 - val_loss: 6.3352\n",
      "Epoch 278/1000\n",
      "5966/5966 [==============================] - 1s 113us/step - loss: 6.3330 - val_loss: 6.3356\n",
      "Epoch 279/1000\n",
      "5966/5966 [==============================] - 1s 162us/step - loss: 6.3392 - val_loss: 6.3523\n",
      "Epoch 280/1000\n",
      "5966/5966 [==============================] - 1s 198us/step - loss: 6.3414 - val_loss: 6.3445\n",
      "Epoch 281/1000\n",
      "5966/5966 [==============================] - 1s 178us/step - loss: 6.3381 - val_loss: 6.3332\n",
      "Epoch 282/1000\n",
      "5966/5966 [==============================] - 1s 137us/step - loss: 6.3543 - val_loss: 6.3487\n",
      "Epoch 283/1000\n",
      "5966/5966 [==============================] - 1s 117us/step - loss: 6.3509 - val_loss: 6.3562\n",
      "Epoch 284/1000\n",
      "5966/5966 [==============================] - 1s 133us/step - loss: 6.3507 - val_loss: 6.3333\n",
      "Epoch 285/1000\n",
      "5966/5966 [==============================] - 1s 133us/step - loss: 6.3409 - val_loss: 6.3362\n",
      "Epoch 286/1000\n",
      "5966/5966 [==============================] - 1s 136us/step - loss: 6.3387 - val_loss: 6.3602\n",
      "Epoch 287/1000\n",
      "5966/5966 [==============================] - 1s 156us/step - loss: 6.3400 - val_loss: 6.3333\n",
      "Epoch 288/1000\n",
      "5966/5966 [==============================] - 1s 162us/step - loss: 6.3434 - val_loss: 6.3382\n",
      "Epoch 289/1000\n",
      "5966/5966 [==============================] - 1s 185us/step - loss: 6.3553 - val_loss: 6.3385\n",
      "Epoch 290/1000\n",
      "5966/5966 [==============================] - 1s 212us/step - loss: 6.3408 - val_loss: 6.3620\n",
      "Epoch 291/1000\n",
      "5966/5966 [==============================] - 1s 203us/step - loss: 6.3561 - val_loss: 6.3379\n",
      "Epoch 292/1000\n",
      "5966/5966 [==============================] - 1s 185us/step - loss: 6.3525 - val_loss: 6.3440\n",
      "Epoch 293/1000\n",
      "5966/5966 [==============================] - 1s 161us/step - loss: 6.3549 - val_loss: 6.3410\n",
      "Epoch 294/1000\n",
      "5966/5966 [==============================] - 1s 171us/step - loss: 6.3712 - val_loss: 6.3631\n",
      "Epoch 295/1000\n",
      "5966/5966 [==============================] - 1s 172us/step - loss: 6.3470 - val_loss: 6.3338\n",
      "Epoch 296/1000\n",
      "5966/5966 [==============================] - 1s 192us/step - loss: 6.3515 - val_loss: 6.3427\n",
      "Epoch 297/1000\n",
      "5966/5966 [==============================] - 1s 181us/step - loss: 6.3457 - val_loss: 6.3368\n",
      "Epoch 298/1000\n",
      "5966/5966 [==============================] - 1s 168us/step - loss: 6.3308 - val_loss: 6.3412\n",
      "Epoch 299/1000\n",
      "5966/5966 [==============================] - 1s 182us/step - loss: 6.3596 - val_loss: 6.3354\n",
      "Epoch 300/1000\n",
      "5966/5966 [==============================] - 1s 183us/step - loss: 6.3469 - val_loss: 6.3326\n",
      "Epoch 301/1000\n",
      "5966/5966 [==============================] - 1s 164us/step - loss: 6.3492 - val_loss: 6.3520\n",
      "Epoch 302/1000\n",
      "5966/5966 [==============================] - 1s 179us/step - loss: 6.3373 - val_loss: 6.3327\n",
      "Epoch 303/1000\n",
      "5966/5966 [==============================] - 1s 171us/step - loss: 6.3488 - val_loss: 6.3468\n",
      "Epoch 304/1000\n",
      "5966/5966 [==============================] - 1s 183us/step - loss: 6.3556 - val_loss: 6.3382\n",
      "Epoch 305/1000\n",
      "5966/5966 [==============================] - 1s 177us/step - loss: 6.3730 - val_loss: 6.3333\n",
      "Epoch 306/1000\n",
      "5966/5966 [==============================] - 1s 146us/step - loss: 6.3351 - val_loss: 6.3334\n",
      "Epoch 307/1000\n",
      "5966/5966 [==============================] - 1s 169us/step - loss: 6.3514 - val_loss: 6.3330\n",
      "Epoch 308/1000\n",
      "5966/5966 [==============================] - 1s 206us/step - loss: 6.3582 - val_loss: 6.3391\n",
      "Epoch 309/1000\n",
      "5966/5966 [==============================] - 1s 188us/step - loss: 6.3540 - val_loss: 6.3389\n",
      "Epoch 310/1000\n",
      "5966/5966 [==============================] - 1s 195us/step - loss: 6.3558 - val_loss: 6.3318\n",
      "Epoch 311/1000\n",
      "5966/5966 [==============================] - 1s 204us/step - loss: 6.3396 - val_loss: 6.3396\n",
      "Epoch 312/1000\n",
      "5966/5966 [==============================] - 1s 189us/step - loss: 6.3563 - val_loss: 6.3325\n",
      "Epoch 313/1000\n",
      "5966/5966 [==============================] - 1s 184us/step - loss: 6.3303 - val_loss: 6.3514\n",
      "Epoch 314/1000\n",
      "5966/5966 [==============================] - 1s 190us/step - loss: 6.3392 - val_loss: 6.3431\n",
      "Epoch 315/1000\n",
      "5966/5966 [==============================] - 1s 180us/step - loss: 6.3451 - val_loss: 6.3504\n",
      "Epoch 316/1000\n",
      "5966/5966 [==============================] - 1s 162us/step - loss: 6.3568 - val_loss: 6.3502\n",
      "Epoch 317/1000\n",
      "5966/5966 [==============================] - 1s 175us/step - loss: 6.3550 - val_loss: 6.3375\n",
      "Epoch 318/1000\n",
      "5966/5966 [==============================] - 1s 165us/step - loss: 6.3513 - val_loss: 6.3507\n",
      "Epoch 319/1000\n",
      "5966/5966 [==============================] - 1s 175us/step - loss: 6.3282 - val_loss: 6.3316\n",
      "Epoch 320/1000\n",
      "5966/5966 [==============================] - 1s 161us/step - loss: 6.3529 - val_loss: 6.3327\n",
      "Epoch 321/1000\n",
      "5966/5966 [==============================] - 1s 155us/step - loss: 6.3437 - val_loss: 6.3311\n",
      "Epoch 322/1000\n",
      "5966/5966 [==============================] - 1s 155us/step - loss: 6.3538 - val_loss: 6.3328\n",
      "Epoch 323/1000\n",
      "5966/5966 [==============================] - 1s 155us/step - loss: 6.3451 - val_loss: 6.3327\n",
      "Epoch 324/1000\n",
      "5966/5966 [==============================] - 1s 162us/step - loss: 6.3469 - val_loss: 6.3338\n",
      "Epoch 325/1000\n",
      "5966/5966 [==============================] - 1s 182us/step - loss: 6.3407 - val_loss: 6.3389\n",
      "Epoch 326/1000\n",
      "5966/5966 [==============================] - 1s 180us/step - loss: 6.3441 - val_loss: 6.3344\n",
      "Epoch 327/1000\n",
      "5966/5966 [==============================] - 1s 172us/step - loss: 6.3453 - val_loss: 6.3310\n",
      "Epoch 328/1000\n",
      "5966/5966 [==============================] - 1s 169us/step - loss: 6.3282 - val_loss: 6.3332\n",
      "Epoch 329/1000\n",
      "5966/5966 [==============================] - 1s 194us/step - loss: 6.3470 - val_loss: 6.3437\n",
      "Epoch 330/1000\n",
      "5966/5966 [==============================] - 1s 159us/step - loss: 6.3366 - val_loss: 6.3374\n",
      "Epoch 331/1000\n",
      "5966/5966 [==============================] - 1s 155us/step - loss: 6.3372 - val_loss: 6.3322\n",
      "Epoch 332/1000\n",
      "5966/5966 [==============================] - 1s 155us/step - loss: 6.3351 - val_loss: 6.3381\n",
      "Epoch 333/1000\n",
      "5966/5966 [==============================] - 1s 156us/step - loss: 6.3279 - val_loss: 6.3342\n",
      "Epoch 334/1000\n",
      "5966/5966 [==============================] - 1s 162us/step - loss: 6.3500 - val_loss: 6.3369\n",
      "Epoch 335/1000\n",
      "5966/5966 [==============================] - 1s 157us/step - loss: 6.3289 - val_loss: 6.3601\n",
      "Epoch 336/1000\n",
      "5966/5966 [==============================] - 1s 155us/step - loss: 6.3447 - val_loss: 6.3362\n",
      "Epoch 337/1000\n",
      "5966/5966 [==============================] - 1s 154us/step - loss: 6.3485 - val_loss: 6.3379\n",
      "Epoch 338/1000\n",
      "5966/5966 [==============================] - 1s 159us/step - loss: 6.3470 - val_loss: 6.3317\n",
      "Epoch 339/1000\n",
      "5966/5966 [==============================] - 1s 155us/step - loss: 6.3327 - val_loss: 6.3341\n",
      "Epoch 340/1000\n",
      "5966/5966 [==============================] - 1s 163us/step - loss: 6.3364 - val_loss: 6.3329\n",
      "Epoch 341/1000\n",
      "5966/5966 [==============================] - 1s 156us/step - loss: 6.3424 - val_loss: 6.3422\n",
      "Epoch 342/1000\n",
      "5966/5966 [==============================] - 1s 155us/step - loss: 6.3416 - val_loss: 6.3586\n",
      "Epoch 343/1000\n",
      "5966/5966 [==============================] - 1s 159us/step - loss: 6.3566 - val_loss: 6.3327\n",
      "Epoch 344/1000\n",
      "5966/5966 [==============================] - 1s 158us/step - loss: 6.3370 - val_loss: 6.3348\n",
      "Epoch 345/1000\n",
      "5966/5966 [==============================] - 1s 170us/step - loss: 6.3295 - val_loss: 6.3624\n",
      "Epoch 346/1000\n",
      "5966/5966 [==============================] - 1s 159us/step - loss: 6.3302 - val_loss: 6.3516\n",
      "Epoch 347/1000\n",
      "5966/5966 [==============================] - 1s 155us/step - loss: 6.3480 - val_loss: 6.3350\n",
      "Epoch 348/1000\n",
      "5966/5966 [==============================] - 1s 156us/step - loss: 6.3413 - val_loss: 6.3570\n",
      "Epoch 349/1000\n",
      "5966/5966 [==============================] - 1s 156us/step - loss: 6.3557 - val_loss: 6.3315\n",
      "Epoch 350/1000\n",
      "5966/5966 [==============================] - 1s 160us/step - loss: 6.3535 - val_loss: 6.3352\n",
      "Epoch 351/1000\n",
      "5966/5966 [==============================] - 1s 156us/step - loss: 6.3216 - val_loss: 6.3329\n",
      "Epoch 352/1000\n",
      "5966/5966 [==============================] - 1s 155us/step - loss: 6.3369 - val_loss: 6.3336\n",
      "Epoch 353/1000\n",
      "5966/5966 [==============================] - 1s 155us/step - loss: 6.3468 - val_loss: 6.3351\n",
      "Epoch 354/1000\n",
      "5966/5966 [==============================] - 1s 155us/step - loss: 6.3437 - val_loss: 6.3343\n",
      "Epoch 355/1000\n",
      "5966/5966 [==============================] - 1s 158us/step - loss: 6.3427 - val_loss: 6.3332\n",
      "Epoch 356/1000\n",
      "5966/5966 [==============================] - 1s 162us/step - loss: 6.3422 - val_loss: 6.3490\n",
      "Epoch 357/1000\n",
      "5966/5966 [==============================] - 1s 159us/step - loss: 6.3447 - val_loss: 6.3314\n",
      "Epoch 358/1000\n",
      "5966/5966 [==============================] - 1s 156us/step - loss: 6.3607 - val_loss: 6.3386\n",
      "Epoch 359/1000\n",
      "5966/5966 [==============================] - 1s 155us/step - loss: 6.3406 - val_loss: 6.3426\n",
      "Epoch 360/1000\n",
      "5966/5966 [==============================] - 1s 156us/step - loss: 6.3464 - val_loss: 6.3428\n",
      "Epoch 361/1000\n",
      "5966/5966 [==============================] - 1s 169us/step - loss: 6.3602 - val_loss: 6.3379\n",
      "Epoch 362/1000\n",
      "5966/5966 [==============================] - 1s 159us/step - loss: 6.3519 - val_loss: 6.3397\n",
      "Epoch 363/1000\n",
      "5966/5966 [==============================] - 1s 161us/step - loss: 6.3349 - val_loss: 6.3304\n",
      "Epoch 364/1000\n",
      "5966/5966 [==============================] - 1s 158us/step - loss: 6.3357 - val_loss: 6.3354\n",
      "Epoch 365/1000\n",
      "5966/5966 [==============================] - 1s 158us/step - loss: 6.3358 - val_loss: 6.3484\n",
      "Epoch 366/1000\n",
      "5966/5966 [==============================] - 1s 161us/step - loss: 6.3408 - val_loss: 6.3294\n",
      "Epoch 367/1000\n",
      "5966/5966 [==============================] - 1s 162us/step - loss: 6.3421 - val_loss: 6.3490\n",
      "Epoch 368/1000\n",
      "5966/5966 [==============================] - 1s 159us/step - loss: 6.3412 - val_loss: 6.3308\n",
      "Epoch 369/1000\n",
      "5966/5966 [==============================] - 1s 156us/step - loss: 6.3551 - val_loss: 6.3349\n",
      "Epoch 370/1000\n",
      "5966/5966 [==============================] - 1s 155us/step - loss: 6.3338 - val_loss: 6.3304\n",
      "Epoch 371/1000\n",
      "5966/5966 [==============================] - 1s 159us/step - loss: 6.3254 - val_loss: 6.3317\n",
      "Epoch 372/1000\n",
      "5966/5966 [==============================] - 1s 159us/step - loss: 6.3370 - val_loss: 6.3333\n",
      "Epoch 373/1000\n",
      "5966/5966 [==============================] - 1s 158us/step - loss: 6.3349 - val_loss: 6.3299\n",
      "Epoch 374/1000\n",
      "5966/5966 [==============================] - 1s 157us/step - loss: 6.3392 - val_loss: 6.3326\n",
      "Epoch 375/1000\n",
      "5966/5966 [==============================] - 1s 186us/step - loss: 6.3595 - val_loss: 6.3306\n",
      "Epoch 376/1000\n",
      "5966/5966 [==============================] - 1s 191us/step - loss: 6.3497 - val_loss: 6.3338\n",
      "Epoch 377/1000\n",
      "5966/5966 [==============================] - 1s 237us/step - loss: 6.3338 - val_loss: 6.3422\n",
      "Epoch 378/1000\n",
      "5966/5966 [==============================] - 1s 237us/step - loss: 6.3499 - val_loss: 6.3335\n",
      "Epoch 379/1000\n",
      "5966/5966 [==============================] - 1s 202us/step - loss: 6.3373 - val_loss: 6.3378\n",
      "Epoch 380/1000\n",
      "5966/5966 [==============================] - 1s 164us/step - loss: 6.3412 - val_loss: 6.3310\n",
      "Epoch 381/1000\n",
      "5966/5966 [==============================] - 1s 159us/step - loss: 6.3372 - val_loss: 6.3352\n",
      "Epoch 382/1000\n",
      "5966/5966 [==============================] - 1s 155us/step - loss: 6.3259 - val_loss: 6.3341\n",
      "Epoch 383/1000\n",
      "5966/5966 [==============================] - 1s 153us/step - loss: 6.3391 - val_loss: 6.3393\n",
      "Epoch 384/1000\n",
      "5966/5966 [==============================] - 1s 151us/step - loss: 6.3274 - val_loss: 6.3355\n",
      "Epoch 385/1000\n",
      "5966/5966 [==============================] - 1s 158us/step - loss: 6.3270 - val_loss: 6.3292\n",
      "Epoch 386/1000\n",
      "5966/5966 [==============================] - 1s 220us/step - loss: 6.3369 - val_loss: 6.3428\n",
      "Epoch 387/1000\n",
      "5966/5966 [==============================] - 1s 216us/step - loss: 6.3545 - val_loss: 6.3312\n",
      "Epoch 388/1000\n",
      "5966/5966 [==============================] - 1s 212us/step - loss: 6.3410 - val_loss: 6.3386\n",
      "Epoch 389/1000\n",
      "5966/5966 [==============================] - 1s 201us/step - loss: 6.3299 - val_loss: 6.3361\n",
      "Epoch 390/1000\n",
      "5966/5966 [==============================] - 1s 221us/step - loss: 6.3523 - val_loss: 6.3305\n",
      "Epoch 391/1000\n",
      "5966/5966 [==============================] - 1s 222us/step - loss: 6.3367 - val_loss: 6.3309\n",
      "Epoch 392/1000\n",
      "5966/5966 [==============================] - 1s 207us/step - loss: 6.3573 - val_loss: 6.3482\n",
      "Epoch 393/1000\n",
      "5966/5966 [==============================] - 1s 216us/step - loss: 6.3357 - val_loss: 6.3301\n",
      "Epoch 394/1000\n",
      "5966/5966 [==============================] - 1s 223us/step - loss: 6.3407 - val_loss: 6.3429\n",
      "Epoch 395/1000\n",
      "5966/5966 [==============================] - 1s 210us/step - loss: 6.3452 - val_loss: 6.3546\n",
      "Epoch 396/1000\n",
      "5966/5966 [==============================] - 1s 208us/step - loss: 6.3379 - val_loss: 6.3312\n",
      "Epoch 397/1000\n",
      "5966/5966 [==============================] - 1s 163us/step - loss: 6.3373 - val_loss: 6.3340\n",
      "Epoch 398/1000\n",
      "5966/5966 [==============================] - 1s 167us/step - loss: 6.3347 - val_loss: 6.3438\n",
      "Epoch 399/1000\n",
      "5966/5966 [==============================] - 1s 154us/step - loss: 6.3377 - val_loss: 6.3299\n",
      "Epoch 400/1000\n",
      "5966/5966 [==============================] - 1s 152us/step - loss: 6.3418 - val_loss: 6.3286\n",
      "Epoch 401/1000\n",
      "5966/5966 [==============================] - 1s 153us/step - loss: 6.3374 - val_loss: 6.3301\n",
      "Epoch 402/1000\n",
      "5966/5966 [==============================] - 1s 152us/step - loss: 6.3427 - val_loss: 6.3282\n",
      "Epoch 403/1000\n",
      "5966/5966 [==============================] - 1s 163us/step - loss: 6.3406 - val_loss: 6.3279\n",
      "Epoch 404/1000\n",
      "5966/5966 [==============================] - 1s 158us/step - loss: 6.3456 - val_loss: 6.3319\n",
      "Epoch 405/1000\n",
      "5966/5966 [==============================] - 1s 153us/step - loss: 6.3628 - val_loss: 6.3330\n",
      "Epoch 406/1000\n",
      "5966/5966 [==============================] - 1s 153us/step - loss: 6.3462 - val_loss: 6.3297\n",
      "Epoch 407/1000\n",
      "5966/5966 [==============================] - 1s 152us/step - loss: 6.3432 - val_loss: 6.3337\n",
      "Epoch 408/1000\n",
      "5966/5966 [==============================] - 1s 155us/step - loss: 6.3580 - val_loss: 6.3367\n",
      "Epoch 409/1000\n",
      "5966/5966 [==============================] - 1s 153us/step - loss: 6.3516 - val_loss: 6.3338\n",
      "Epoch 410/1000\n",
      "5966/5966 [==============================] - 1s 152us/step - loss: 6.3420 - val_loss: 6.3301\n",
      "Epoch 411/1000\n",
      "5966/5966 [==============================] - 1s 153us/step - loss: 6.3461 - val_loss: 6.3297\n",
      "Epoch 412/1000\n",
      "5966/5966 [==============================] - 1s 152us/step - loss: 6.3410 - val_loss: 6.3298\n",
      "Epoch 413/1000\n",
      "5966/5966 [==============================] - 1s 154us/step - loss: 6.3399 - val_loss: 6.3289\n",
      "Epoch 414/1000\n",
      "5966/5966 [==============================] - 1s 158us/step - loss: 6.3466 - val_loss: 6.3338\n",
      "Epoch 415/1000\n",
      "5966/5966 [==============================] - 1s 155us/step - loss: 6.3305 - val_loss: 6.3304\n",
      "Epoch 416/1000\n",
      "5966/5966 [==============================] - 1s 152us/step - loss: 6.3410 - val_loss: 6.3293\n",
      "Epoch 417/1000\n",
      "5966/5966 [==============================] - 1s 154us/step - loss: 6.3369 - val_loss: 6.3286\n",
      "Epoch 418/1000\n",
      "5966/5966 [==============================] - 1s 153us/step - loss: 6.3276 - val_loss: 6.3299\n",
      "Epoch 419/1000\n",
      "5966/5966 [==============================] - 1s 156us/step - loss: 6.3541 - val_loss: 6.3318\n",
      "Epoch 420/1000\n",
      "5966/5966 [==============================] - 1s 164us/step - loss: 6.3392 - val_loss: 6.3305\n",
      "Epoch 421/1000\n",
      "5966/5966 [==============================] - 1s 156us/step - loss: 6.3394 - val_loss: 6.3292\n",
      "Epoch 422/1000\n",
      "5966/5966 [==============================] - 1s 153us/step - loss: 6.3278 - val_loss: 6.3320\n",
      "Epoch 423/1000\n",
      "5966/5966 [==============================] - 1s 155us/step - loss: 6.3345 - val_loss: 6.3487\n",
      "Epoch 424/1000\n",
      "5966/5966 [==============================] - 1s 154us/step - loss: 6.3495 - val_loss: 6.3358\n",
      "Epoch 425/1000\n",
      "5966/5966 [==============================] - 1s 156us/step - loss: 6.3446 - val_loss: 6.3274\n",
      "Epoch 426/1000\n",
      "5966/5966 [==============================] - 1s 153us/step - loss: 6.3418 - val_loss: 6.3299\n",
      "Epoch 427/1000\n",
      "5966/5966 [==============================] - 1s 203us/step - loss: 6.3364 - val_loss: 6.3331\n",
      "Epoch 428/1000\n",
      "5966/5966 [==============================] - 1s 175us/step - loss: 6.3458 - val_loss: 6.3381\n",
      "Epoch 429/1000\n",
      "5966/5966 [==============================] - 1s 196us/step - loss: 6.3297 - val_loss: 6.3314\n",
      "Epoch 430/1000\n",
      "5966/5966 [==============================] - 1s 160us/step - loss: 6.3540 - val_loss: 6.3436\n",
      "Epoch 431/1000\n",
      "5966/5966 [==============================] - 1s 155us/step - loss: 6.3356 - val_loss: 6.3330\n",
      "Epoch 432/1000\n",
      "5966/5966 [==============================] - 1s 166us/step - loss: 6.3409 - val_loss: 6.3422\n",
      "Epoch 433/1000\n",
      "5966/5966 [==============================] - 1s 201us/step - loss: 6.3319 - val_loss: 6.3384\n",
      "Epoch 434/1000\n",
      "5966/5966 [==============================] - 1s 213us/step - loss: 6.3383 - val_loss: 6.3260\n",
      "Epoch 435/1000\n",
      "5966/5966 [==============================] - 1s 218us/step - loss: 6.3339 - val_loss: 6.3344\n",
      "Epoch 436/1000\n",
      "5966/5966 [==============================] - 1s 198us/step - loss: 6.3522 - val_loss: 6.3422\n",
      "Epoch 437/1000\n",
      "5966/5966 [==============================] - 1s 227us/step - loss: 6.3408 - val_loss: 6.3335\n",
      "Epoch 438/1000\n",
      "5966/5966 [==============================] - 1s 143us/step - loss: 6.3429 - val_loss: 6.3291\n",
      "Epoch 439/1000\n",
      "5966/5966 [==============================] - 1s 139us/step - loss: 6.3338 - val_loss: 6.3311\n",
      "Epoch 440/1000\n",
      "5966/5966 [==============================] - 1s 159us/step - loss: 6.3395 - val_loss: 6.3513\n",
      "Epoch 441/1000\n",
      "5966/5966 [==============================] - 1s 152us/step - loss: 6.3421 - val_loss: 6.3332\n",
      "Epoch 442/1000\n",
      "5966/5966 [==============================] - 1s 190us/step - loss: 6.3335 - val_loss: 6.3409\n",
      "Epoch 443/1000\n",
      "5966/5966 [==============================] - 1s 181us/step - loss: 6.3338 - val_loss: 6.3291\n",
      "Epoch 444/1000\n",
      "5966/5966 [==============================] - 1s 156us/step - loss: 6.3451 - val_loss: 6.3388\n",
      "Epoch 445/1000\n",
      "5966/5966 [==============================] - 1s 186us/step - loss: 6.3459 - val_loss: 6.3309\n",
      "Epoch 446/1000\n",
      "5966/5966 [==============================] - 1s 202us/step - loss: 6.3479 - val_loss: 6.3495\n",
      "Epoch 447/1000\n",
      "5966/5966 [==============================] - 1s 160us/step - loss: 6.3326 - val_loss: 6.3282\n",
      "Epoch 448/1000\n",
      "5966/5966 [==============================] - 1s 154us/step - loss: 6.3495 - val_loss: 6.3267\n",
      "Epoch 449/1000\n",
      "5966/5966 [==============================] - 1s 143us/step - loss: 6.3426 - val_loss: 6.3310\n",
      "Epoch 450/1000\n",
      "5966/5966 [==============================] - 1s 136us/step - loss: 6.3341 - val_loss: 6.3505\n",
      "Epoch 451/1000\n",
      "5966/5966 [==============================] - 1s 135us/step - loss: 6.3641 - val_loss: 6.3278\n",
      "Epoch 452/1000\n",
      "5966/5966 [==============================] - 1s 133us/step - loss: 6.3420 - val_loss: 6.3295\n",
      "Epoch 453/1000\n",
      "5966/5966 [==============================] - 1s 132us/step - loss: 6.3596 - val_loss: 6.3343\n",
      "Epoch 454/1000\n",
      "5966/5966 [==============================] - 1s 178us/step - loss: 6.3261 - val_loss: 6.3267\n",
      "Epoch 455/1000\n",
      "5966/5966 [==============================] - 1s 157us/step - loss: 6.3382 - val_loss: 6.3302\n",
      "Epoch 456/1000\n",
      "5966/5966 [==============================] - 1s 137us/step - loss: 6.3392 - val_loss: 6.3412\n",
      "Epoch 457/1000\n",
      "5966/5966 [==============================] - 1s 125us/step - loss: 6.3349 - val_loss: 6.3303\n",
      "Epoch 458/1000\n",
      "5966/5966 [==============================] - 1s 123us/step - loss: 6.3471 - val_loss: 6.3337\n",
      "Epoch 459/1000\n",
      "5966/5966 [==============================] - 1s 123us/step - loss: 6.3264 - val_loss: 6.3473\n",
      "Epoch 460/1000\n",
      "5966/5966 [==============================] - 1s 125us/step - loss: 6.3412 - val_loss: 6.3284\n",
      "Epoch 461/1000\n",
      "5966/5966 [==============================] - 1s 123us/step - loss: 6.3366 - val_loss: 6.3315\n",
      "Epoch 462/1000\n",
      "5966/5966 [==============================] - 1s 123us/step - loss: 6.3420 - val_loss: 6.3266\n",
      "Epoch 463/1000\n",
      "5966/5966 [==============================] - 1s 123us/step - loss: 6.3598 - val_loss: 6.3295\n",
      "Epoch 464/1000\n",
      "5966/5966 [==============================] - 1s 122us/step - loss: 6.3289 - val_loss: 6.3411\n",
      "Epoch 465/1000\n",
      "5966/5966 [==============================] - 1s 124us/step - loss: 6.3360 - val_loss: 6.3316\n",
      "Epoch 466/1000\n",
      "5966/5966 [==============================] - 1s 124us/step - loss: 6.3440 - val_loss: 6.3279\n",
      "Epoch 467/1000\n",
      "5966/5966 [==============================] - 1s 126us/step - loss: 6.3386 - val_loss: 6.3319\n",
      "Epoch 468/1000\n",
      "5966/5966 [==============================] - 1s 128us/step - loss: 6.3281 - val_loss: 6.3447\n",
      "Epoch 469/1000\n",
      "5966/5966 [==============================] - 1s 138us/step - loss: 6.3547 - val_loss: 6.3302\n",
      "Epoch 470/1000\n",
      "5966/5966 [==============================] - 1s 133us/step - loss: 6.3365 - val_loss: 6.3268\n",
      "Epoch 471/1000\n",
      "5966/5966 [==============================] - 1s 144us/step - loss: 6.3526 - val_loss: 6.3441\n",
      "Epoch 472/1000\n",
      "5966/5966 [==============================] - 1s 126us/step - loss: 6.3282 - val_loss: 6.3288\n",
      "Epoch 473/1000\n",
      "5966/5966 [==============================] - 1s 145us/step - loss: 6.3422 - val_loss: 6.3286\n",
      "Epoch 474/1000\n",
      "5966/5966 [==============================] - 1s 138us/step - loss: 6.3514 - val_loss: 6.3301\n",
      "Epoch 475/1000\n",
      "5966/5966 [==============================] - 1s 137us/step - loss: 6.3414 - val_loss: 6.3354\n",
      "Epoch 476/1000\n",
      "5966/5966 [==============================] - 1s 131us/step - loss: 6.3315 - val_loss: 6.3254\n",
      "Epoch 477/1000\n",
      "5966/5966 [==============================] - 1s 125us/step - loss: 6.3365 - val_loss: 6.3254\n",
      "Epoch 478/1000\n",
      "5966/5966 [==============================] - 1s 122us/step - loss: 6.3482 - val_loss: 6.3328\n",
      "Epoch 479/1000\n",
      "5966/5966 [==============================] - 1s 125us/step - loss: 6.3428 - val_loss: 6.3269\n",
      "Epoch 480/1000\n",
      "5966/5966 [==============================] - 1s 127us/step - loss: 6.3411 - val_loss: 6.3312\n",
      "Epoch 481/1000\n",
      "5966/5966 [==============================] - 1s 124us/step - loss: 6.3344 - val_loss: 6.3350\n",
      "Epoch 482/1000\n",
      "5966/5966 [==============================] - 1s 122us/step - loss: 6.3303 - val_loss: 6.3258\n",
      "Epoch 483/1000\n",
      "5966/5966 [==============================] - 1s 124us/step - loss: 6.3454 - val_loss: 6.3248\n",
      "Epoch 484/1000\n",
      "5966/5966 [==============================] - 1s 123us/step - loss: 6.3361 - val_loss: 6.3251\n",
      "Epoch 485/1000\n",
      "5966/5966 [==============================] - 1s 123us/step - loss: 6.3528 - val_loss: 6.3263\n",
      "Epoch 486/1000\n",
      "5966/5966 [==============================] - 1s 122us/step - loss: 6.3306 - val_loss: 6.3285\n",
      "Epoch 487/1000\n",
      "5966/5966 [==============================] - 1s 127us/step - loss: 6.3531 - val_loss: 6.3319\n",
      "Epoch 488/1000\n",
      "5966/5966 [==============================] - 1s 131us/step - loss: 6.3369 - val_loss: 6.3264\n",
      "Epoch 489/1000\n",
      "5966/5966 [==============================] - 1s 125us/step - loss: 6.3173 - val_loss: 6.3572\n",
      "Epoch 490/1000\n",
      "5966/5966 [==============================] - 1s 124us/step - loss: 6.3442 - val_loss: 6.3364\n",
      "Epoch 491/1000\n",
      "5966/5966 [==============================] - 1s 123us/step - loss: 6.3469 - val_loss: 6.3524\n",
      "Epoch 492/1000\n",
      "5966/5966 [==============================] - 1s 124us/step - loss: 6.3341 - val_loss: 6.3257\n",
      "Epoch 493/1000\n",
      "5966/5966 [==============================] - 1s 128us/step - loss: 6.3368 - val_loss: 6.3439\n",
      "Epoch 494/1000\n",
      "5966/5966 [==============================] - 1s 149us/step - loss: 6.3337 - val_loss: 6.3251\n",
      "Epoch 495/1000\n",
      "5966/5966 [==============================] - 1s 138us/step - loss: 6.3581 - val_loss: 6.3277\n",
      "Epoch 496/1000\n",
      "5966/5966 [==============================] - 1s 135us/step - loss: 6.3446 - val_loss: 6.3332\n",
      "Epoch 497/1000\n",
      "5966/5966 [==============================] - 1s 134us/step - loss: 6.3266 - val_loss: 6.3269\n",
      "Epoch 498/1000\n",
      "5966/5966 [==============================] - 1s 128us/step - loss: 6.3310 - val_loss: 6.3307\n",
      "Epoch 499/1000\n",
      "5966/5966 [==============================] - 1s 130us/step - loss: 6.3455 - val_loss: 6.3269\n",
      "Epoch 500/1000\n",
      "5966/5966 [==============================] - 1s 130us/step - loss: 6.3288 - val_loss: 6.3254\n",
      "Epoch 501/1000\n",
      "5966/5966 [==============================] - 1s 129us/step - loss: 6.3261 - val_loss: 6.3299\n",
      "Epoch 502/1000\n",
      "5966/5966 [==============================] - 1s 127us/step - loss: 6.3431 - val_loss: 6.3296\n",
      "Epoch 503/1000\n",
      "5966/5966 [==============================] - 1s 126us/step - loss: 6.3457 - val_loss: 6.3259\n",
      "Epoch 504/1000\n",
      "5966/5966 [==============================] - 1s 127us/step - loss: 6.3251 - val_loss: 6.3307\n",
      "Epoch 505/1000\n",
      "5966/5966 [==============================] - 1s 127us/step - loss: 6.3548 - val_loss: 6.3325\n",
      "Epoch 506/1000\n",
      "5966/5966 [==============================] - 1s 130us/step - loss: 6.3364 - val_loss: 6.3295\n",
      "Epoch 507/1000\n",
      "5966/5966 [==============================] - 1s 157us/step - loss: 6.3335 - val_loss: 6.3271\n",
      "Epoch 508/1000\n",
      "5966/5966 [==============================] - 1s 129us/step - loss: 6.3137 - val_loss: 6.3364\n",
      "Epoch 509/1000\n",
      "5966/5966 [==============================] - 1s 124us/step - loss: 6.3350 - val_loss: 6.3296\n",
      "Epoch 510/1000\n",
      "5966/5966 [==============================] - 1s 123us/step - loss: 6.3350 - val_loss: 6.3312\n",
      "Epoch 511/1000\n",
      "5966/5966 [==============================] - 1s 122us/step - loss: 6.3419 - val_loss: 6.3590\n",
      "Epoch 512/1000\n",
      "5966/5966 [==============================] - 1s 126us/step - loss: 6.3382 - val_loss: 6.3311\n",
      "Epoch 513/1000\n",
      "5966/5966 [==============================] - 1s 124us/step - loss: 6.3396 - val_loss: 6.3260\n",
      "Epoch 514/1000\n",
      "5966/5966 [==============================] - 1s 124us/step - loss: 6.3209 - val_loss: 6.3249\n",
      "Epoch 515/1000\n",
      "5966/5966 [==============================] - 1s 123us/step - loss: 6.3322 - val_loss: 6.3250\n",
      "Epoch 516/1000\n",
      "5966/5966 [==============================] - 1s 123us/step - loss: 6.3492 - val_loss: 6.3288\n",
      "Epoch 517/1000\n",
      "5966/5966 [==============================] - 1s 123us/step - loss: 6.3320 - val_loss: 6.3263\n",
      "Epoch 518/1000\n",
      "5966/5966 [==============================] - 1s 123us/step - loss: 6.3272 - val_loss: 6.3272\n",
      "Epoch 519/1000\n",
      "5966/5966 [==============================] - 1s 126us/step - loss: 6.3356 - val_loss: 6.3240\n",
      "Epoch 520/1000\n",
      "5966/5966 [==============================] - 1s 143us/step - loss: 6.3433 - val_loss: 6.3274\n",
      "Epoch 521/1000\n",
      "5966/5966 [==============================] - 1s 143us/step - loss: 6.3252 - val_loss: 6.3324\n",
      "Epoch 522/1000\n",
      "5966/5966 [==============================] - 1s 138us/step - loss: 6.3368 - val_loss: 6.3299\n",
      "Epoch 523/1000\n",
      "5966/5966 [==============================] - 1s 135us/step - loss: 6.3369 - val_loss: 6.3256\n",
      "Epoch 524/1000\n",
      "5966/5966 [==============================] - 1s 134us/step - loss: 6.3206 - val_loss: 6.3281\n",
      "Epoch 525/1000\n",
      "5966/5966 [==============================] - 1s 132us/step - loss: 6.3501 - val_loss: 6.3294\n",
      "Epoch 526/1000\n",
      "5966/5966 [==============================] - 1s 140us/step - loss: 6.3316 - val_loss: 6.3286\n",
      "Epoch 527/1000\n",
      "5966/5966 [==============================] - 1s 141us/step - loss: 6.3460 - val_loss: 6.3264\n",
      "Epoch 528/1000\n",
      "5966/5966 [==============================] - 1s 129us/step - loss: 6.3413 - val_loss: 6.3279\n",
      "Epoch 529/1000\n",
      "5966/5966 [==============================] - 1s 124us/step - loss: 6.3441 - val_loss: 6.3240\n",
      "Epoch 530/1000\n",
      "5966/5966 [==============================] - 1s 124us/step - loss: 6.3238 - val_loss: 6.3239\n",
      "Epoch 531/1000\n",
      "5966/5966 [==============================] - 1s 125us/step - loss: 6.3519 - val_loss: 6.3243\n",
      "Epoch 532/1000\n",
      "5966/5966 [==============================] - 1s 127us/step - loss: 6.3159 - val_loss: 6.3270\n",
      "Epoch 533/1000\n",
      "5966/5966 [==============================] - 1s 123us/step - loss: 6.3441 - val_loss: 6.3250\n",
      "Epoch 534/1000\n",
      "5966/5966 [==============================] - 1s 123us/step - loss: 6.3327 - val_loss: 6.3254\n",
      "Epoch 535/1000\n",
      "5966/5966 [==============================] - 1s 122us/step - loss: 6.3349 - val_loss: 6.3309\n",
      "Epoch 536/1000\n",
      "5966/5966 [==============================] - 1s 126us/step - loss: 6.3495 - val_loss: 6.3246\n",
      "Epoch 537/1000\n",
      "5966/5966 [==============================] - 1s 138us/step - loss: 6.3464 - val_loss: 6.3329\n",
      "Epoch 538/1000\n",
      "5966/5966 [==============================] - 1s 132us/step - loss: 6.3388 - val_loss: 6.3272\n",
      "Epoch 539/1000\n",
      "5966/5966 [==============================] - 1s 124us/step - loss: 6.3303 - val_loss: 6.3271\n",
      "Epoch 540/1000\n",
      "5966/5966 [==============================] - 1s 124us/step - loss: 6.3252 - val_loss: 6.3474\n",
      "Epoch 541/1000\n",
      "5966/5966 [==============================] - 1s 123us/step - loss: 6.3505 - val_loss: 6.3273\n",
      "Epoch 542/1000\n",
      "5966/5966 [==============================] - 1s 123us/step - loss: 6.3326 - val_loss: 6.3322\n",
      "Epoch 543/1000\n",
      "5966/5966 [==============================] - 1s 123us/step - loss: 6.3321 - val_loss: 6.3327\n",
      "Epoch 544/1000\n",
      "5966/5966 [==============================] - 1s 125us/step - loss: 6.3364 - val_loss: 6.3245\n",
      "Epoch 545/1000\n",
      "5966/5966 [==============================] - 1s 127us/step - loss: 6.3502 - val_loss: 6.3263\n",
      "Epoch 546/1000\n",
      "5966/5966 [==============================] - 1s 124us/step - loss: 6.3379 - val_loss: 6.3451\n",
      "Epoch 547/1000\n",
      "5966/5966 [==============================] - 1s 130us/step - loss: 6.3274 - val_loss: 6.3247\n",
      "Epoch 548/1000\n",
      "5966/5966 [==============================] - 1s 125us/step - loss: 6.3592 - val_loss: 6.3254\n",
      "Epoch 549/1000\n",
      "5966/5966 [==============================] - 1s 124us/step - loss: 6.3455 - val_loss: 6.3252\n",
      "Epoch 550/1000\n",
      "5966/5966 [==============================] - 1s 123us/step - loss: 6.3339 - val_loss: 6.3262\n",
      "Epoch 551/1000\n",
      "5966/5966 [==============================] - 1s 123us/step - loss: 6.3450 - val_loss: 6.3242\n",
      "Epoch 552/1000\n",
      "5966/5966 [==============================] - 1s 127us/step - loss: 6.3290 - val_loss: 6.3239\n",
      "Epoch 553/1000\n",
      "5966/5966 [==============================] - 1s 123us/step - loss: 6.3301 - val_loss: 6.3263\n",
      "Epoch 554/1000\n",
      "5966/5966 [==============================] - 1s 122us/step - loss: 6.3375 - val_loss: 6.3469\n",
      "Epoch 555/1000\n",
      "5966/5966 [==============================] - 1s 122us/step - loss: 6.3628 - val_loss: 6.3246\n",
      "Epoch 556/1000\n",
      "5966/5966 [==============================] - 1s 124us/step - loss: 6.3437 - val_loss: 6.3297\n",
      "Epoch 557/1000\n",
      "5966/5966 [==============================] - 1s 124us/step - loss: 6.3281 - val_loss: 6.3323\n",
      "Epoch 558/1000\n",
      "5966/5966 [==============================] - 1s 126us/step - loss: 6.3566 - val_loss: 6.3249\n",
      "Epoch 559/1000\n",
      "5966/5966 [==============================] - 1s 124us/step - loss: 6.3342 - val_loss: 6.3367\n",
      "Epoch 560/1000\n",
      "5966/5966 [==============================] - 1s 123us/step - loss: 6.3339 - val_loss: 6.3267\n",
      "Epoch 561/1000\n",
      "5966/5966 [==============================] - 1s 122us/step - loss: 6.3424 - val_loss: 6.3259\n",
      "Epoch 562/1000\n",
      "5966/5966 [==============================] - 1s 123us/step - loss: 6.3436 - val_loss: 6.3227\n",
      "Epoch 563/1000\n",
      "5966/5966 [==============================] - 1s 123us/step - loss: 6.3439 - val_loss: 6.3236\n",
      "Epoch 564/1000\n",
      "5966/5966 [==============================] - 1s 129us/step - loss: 6.3450 - val_loss: 6.3234\n",
      "Epoch 565/1000\n",
      "5966/5966 [==============================] - 1s 141us/step - loss: 6.3188 - val_loss: 6.3332\n",
      "Epoch 566/1000\n",
      "5966/5966 [==============================] - 1s 133us/step - loss: 6.3258 - val_loss: 6.3236\n",
      "Epoch 567/1000\n",
      "5966/5966 [==============================] - 1s 178us/step - loss: 6.3445 - val_loss: 6.3314\n",
      "Epoch 568/1000\n",
      "5966/5966 [==============================] - 1s 196us/step - loss: 6.3364 - val_loss: 6.3233\n",
      "Epoch 569/1000\n",
      "5966/5966 [==============================] - 1s 202us/step - loss: 6.3397 - val_loss: 6.3371\n",
      "Epoch 570/1000\n",
      "5966/5966 [==============================] - 1s 191us/step - loss: 6.3345 - val_loss: 6.3258\n",
      "Epoch 571/1000\n",
      "5966/5966 [==============================] - 1s 216us/step - loss: 6.3341 - val_loss: 6.3259\n",
      "Epoch 572/1000\n",
      "5966/5966 [==============================] - 1s 193us/step - loss: 6.3296 - val_loss: 6.3388\n",
      "Epoch 573/1000\n",
      "5966/5966 [==============================] - 1s 185us/step - loss: 6.3343 - val_loss: 6.3398\n",
      "Epoch 574/1000\n",
      "5966/5966 [==============================] - 1s 165us/step - loss: 6.3395 - val_loss: 6.3247\n",
      "Epoch 575/1000\n",
      "5966/5966 [==============================] - 1s 159us/step - loss: 6.3272 - val_loss: 6.3243\n",
      "Epoch 576/1000\n",
      "5966/5966 [==============================] - 1s 158us/step - loss: 6.3242 - val_loss: 6.3362\n",
      "Epoch 577/1000\n",
      "5966/5966 [==============================] - 1s 157us/step - loss: 6.3265 - val_loss: 6.3274\n",
      "Epoch 578/1000\n",
      "5966/5966 [==============================] - 1s 159us/step - loss: 6.3233 - val_loss: 6.3256\n",
      "Epoch 579/1000\n",
      "5966/5966 [==============================] - 1s 159us/step - loss: 6.3262 - val_loss: 6.3314\n",
      "Epoch 580/1000\n",
      "5966/5966 [==============================] - 1s 161us/step - loss: 6.3400 - val_loss: 6.3384\n",
      "Epoch 581/1000\n",
      "5966/5966 [==============================] - 1s 164us/step - loss: 6.3408 - val_loss: 6.3260\n",
      "Epoch 582/1000\n",
      "5966/5966 [==============================] - 1s 161us/step - loss: 6.3360 - val_loss: 6.3305\n",
      "Epoch 583/1000\n",
      "5966/5966 [==============================] - 1s 161us/step - loss: 6.3221 - val_loss: 6.3253\n",
      "Epoch 584/1000\n",
      "5966/5966 [==============================] - 1s 166us/step - loss: 6.3466 - val_loss: 6.3311\n",
      "Epoch 585/1000\n",
      "5966/5966 [==============================] - 1s 192us/step - loss: 6.3334 - val_loss: 6.3311\n",
      "Epoch 586/1000\n",
      "5966/5966 [==============================] - 1s 148us/step - loss: 6.3432 - val_loss: 6.3279\n",
      "Epoch 587/1000\n",
      "5966/5966 [==============================] - 1s 153us/step - loss: 6.3354 - val_loss: 6.3415\n",
      "Epoch 588/1000\n",
      "5966/5966 [==============================] - 1s 162us/step - loss: 6.3333 - val_loss: 6.3343\n",
      "Epoch 589/1000\n",
      "5966/5966 [==============================] - 1s 158us/step - loss: 6.3211 - val_loss: 6.3282\n",
      "Epoch 590/1000\n",
      "5966/5966 [==============================] - 1s 150us/step - loss: 6.3418 - val_loss: 6.3377\n",
      "Epoch 591/1000\n",
      "5966/5966 [==============================] - 1s 135us/step - loss: 6.3356 - val_loss: 6.3384\n",
      "Epoch 592/1000\n",
      "5966/5966 [==============================] - 1s 135us/step - loss: 6.3418 - val_loss: 6.3236\n",
      "Epoch 593/1000\n",
      "5966/5966 [==============================] - 1s 135us/step - loss: 6.3287 - val_loss: 6.3283\n",
      "Epoch 594/1000\n",
      "5966/5966 [==============================] - 1s 135us/step - loss: 6.3284 - val_loss: 6.3342\n",
      "Epoch 595/1000\n",
      "5966/5966 [==============================] - 1s 134us/step - loss: 6.3268 - val_loss: 6.3369\n",
      "Epoch 596/1000\n",
      "5966/5966 [==============================] - 1s 137us/step - loss: 6.3273 - val_loss: 6.3449\n",
      "Epoch 597/1000\n",
      "5966/5966 [==============================] - 1s 136us/step - loss: 6.3512 - val_loss: 6.3323\n",
      "Epoch 598/1000\n",
      "5966/5966 [==============================] - 1s 188us/step - loss: 6.3278 - val_loss: 6.3256\n",
      "Epoch 599/1000\n",
      "5966/5966 [==============================] - 1s 167us/step - loss: 6.3416 - val_loss: 6.3334\n",
      "Epoch 600/1000\n",
      "5966/5966 [==============================] - 1s 163us/step - loss: 6.3391 - val_loss: 6.3249\n",
      "Epoch 601/1000\n",
      "5966/5966 [==============================] - 1s 183us/step - loss: 6.3519 - val_loss: 6.3236\n",
      "Epoch 602/1000\n",
      "5966/5966 [==============================] - 1s 211us/step - loss: 6.3299 - val_loss: 6.3236\n",
      "Epoch 603/1000\n",
      "5966/5966 [==============================] - 1s 156us/step - loss: 6.3348 - val_loss: 6.3351\n",
      "Epoch 604/1000\n",
      "5966/5966 [==============================] - 1s 215us/step - loss: 6.3341 - val_loss: 6.3247\n",
      "Epoch 605/1000\n",
      "5966/5966 [==============================] - 1s 199us/step - loss: 6.3524 - val_loss: 6.3322\n",
      "Epoch 606/1000\n",
      "5966/5966 [==============================] - 1s 171us/step - loss: 6.3320 - val_loss: 6.3226\n",
      "Epoch 607/1000\n",
      "5966/5966 [==============================] - 1s 177us/step - loss: 6.3444 - val_loss: 6.3256\n",
      "Epoch 608/1000\n",
      "5966/5966 [==============================] - 1s 162us/step - loss: 6.3459 - val_loss: 6.3211\n",
      "Epoch 609/1000\n",
      "5966/5966 [==============================] - 1s 168us/step - loss: 6.3220 - val_loss: 6.3246\n",
      "Epoch 610/1000\n",
      "5966/5966 [==============================] - 1s 160us/step - loss: 6.3377 - val_loss: 6.3228\n",
      "Epoch 611/1000\n",
      "5966/5966 [==============================] - 1s 216us/step - loss: 6.3343 - val_loss: 6.3426\n",
      "Epoch 612/1000\n",
      "5966/5966 [==============================] - 1s 164us/step - loss: 6.3291 - val_loss: 6.3237\n",
      "Epoch 613/1000\n",
      "5966/5966 [==============================] - 1s 143us/step - loss: 6.3350 - val_loss: 6.3224\n",
      "Epoch 614/1000\n",
      "5966/5966 [==============================] - 1s 144us/step - loss: 6.3394 - val_loss: 6.3302\n",
      "Epoch 615/1000\n",
      "5966/5966 [==============================] - 1s 145us/step - loss: 6.3459 - val_loss: 6.3244\n",
      "Epoch 616/1000\n",
      "5966/5966 [==============================] - 1s 153us/step - loss: 6.3120 - val_loss: 6.3261\n",
      "Epoch 617/1000\n",
      "5966/5966 [==============================] - 1s 151us/step - loss: 6.3339 - val_loss: 6.3225\n",
      "Epoch 618/1000\n",
      "5966/5966 [==============================] - 1s 149us/step - loss: 6.3364 - val_loss: 6.3303\n",
      "Epoch 619/1000\n",
      "5966/5966 [==============================] - 1s 137us/step - loss: 6.3345 - val_loss: 6.3286\n",
      "Epoch 620/1000\n",
      "5966/5966 [==============================] - 1s 136us/step - loss: 6.3297 - val_loss: 6.3297\n",
      "Epoch 621/1000\n",
      "5966/5966 [==============================] - 1s 154us/step - loss: 6.3336 - val_loss: 6.3329\n",
      "Epoch 622/1000\n",
      "5966/5966 [==============================] - 1s 185us/step - loss: 6.3299 - val_loss: 6.3213\n",
      "Epoch 623/1000\n",
      "5966/5966 [==============================] - 1s 166us/step - loss: 6.3355 - val_loss: 6.3236\n",
      "Epoch 624/1000\n",
      "5966/5966 [==============================] - 1s 160us/step - loss: 6.3286 - val_loss: 6.3215\n",
      "Epoch 625/1000\n",
      "5966/5966 [==============================] - 1s 165us/step - loss: 6.3234 - val_loss: 6.3234\n",
      "Epoch 626/1000\n",
      "5966/5966 [==============================] - 1s 160us/step - loss: 6.3207 - val_loss: 6.3369\n",
      "Epoch 627/1000\n",
      "5966/5966 [==============================] - 1s 159us/step - loss: 6.3315 - val_loss: 6.3221\n",
      "Epoch 628/1000\n",
      "5966/5966 [==============================] - 1s 160us/step - loss: 6.3294 - val_loss: 6.3250\n",
      "Epoch 629/1000\n",
      "5966/5966 [==============================] - 1s 171us/step - loss: 6.3343 - val_loss: 6.3297\n",
      "Epoch 630/1000\n",
      "5966/5966 [==============================] - 1s 146us/step - loss: 6.3167 - val_loss: 6.3214\n",
      "Epoch 631/1000\n",
      "5966/5966 [==============================] - 1s 139us/step - loss: 6.3227 - val_loss: 6.3363\n",
      "Epoch 632/1000\n",
      "5966/5966 [==============================] - 1s 133us/step - loss: 6.3444 - val_loss: 6.3253\n",
      "Epoch 633/1000\n",
      "5966/5966 [==============================] - 1s 126us/step - loss: 6.3205 - val_loss: 6.3235\n",
      "Epoch 634/1000\n",
      "5966/5966 [==============================] - 1s 125us/step - loss: 6.3363 - val_loss: 6.3315\n",
      "Epoch 635/1000\n",
      "5966/5966 [==============================] - 1s 125us/step - loss: 6.3339 - val_loss: 6.3246\n",
      "Epoch 636/1000\n",
      "5966/5966 [==============================] - 1s 127us/step - loss: 6.3257 - val_loss: 6.3295\n",
      "Epoch 637/1000\n",
      "5966/5966 [==============================] - 1s 127us/step - loss: 6.3251 - val_loss: 6.3280\n",
      "Epoch 638/1000\n",
      "5966/5966 [==============================] - 1s 130us/step - loss: 6.3337 - val_loss: 6.3282\n",
      "Epoch 639/1000\n",
      "5966/5966 [==============================] - 1s 128us/step - loss: 6.3442 - val_loss: 6.3354\n",
      "Epoch 640/1000\n",
      "5966/5966 [==============================] - 1s 126us/step - loss: 6.3430 - val_loss: 6.3218\n",
      "Epoch 641/1000\n",
      "5966/5966 [==============================] - 1s 127us/step - loss: 6.3496 - val_loss: 6.3223\n",
      "Epoch 642/1000\n",
      "5966/5966 [==============================] - 1s 126us/step - loss: 6.3301 - val_loss: 6.3277\n",
      "Epoch 643/1000\n",
      "5966/5966 [==============================] - 1s 126us/step - loss: 6.3440 - val_loss: 6.3284\n",
      "Epoch 644/1000\n",
      "5966/5966 [==============================] - 1s 128us/step - loss: 6.3392 - val_loss: 6.3236\n",
      "Epoch 645/1000\n",
      "5966/5966 [==============================] - 1s 132us/step - loss: 6.3310 - val_loss: 6.3317\n",
      "Epoch 646/1000\n",
      "5966/5966 [==============================] - 1s 126us/step - loss: 6.3521 - val_loss: 6.3300\n",
      "Epoch 647/1000\n",
      "5966/5966 [==============================] - 1s 127us/step - loss: 6.3288 - val_loss: 6.3215\n",
      "Epoch 648/1000\n",
      "5966/5966 [==============================] - 1s 135us/step - loss: 6.3290 - val_loss: 6.3235\n",
      "Epoch 649/1000\n",
      "5966/5966 [==============================] - 1s 128us/step - loss: 6.3338 - val_loss: 6.3243\n",
      "Epoch 650/1000\n",
      "5966/5966 [==============================] - 1s 127us/step - loss: 6.3477 - val_loss: 6.3287\n",
      "Epoch 651/1000\n",
      "5966/5966 [==============================] - 1s 130us/step - loss: 6.3376 - val_loss: 6.3427\n",
      "Epoch 652/1000\n",
      "5966/5966 [==============================] - 1s 127us/step - loss: 6.3441 - val_loss: 6.3323\n",
      "Epoch 653/1000\n",
      "5966/5966 [==============================] - 1s 126us/step - loss: 6.3334 - val_loss: 6.3234\n",
      "Epoch 654/1000\n",
      "5966/5966 [==============================] - 1s 128us/step - loss: 6.3514 - val_loss: 6.3336\n",
      "Epoch 655/1000\n",
      "5966/5966 [==============================] - 1s 129us/step - loss: 6.3306 - val_loss: 6.3225\n",
      "Epoch 656/1000\n",
      "5966/5966 [==============================] - 1s 126us/step - loss: 6.3354 - val_loss: 6.3210\n",
      "Epoch 657/1000\n",
      "5966/5966 [==============================] - 1s 127us/step - loss: 6.3337 - val_loss: 6.3266\n",
      "Epoch 658/1000\n",
      "5966/5966 [==============================] - 1s 131us/step - loss: 6.3150 - val_loss: 6.3486\n",
      "Epoch 659/1000\n",
      "5966/5966 [==============================] - 1s 126us/step - loss: 6.3192 - val_loss: 6.3216\n",
      "Epoch 660/1000\n",
      "5966/5966 [==============================] - 1s 128us/step - loss: 6.3491 - val_loss: 6.3267\n",
      "Epoch 661/1000\n",
      "5966/5966 [==============================] - 1s 128us/step - loss: 6.3399 - val_loss: 6.3266\n",
      "Epoch 662/1000\n",
      "5966/5966 [==============================] - 1s 128us/step - loss: 6.3456 - val_loss: 6.3350\n",
      "Epoch 663/1000\n",
      "5966/5966 [==============================] - 1s 128us/step - loss: 6.3352 - val_loss: 6.3248\n",
      "Epoch 664/1000\n",
      "5966/5966 [==============================] - 1s 128us/step - loss: 6.3319 - val_loss: 6.3238\n",
      "Epoch 665/1000\n",
      "5966/5966 [==============================] - 1s 128us/step - loss: 6.3327 - val_loss: 6.3282\n",
      "Epoch 666/1000\n",
      "5966/5966 [==============================] - 1s 136us/step - loss: 6.3235 - val_loss: 6.3310\n",
      "Epoch 667/1000\n",
      "5966/5966 [==============================] - 1s 133us/step - loss: 6.3465 - val_loss: 6.3248\n",
      "Epoch 668/1000\n",
      "5966/5966 [==============================] - 1s 134us/step - loss: 6.3399 - val_loss: 6.3286\n",
      "Epoch 669/1000\n",
      "5966/5966 [==============================] - 1s 128us/step - loss: 6.3470 - val_loss: 6.3244\n",
      "Epoch 670/1000\n",
      "5966/5966 [==============================] - 1s 142us/step - loss: 6.3297 - val_loss: 6.3314\n",
      "Epoch 671/1000\n",
      "5966/5966 [==============================] - 1s 157us/step - loss: 6.3490 - val_loss: 6.3225\n",
      "Epoch 672/1000\n",
      "5966/5966 [==============================] - 1s 130us/step - loss: 6.3332 - val_loss: 6.3342\n",
      "Epoch 673/1000\n",
      "5966/5966 [==============================] - 1s 127us/step - loss: 6.3188 - val_loss: 6.3247\n",
      "Epoch 674/1000\n",
      "5966/5966 [==============================] - 1s 126us/step - loss: 6.3339 - val_loss: 6.3196\n",
      "Epoch 675/1000\n",
      "5966/5966 [==============================] - 1s 130us/step - loss: 6.3167 - val_loss: 6.3294\n",
      "Epoch 676/1000\n",
      "5966/5966 [==============================] - 1s 150us/step - loss: 6.3302 - val_loss: 6.3290\n",
      "Epoch 677/1000\n",
      "5966/5966 [==============================] - 1s 155us/step - loss: 6.3291 - val_loss: 6.3224\n",
      "Epoch 678/1000\n",
      "5966/5966 [==============================] - 1s 147us/step - loss: 6.3162 - val_loss: 6.3302\n",
      "Epoch 679/1000\n",
      "5966/5966 [==============================] - 1s 142us/step - loss: 6.3188 - val_loss: 6.3225\n",
      "Epoch 680/1000\n",
      "5966/5966 [==============================] - 1s 138us/step - loss: 6.3219 - val_loss: 6.3263\n",
      "Epoch 681/1000\n",
      "5966/5966 [==============================] - 1s 133us/step - loss: 6.3371 - val_loss: 6.3228\n",
      "Epoch 682/1000\n",
      "5966/5966 [==============================] - 1s 132us/step - loss: 6.3270 - val_loss: 6.3341\n",
      "Epoch 683/1000\n",
      "5966/5966 [==============================] - 1s 132us/step - loss: 6.3399 - val_loss: 6.3312\n",
      "Epoch 684/1000\n",
      "5966/5966 [==============================] - 1s 127us/step - loss: 6.3447 - val_loss: 6.3229\n",
      "Epoch 685/1000\n",
      "5966/5966 [==============================] - 1s 126us/step - loss: 6.3266 - val_loss: 6.3550\n",
      "Epoch 686/1000\n",
      "5966/5966 [==============================] - 1s 133us/step - loss: 6.3196 - val_loss: 6.3289\n",
      "Epoch 687/1000\n",
      "5966/5966 [==============================] - 1s 129us/step - loss: 6.3203 - val_loss: 6.3254\n",
      "Epoch 688/1000\n",
      "5966/5966 [==============================] - 1s 128us/step - loss: 6.3300 - val_loss: 6.3258\n",
      "Epoch 689/1000\n",
      "5966/5966 [==============================] - 1s 133us/step - loss: 6.3239 - val_loss: 6.3471\n",
      "Epoch 690/1000\n",
      "5966/5966 [==============================] - 1s 126us/step - loss: 6.3374 - val_loss: 6.3222\n",
      "Epoch 691/1000\n",
      "5966/5966 [==============================] - 1s 126us/step - loss: 6.3358 - val_loss: 6.3220\n",
      "Epoch 692/1000\n",
      "5966/5966 [==============================] - 1s 128us/step - loss: 6.3379 - val_loss: 6.3387\n",
      "Epoch 693/1000\n",
      "5966/5966 [==============================] - 1s 129us/step - loss: 6.3283 - val_loss: 6.3215\n",
      "Epoch 694/1000\n",
      "5966/5966 [==============================] - 1s 126us/step - loss: 6.3301 - val_loss: 6.3233\n",
      "Epoch 695/1000\n",
      "5966/5966 [==============================] - 1s 128us/step - loss: 6.3314 - val_loss: 6.3205\n",
      "Epoch 696/1000\n",
      "5966/5966 [==============================] - 1s 132us/step - loss: 6.3343 - val_loss: 6.3222\n",
      "Epoch 697/1000\n",
      "5966/5966 [==============================] - 1s 127us/step - loss: 6.3172 - val_loss: 6.3227\n",
      "Epoch 698/1000\n",
      "5966/5966 [==============================] - 1s 126us/step - loss: 6.3385 - val_loss: 6.3214\n",
      "Epoch 699/1000\n",
      "5966/5966 [==============================] - 1s 126us/step - loss: 6.3419 - val_loss: 6.3202\n",
      "Epoch 700/1000\n",
      "5966/5966 [==============================] - 1s 126us/step - loss: 6.3456 - val_loss: 6.3247\n",
      "Epoch 701/1000\n",
      "5966/5966 [==============================] - 1s 126us/step - loss: 6.3407 - val_loss: 6.3330\n",
      "Epoch 702/1000\n",
      "5966/5966 [==============================] - 1s 131us/step - loss: 6.3367 - val_loss: 6.3330\n",
      "Epoch 703/1000\n",
      "5966/5966 [==============================] - 1s 130us/step - loss: 6.3364 - val_loss: 6.3208\n",
      "Epoch 704/1000\n",
      "5966/5966 [==============================] - 1s 127us/step - loss: 6.3261 - val_loss: 6.3230\n",
      "Epoch 705/1000\n",
      "5966/5966 [==============================] - 1s 126us/step - loss: 6.3316 - val_loss: 6.3241\n",
      "Epoch 706/1000\n",
      "5966/5966 [==============================] - 1s 134us/step - loss: 6.3143 - val_loss: 6.3210\n",
      "Epoch 707/1000\n",
      "5966/5966 [==============================] - 1s 127us/step - loss: 6.3368 - val_loss: 6.3208\n",
      "Epoch 708/1000\n",
      "5966/5966 [==============================] - 1s 128us/step - loss: 6.3140 - val_loss: 6.3200\n",
      "Epoch 709/1000\n",
      "5966/5966 [==============================] - 1s 131us/step - loss: 6.3384 - val_loss: 6.3208\n",
      "Epoch 710/1000\n",
      "5966/5966 [==============================] - 1s 127us/step - loss: 6.3301 - val_loss: 6.3218\n",
      "Epoch 711/1000\n",
      "5966/5966 [==============================] - 1s 126us/step - loss: 6.3198 - val_loss: 6.3197\n",
      "Epoch 712/1000\n",
      "5966/5966 [==============================] - 1s 128us/step - loss: 6.3330 - val_loss: 6.3225\n",
      "Epoch 713/1000\n",
      "5966/5966 [==============================] - 1s 128us/step - loss: 6.3274 - val_loss: 6.3310\n",
      "Epoch 714/1000\n",
      "5966/5966 [==============================] - 1s 127us/step - loss: 6.3332 - val_loss: 6.3395\n",
      "Epoch 715/1000\n",
      "5966/5966 [==============================] - 1s 130us/step - loss: 6.3423 - val_loss: 6.3399\n",
      "Epoch 716/1000\n",
      "5966/5966 [==============================] - 1s 130us/step - loss: 6.3247 - val_loss: 6.3543\n",
      "Epoch 717/1000\n",
      "5966/5966 [==============================] - 1s 127us/step - loss: 6.3325 - val_loss: 6.3335\n",
      "Epoch 718/1000\n",
      "5966/5966 [==============================] - 1s 128us/step - loss: 6.3338 - val_loss: 6.3220\n",
      "Epoch 719/1000\n",
      "5966/5966 [==============================] - 1s 127us/step - loss: 6.3396 - val_loss: 6.3193\n",
      "Epoch 720/1000\n",
      "5966/5966 [==============================] - 1s 127us/step - loss: 6.3252 - val_loss: 6.3210\n",
      "Epoch 721/1000\n",
      "5966/5966 [==============================] - 1s 128us/step - loss: 6.3174 - val_loss: 6.3249\n",
      "Epoch 722/1000\n",
      "5966/5966 [==============================] - 1s 130us/step - loss: 6.3312 - val_loss: 6.3229\n",
      "Epoch 723/1000\n",
      "5966/5966 [==============================] - 1s 126us/step - loss: 6.3277 - val_loss: 6.3209\n",
      "Epoch 724/1000\n",
      "5966/5966 [==============================] - 1s 127us/step - loss: 6.3254 - val_loss: 6.3435\n",
      "Epoch 725/1000\n",
      "5966/5966 [==============================] - 1s 127us/step - loss: 6.3295 - val_loss: 6.3224\n",
      "Epoch 726/1000\n",
      "5966/5966 [==============================] - 1s 136us/step - loss: 6.3376 - val_loss: 6.3348\n",
      "Epoch 727/1000\n",
      "5966/5966 [==============================] - 1s 126us/step - loss: 6.3232 - val_loss: 6.3224\n",
      "Epoch 728/1000\n",
      "5966/5966 [==============================] - 1s 129us/step - loss: 6.3247 - val_loss: 6.3206\n",
      "Epoch 729/1000\n",
      "5966/5966 [==============================] - 1s 128us/step - loss: 6.3239 - val_loss: 6.3307\n",
      "Epoch 730/1000\n",
      "5966/5966 [==============================] - 1s 128us/step - loss: 6.3241 - val_loss: 6.3215\n",
      "Epoch 731/1000\n",
      "5966/5966 [==============================] - 1s 128us/step - loss: 6.3396 - val_loss: 6.3382\n",
      "Epoch 732/1000\n",
      "5966/5966 [==============================] - 1s 126us/step - loss: 6.3293 - val_loss: 6.3211\n",
      "Epoch 733/1000\n",
      "5966/5966 [==============================] - 1s 126us/step - loss: 6.3301 - val_loss: 6.3214\n",
      "Epoch 734/1000\n",
      "5966/5966 [==============================] - 1s 128us/step - loss: 6.3409 - val_loss: 6.3237\n",
      "Epoch 735/1000\n",
      "5966/5966 [==============================] - 1s 135us/step - loss: 6.3231 - val_loss: 6.3221\n",
      "Epoch 736/1000\n",
      "5966/5966 [==============================] - 1s 133us/step - loss: 6.3476 - val_loss: 6.3210\n",
      "Epoch 737/1000\n",
      "5966/5966 [==============================] - 1s 128us/step - loss: 6.3346 - val_loss: 6.3248\n",
      "Epoch 738/1000\n",
      "5966/5966 [==============================] - 1s 128us/step - loss: 6.3342 - val_loss: 6.3270\n",
      "Epoch 739/1000\n",
      "5966/5966 [==============================] - 1s 128us/step - loss: 6.3164 - val_loss: 6.3214\n",
      "Epoch 740/1000\n",
      "5966/5966 [==============================] - 1s 127us/step - loss: 6.3253 - val_loss: 6.3216\n",
      "Epoch 741/1000\n",
      "5966/5966 [==============================] - 1s 128us/step - loss: 6.3300 - val_loss: 6.3196\n",
      "Epoch 742/1000\n",
      "5966/5966 [==============================] - 1s 130us/step - loss: 6.3292 - val_loss: 6.3228\n",
      "Epoch 743/1000\n",
      "5966/5966 [==============================] - 1s 129us/step - loss: 6.3402 - val_loss: 6.3195\n",
      "Epoch 744/1000\n",
      "5966/5966 [==============================] - 1s 127us/step - loss: 6.3522 - val_loss: 6.3219\n",
      "Epoch 745/1000\n",
      "5966/5966 [==============================] - 1s 132us/step - loss: 6.3311 - val_loss: 6.3258\n",
      "Epoch 746/1000\n",
      "5966/5966 [==============================] - 1s 132us/step - loss: 6.3182 - val_loss: 6.3555\n",
      "Epoch 747/1000\n",
      "5966/5966 [==============================] - 1s 130us/step - loss: 6.3369 - val_loss: 6.3361\n",
      "Epoch 748/1000\n",
      "5966/5966 [==============================] - 1s 153us/step - loss: 6.3241 - val_loss: 6.3202\n",
      "Epoch 749/1000\n",
      "5966/5966 [==============================] - 1s 146us/step - loss: 6.3330 - val_loss: 6.3436\n",
      "Epoch 750/1000\n",
      "5966/5966 [==============================] - 1s 129us/step - loss: 6.3397 - val_loss: 6.3194\n",
      "Epoch 751/1000\n",
      "5966/5966 [==============================] - 1s 126us/step - loss: 6.3384 - val_loss: 6.3187\n",
      "Epoch 752/1000\n",
      "5966/5966 [==============================] - 1s 128us/step - loss: 6.3222 - val_loss: 6.3219\n",
      "Epoch 753/1000\n",
      "5966/5966 [==============================] - 1s 136us/step - loss: 6.3251 - val_loss: 6.3216\n",
      "Epoch 754/1000\n",
      "5966/5966 [==============================] - 1s 135us/step - loss: 6.3371 - val_loss: 6.3204\n",
      "Epoch 755/1000\n",
      "5966/5966 [==============================] - 1s 127us/step - loss: 6.3359 - val_loss: 6.3426\n",
      "Epoch 756/1000\n",
      "5966/5966 [==============================] - 1s 128us/step - loss: 6.3158 - val_loss: 6.3260\n",
      "Epoch 757/1000\n",
      "5966/5966 [==============================] - 1s 127us/step - loss: 6.3217 - val_loss: 6.3259\n",
      "Epoch 758/1000\n",
      "5966/5966 [==============================] - 1s 126us/step - loss: 6.3321 - val_loss: 6.3219\n",
      "Epoch 759/1000\n",
      "5966/5966 [==============================] - 1s 128us/step - loss: 6.3459 - val_loss: 6.3218\n",
      "Epoch 760/1000\n",
      "5966/5966 [==============================] - 1s 147us/step - loss: 6.3131 - val_loss: 6.3245\n",
      "Epoch 761/1000\n",
      "5966/5966 [==============================] - 1s 156us/step - loss: 6.3370 - val_loss: 6.3343\n",
      "Epoch 762/1000\n",
      "5966/5966 [==============================] - 1s 145us/step - loss: 6.3343 - val_loss: 6.3234\n",
      "Epoch 763/1000\n",
      "5966/5966 [==============================] - 1s 142us/step - loss: 6.3219 - val_loss: 6.3230\n",
      "Epoch 764/1000\n",
      "5966/5966 [==============================] - 1s 145us/step - loss: 6.3415 - val_loss: 6.3297\n",
      "Epoch 765/1000\n",
      "5966/5966 [==============================] - 1s 143us/step - loss: 6.3204 - val_loss: 6.3218\n",
      "Epoch 766/1000\n",
      "5966/5966 [==============================] - 1s 135us/step - loss: 6.3324 - val_loss: 6.3243\n",
      "Epoch 767/1000\n",
      "5966/5966 [==============================] - 1s 126us/step - loss: 6.3146 - val_loss: 6.3242\n",
      "Epoch 768/1000\n",
      "5966/5966 [==============================] - 1s 126us/step - loss: 6.3395 - val_loss: 6.3234\n",
      "Epoch 769/1000\n",
      "5966/5966 [==============================] - 1s 128us/step - loss: 6.3316 - val_loss: 6.3231\n",
      "Epoch 770/1000\n",
      "5966/5966 [==============================] - 1s 125us/step - loss: 6.3325 - val_loss: 6.3201\n",
      "Epoch 771/1000\n",
      "5966/5966 [==============================] - 1s 126us/step - loss: 6.3214 - val_loss: 6.3189\n",
      "Epoch 772/1000\n",
      "5966/5966 [==============================] - 1s 127us/step - loss: 6.3372 - val_loss: 6.3229\n",
      "Epoch 773/1000\n",
      "5966/5966 [==============================] - 1s 132us/step - loss: 6.3367 - val_loss: 6.3204\n",
      "Epoch 774/1000\n",
      "5966/5966 [==============================] - 1s 127us/step - loss: 6.3544 - val_loss: 6.3255\n",
      "Epoch 775/1000\n",
      "5966/5966 [==============================] - 1s 126us/step - loss: 6.3313 - val_loss: 6.3326\n",
      "Epoch 776/1000\n",
      "5966/5966 [==============================] - 1s 127us/step - loss: 6.3371 - val_loss: 6.3210\n",
      "Epoch 777/1000\n",
      "5966/5966 [==============================] - 1s 126us/step - loss: 6.3379 - val_loss: 6.3440\n",
      "Epoch 778/1000\n",
      "5966/5966 [==============================] - 1s 127us/step - loss: 6.3371 - val_loss: 6.3210\n",
      "Epoch 779/1000\n",
      "5966/5966 [==============================] - 1s 128us/step - loss: 6.3317 - val_loss: 6.3233\n",
      "Epoch 780/1000\n",
      "5966/5966 [==============================] - 1s 127us/step - loss: 6.3216 - val_loss: 6.3287\n",
      "Epoch 781/1000\n",
      "5966/5966 [==============================] - 1s 127us/step - loss: 6.3358 - val_loss: 6.3210\n",
      "Epoch 782/1000\n",
      "5966/5966 [==============================] - 1s 127us/step - loss: 6.3402 - val_loss: 6.3305\n",
      "Epoch 783/1000\n",
      "5966/5966 [==============================] - 1s 127us/step - loss: 6.3330 - val_loss: 6.3204\n",
      "Epoch 784/1000\n",
      "5966/5966 [==============================] - 1s 135us/step - loss: 6.3342 - val_loss: 6.3196\n",
      "Epoch 785/1000\n",
      "5966/5966 [==============================] - 1s 128us/step - loss: 6.3292 - val_loss: 6.3478\n",
      "Epoch 786/1000\n",
      "5966/5966 [==============================] - 1s 131us/step - loss: 6.3127 - val_loss: 6.3256\n",
      "Epoch 787/1000\n",
      "5966/5966 [==============================] - 1s 126us/step - loss: 6.3318 - val_loss: 6.3224\n",
      "Epoch 788/1000\n",
      "5966/5966 [==============================] - 1s 125us/step - loss: 6.3370 - val_loss: 6.3305\n",
      "Epoch 789/1000\n",
      "5966/5966 [==============================] - 1s 127us/step - loss: 6.3336 - val_loss: 6.3205\n",
      "Epoch 790/1000\n",
      "5966/5966 [==============================] - 1s 128us/step - loss: 6.3268 - val_loss: 6.3207\n",
      "Epoch 791/1000\n",
      "5966/5966 [==============================] - 1s 125us/step - loss: 6.3379 - val_loss: 6.3262\n",
      "Epoch 792/1000\n",
      "5966/5966 [==============================] - 1s 129us/step - loss: 6.3268 - val_loss: 6.3243\n",
      "Epoch 793/1000\n",
      "5966/5966 [==============================] - 1s 130us/step - loss: 6.3394 - val_loss: 6.3199\n",
      "Epoch 794/1000\n",
      "5966/5966 [==============================] - 1s 126us/step - loss: 6.3265 - val_loss: 6.3274\n",
      "Epoch 795/1000\n",
      "5966/5966 [==============================] - 1s 127us/step - loss: 6.3397 - val_loss: 6.3230\n",
      "Epoch 796/1000\n",
      "5966/5966 [==============================] - 1s 126us/step - loss: 6.3235 - val_loss: 6.3233\n",
      "Epoch 797/1000\n",
      "5966/5966 [==============================] - 1s 126us/step - loss: 6.3377 - val_loss: 6.3446\n",
      "Epoch 798/1000\n",
      "5966/5966 [==============================] - 1s 127us/step - loss: 6.3339 - val_loss: 6.3311\n",
      "Epoch 799/1000\n",
      "5966/5966 [==============================] - 1s 130us/step - loss: 6.3242 - val_loss: 6.3298\n",
      "Epoch 800/1000\n",
      "5966/5966 [==============================] - 1s 126us/step - loss: 6.3393 - val_loss: 6.3218\n",
      "Epoch 801/1000\n",
      "5966/5966 [==============================] - 1s 128us/step - loss: 6.3331 - val_loss: 6.3363\n",
      "Epoch 802/1000\n",
      "5966/5966 [==============================] - 1s 128us/step - loss: 6.3277 - val_loss: 6.3202\n",
      "Epoch 803/1000\n",
      "5966/5966 [==============================] - 1s 133us/step - loss: 6.3330 - val_loss: 6.3215\n",
      "Epoch 804/1000\n",
      "5966/5966 [==============================] - 1s 138us/step - loss: 6.3139 - val_loss: 6.3418\n",
      "Epoch 805/1000\n",
      "5966/5966 [==============================] - 1s 142us/step - loss: 6.3305 - val_loss: 6.3301\n",
      "Epoch 806/1000\n",
      "5966/5966 [==============================] - 1s 138us/step - loss: 6.3278 - val_loss: 6.3268\n",
      "Epoch 807/1000\n",
      "5966/5966 [==============================] - 1s 187us/step - loss: 6.3352 - val_loss: 6.3244\n",
      "Epoch 808/1000\n",
      "5966/5966 [==============================] - 1s 211us/step - loss: 6.3447 - val_loss: 6.3290\n",
      "Epoch 809/1000\n",
      "5966/5966 [==============================] - 1s 239us/step - loss: 6.3325 - val_loss: 6.3241\n",
      "Epoch 810/1000\n",
      "5966/5966 [==============================] - 1s 234us/step - loss: 6.3322 - val_loss: 6.3267\n",
      "Epoch 811/1000\n",
      "5966/5966 [==============================] - 1s 214us/step - loss: 6.3309 - val_loss: 6.3215\n",
      "Epoch 812/1000\n",
      "5966/5966 [==============================] - 1s 175us/step - loss: 6.3174 - val_loss: 6.3206\n",
      "Epoch 813/1000\n",
      "5966/5966 [==============================] - 1s 163us/step - loss: 6.3017 - val_loss: 6.3205\n",
      "Epoch 814/1000\n",
      "5966/5966 [==============================] - 1s 183us/step - loss: 6.3482 - val_loss: 6.3204\n",
      "Epoch 815/1000\n",
      "5966/5966 [==============================] - 1s 182us/step - loss: 6.3381 - val_loss: 6.3212\n",
      "Epoch 816/1000\n",
      "5966/5966 [==============================] - 1s 143us/step - loss: 6.3371 - val_loss: 6.3238\n",
      "Epoch 817/1000\n",
      "5966/5966 [==============================] - 1s 141us/step - loss: 6.3399 - val_loss: 6.3242\n",
      "Epoch 818/1000\n",
      "5966/5966 [==============================] - 1s 172us/step - loss: 6.3261 - val_loss: 6.3213\n",
      "Epoch 819/1000\n",
      "5966/5966 [==============================] - 1s 160us/step - loss: 6.3267 - val_loss: 6.3216\n",
      "Epoch 820/1000\n",
      "5966/5966 [==============================] - 1s 149us/step - loss: 6.3083 - val_loss: 6.3218\n",
      "Epoch 821/1000\n",
      "5966/5966 [==============================] - 1s 146us/step - loss: 6.3317 - val_loss: 6.3210\n",
      "Epoch 822/1000\n",
      "5966/5966 [==============================] - 1s 148us/step - loss: 6.3151 - val_loss: 6.3286\n",
      "Epoch 823/1000\n",
      "5966/5966 [==============================] - 1s 134us/step - loss: 6.3380 - val_loss: 6.3228\n",
      "Epoch 824/1000\n",
      "5966/5966 [==============================] - 1s 126us/step - loss: 6.3430 - val_loss: 6.3255\n",
      "Epoch 825/1000\n",
      "5966/5966 [==============================] - 1s 132us/step - loss: 6.3310 - val_loss: 6.3338\n",
      "Epoch 826/1000\n",
      "5966/5966 [==============================] - 1s 126us/step - loss: 6.3320 - val_loss: 6.3263\n",
      "Epoch 827/1000\n",
      "5966/5966 [==============================] - 1s 162us/step - loss: 6.3410 - val_loss: 6.3244\n",
      "Epoch 828/1000\n",
      "5966/5966 [==============================] - 1s 139us/step - loss: 6.3194 - val_loss: 6.3210\n",
      "Epoch 829/1000\n",
      "5966/5966 [==============================] - 1s 125us/step - loss: 6.3366 - val_loss: 6.3240\n",
      "Epoch 830/1000\n",
      "5966/5966 [==============================] - 1s 128us/step - loss: 6.3288 - val_loss: 6.3197\n",
      "Epoch 831/1000\n",
      "5966/5966 [==============================] - 1s 131us/step - loss: 6.3281 - val_loss: 6.3309\n",
      "Epoch 832/1000\n",
      "5966/5966 [==============================] - 1s 127us/step - loss: 6.3367 - val_loss: 6.3184\n",
      "Epoch 833/1000\n",
      "5966/5966 [==============================] - 1s 126us/step - loss: 6.3221 - val_loss: 6.3256\n",
      "Epoch 834/1000\n",
      "5966/5966 [==============================] - 1s 130us/step - loss: 6.3518 - val_loss: 6.3191\n",
      "Epoch 835/1000\n",
      "5966/5966 [==============================] - 1s 129us/step - loss: 6.3276 - val_loss: 6.3233\n",
      "Epoch 836/1000\n",
      "5966/5966 [==============================] - 1s 133us/step - loss: 6.3245 - val_loss: 6.3249\n",
      "Epoch 837/1000\n",
      "5966/5966 [==============================] - 1s 127us/step - loss: 6.3247 - val_loss: 6.3186\n",
      "Epoch 838/1000\n",
      "5966/5966 [==============================] - 1s 130us/step - loss: 6.3312 - val_loss: 6.3187\n",
      "Epoch 839/1000\n",
      "5966/5966 [==============================] - 1s 143us/step - loss: 6.3234 - val_loss: 6.3450\n",
      "Epoch 840/1000\n",
      "5966/5966 [==============================] - 1s 148us/step - loss: 6.3330 - val_loss: 6.3261\n",
      "Epoch 841/1000\n",
      "5966/5966 [==============================] - 1s 140us/step - loss: 6.3240 - val_loss: 6.3488\n",
      "Epoch 842/1000\n",
      "5966/5966 [==============================] - 1s 140us/step - loss: 6.3333 - val_loss: 6.3189\n",
      "Epoch 843/1000\n",
      "5966/5966 [==============================] - 1s 141us/step - loss: 6.3194 - val_loss: 6.3235\n",
      "Epoch 844/1000\n",
      "5966/5966 [==============================] - 1s 150us/step - loss: 6.3244 - val_loss: 6.3295\n",
      "Epoch 845/1000\n",
      "5966/5966 [==============================] - 1s 133us/step - loss: 6.3201 - val_loss: 6.3187\n",
      "Epoch 846/1000\n",
      "5966/5966 [==============================] - 1s 131us/step - loss: 6.3356 - val_loss: 6.3353\n",
      "Epoch 847/1000\n",
      "5966/5966 [==============================] - 1s 127us/step - loss: 6.3203 - val_loss: 6.3185\n",
      "Epoch 848/1000\n",
      "5966/5966 [==============================] - 1s 128us/step - loss: 6.3278 - val_loss: 6.3197\n",
      "Epoch 849/1000\n",
      "5966/5966 [==============================] - 1s 144us/step - loss: 6.3309 - val_loss: 6.3213\n",
      "Epoch 850/1000\n",
      "5966/5966 [==============================] - 1s 167us/step - loss: 6.3402 - val_loss: 6.3317\n",
      "Epoch 851/1000\n",
      "5966/5966 [==============================] - 1s 162us/step - loss: 6.3375 - val_loss: 6.3208\n",
      "Epoch 852/1000\n",
      "5966/5966 [==============================] - 1s 161us/step - loss: 6.3202 - val_loss: 6.3208\n",
      "Epoch 853/1000\n",
      "5966/5966 [==============================] - 1s 177us/step - loss: 6.3238 - val_loss: 6.3178\n",
      "Epoch 854/1000\n",
      "5966/5966 [==============================] - 1s 179us/step - loss: 6.3340 - val_loss: 6.3303\n",
      "Epoch 855/1000\n",
      "5966/5966 [==============================] - 1s 184us/step - loss: 6.3357 - val_loss: 6.3255\n",
      "Epoch 856/1000\n",
      "5966/5966 [==============================] - 1s 137us/step - loss: 6.3203 - val_loss: 6.3219\n",
      "Epoch 857/1000\n",
      "5966/5966 [==============================] - 1s 140us/step - loss: 6.3204 - val_loss: 6.3449\n",
      "Epoch 858/1000\n",
      "5966/5966 [==============================] - 1s 142us/step - loss: 6.3374 - val_loss: 6.3272\n",
      "Epoch 859/1000\n",
      "5966/5966 [==============================] - 1s 129us/step - loss: 6.3211 - val_loss: 6.3191\n",
      "Epoch 860/1000\n",
      "5966/5966 [==============================] - 1s 124us/step - loss: 6.3281 - val_loss: 6.3254\n",
      "Epoch 861/1000\n",
      "5966/5966 [==============================] - 1s 126us/step - loss: 6.3344 - val_loss: 6.3201\n",
      "Epoch 862/1000\n",
      "5966/5966 [==============================] - 1s 124us/step - loss: 6.3315 - val_loss: 6.3260\n",
      "Epoch 863/1000\n",
      "5966/5966 [==============================] - 1s 134us/step - loss: 6.3348 - val_loss: 6.3229\n",
      "Epoch 864/1000\n",
      "5966/5966 [==============================] - 1s 137us/step - loss: 6.3277 - val_loss: 6.3341\n",
      "Epoch 865/1000\n",
      "5966/5966 [==============================] - 1s 138us/step - loss: 6.3161 - val_loss: 6.3225\n",
      "Epoch 866/1000\n",
      "5966/5966 [==============================] - 1s 129us/step - loss: 6.3315 - val_loss: 6.3337\n",
      "Epoch 867/1000\n",
      "5966/5966 [==============================] - 1s 146us/step - loss: 6.3160 - val_loss: 6.3240\n",
      "Epoch 868/1000\n",
      "5966/5966 [==============================] - 1s 185us/step - loss: 6.3353 - val_loss: 6.3182\n",
      "Epoch 869/1000\n",
      "5966/5966 [==============================] - 1s 164us/step - loss: 6.2999 - val_loss: 6.3186\n",
      "Epoch 870/1000\n",
      "5966/5966 [==============================] - 1s 139us/step - loss: 6.3265 - val_loss: 6.3197\n",
      "Epoch 871/1000\n",
      "5966/5966 [==============================] - 1s 143us/step - loss: 6.3152 - val_loss: 6.3320\n",
      "Epoch 872/1000\n",
      "5966/5966 [==============================] - 1s 136us/step - loss: 6.3178 - val_loss: 6.3307\n",
      "Epoch 873/1000\n",
      "5966/5966 [==============================] - 1s 133us/step - loss: 6.3235 - val_loss: 6.3407\n",
      "Epoch 874/1000\n",
      "5966/5966 [==============================] - 1s 127us/step - loss: 6.3230 - val_loss: 6.3249\n",
      "Epoch 875/1000\n",
      "5966/5966 [==============================] - 1s 134us/step - loss: 6.3337 - val_loss: 6.3272\n",
      "Epoch 876/1000\n",
      "5966/5966 [==============================] - 1s 134us/step - loss: 6.3216 - val_loss: 6.3321\n",
      "Epoch 877/1000\n",
      "5966/5966 [==============================] - 1s 139us/step - loss: 6.3326 - val_loss: 6.3203\n",
      "Epoch 878/1000\n",
      "5966/5966 [==============================] - 1s 134us/step - loss: 6.3225 - val_loss: 6.3257\n",
      "Epoch 879/1000\n",
      "5966/5966 [==============================] - 1s 135us/step - loss: 6.3248 - val_loss: 6.3173\n",
      "Epoch 880/1000\n",
      "5966/5966 [==============================] - 1s 130us/step - loss: 6.3323 - val_loss: 6.3286\n",
      "Epoch 881/1000\n",
      "5966/5966 [==============================] - 1s 129us/step - loss: 6.3248 - val_loss: 6.3183\n",
      "Epoch 882/1000\n",
      "5966/5966 [==============================] - 1s 129us/step - loss: 6.3451 - val_loss: 6.3409\n",
      "Epoch 883/1000\n",
      "5966/5966 [==============================] - 1s 130us/step - loss: 6.3177 - val_loss: 6.3193\n",
      "Epoch 884/1000\n",
      "5966/5966 [==============================] - 1s 133us/step - loss: 6.3404 - val_loss: 6.3245\n",
      "Epoch 885/1000\n",
      "5966/5966 [==============================] - 1s 143us/step - loss: 6.3353 - val_loss: 6.3225\n",
      "Epoch 886/1000\n",
      "5966/5966 [==============================] - 1s 124us/step - loss: 6.3312 - val_loss: 6.3473\n",
      "Epoch 887/1000\n",
      "5966/5966 [==============================] - 1s 123us/step - loss: 6.3275 - val_loss: 6.3237\n",
      "Epoch 888/1000\n",
      "5966/5966 [==============================] - 1s 134us/step - loss: 6.3417 - val_loss: 6.3218\n",
      "Epoch 889/1000\n",
      "5966/5966 [==============================] - 1s 137us/step - loss: 6.3252 - val_loss: 6.3201\n",
      "Epoch 890/1000\n",
      "5966/5966 [==============================] - 1s 149us/step - loss: 6.3274 - val_loss: 6.3227\n",
      "Epoch 891/1000\n",
      "5966/5966 [==============================] - 1s 138us/step - loss: 6.3203 - val_loss: 6.3234\n",
      "Epoch 892/1000\n",
      "5966/5966 [==============================] - 1s 133us/step - loss: 6.3252 - val_loss: 6.3194\n",
      "Epoch 893/1000\n",
      "5966/5966 [==============================] - 1s 135us/step - loss: 6.3253 - val_loss: 6.3222\n",
      "Epoch 894/1000\n",
      "5966/5966 [==============================] - 1s 159us/step - loss: 6.3256 - val_loss: 6.3216\n",
      "Epoch 895/1000\n",
      "5966/5966 [==============================] - 1s 133us/step - loss: 6.3310 - val_loss: 6.3414\n",
      "Epoch 896/1000\n",
      "5966/5966 [==============================] - 1s 147us/step - loss: 6.3312 - val_loss: 6.3178\n",
      "Epoch 897/1000\n",
      "5966/5966 [==============================] - 1s 161us/step - loss: 6.3265 - val_loss: 6.3242\n",
      "Epoch 898/1000\n",
      "5966/5966 [==============================] - 1s 142us/step - loss: 6.3350 - val_loss: 6.3165\n",
      "Epoch 899/1000\n",
      "5966/5966 [==============================] - 1s 143us/step - loss: 6.3260 - val_loss: 6.3227\n",
      "Epoch 900/1000\n",
      "5966/5966 [==============================] - 1s 210us/step - loss: 6.3207 - val_loss: 6.3205\n",
      "Epoch 901/1000\n",
      "5966/5966 [==============================] - 1s 163us/step - loss: 6.3190 - val_loss: 6.3191\n",
      "Epoch 902/1000\n",
      "5966/5966 [==============================] - 1s 224us/step - loss: 6.3315 - val_loss: 6.3405\n",
      "Epoch 903/1000\n",
      "5966/5966 [==============================] - 2s 300us/step - loss: 6.3387 - val_loss: 6.3173\n",
      "Epoch 904/1000\n",
      "5966/5966 [==============================] - 1s 184us/step - loss: 6.3308 - val_loss: 6.3168\n",
      "Epoch 905/1000\n",
      "5966/5966 [==============================] - 1s 181us/step - loss: 6.3154 - val_loss: 6.3238\n",
      "Epoch 906/1000\n",
      "5966/5966 [==============================] - 1s 232us/step - loss: 6.3275 - val_loss: 6.3199\n",
      "Epoch 907/1000\n",
      "5966/5966 [==============================] - 1s 212us/step - loss: 6.3172 - val_loss: 6.3243\n",
      "Epoch 908/1000\n",
      "5966/5966 [==============================] - 1s 152us/step - loss: 6.3292 - val_loss: 6.3184\n",
      "Epoch 909/1000\n",
      "5966/5966 [==============================] - 1s 134us/step - loss: 6.3288 - val_loss: 6.3459\n",
      "Epoch 910/1000\n",
      "5966/5966 [==============================] - 1s 135us/step - loss: 6.3399 - val_loss: 6.3666\n",
      "Epoch 911/1000\n",
      "5966/5966 [==============================] - 1s 134us/step - loss: 6.3384 - val_loss: 6.3394\n",
      "Epoch 912/1000\n",
      "5966/5966 [==============================] - 1s 135us/step - loss: 6.3299 - val_loss: 6.3203\n",
      "Epoch 913/1000\n",
      "5966/5966 [==============================] - 1s 193us/step - loss: 6.3296 - val_loss: 6.3423\n",
      "Epoch 914/1000\n",
      "5966/5966 [==============================] - 1s 160us/step - loss: 6.3357 - val_loss: 6.3186\n",
      "Epoch 915/1000\n",
      "5966/5966 [==============================] - 1s 150us/step - loss: 6.3351 - val_loss: 6.3177\n",
      "Epoch 916/1000\n",
      "5966/5966 [==============================] - 1s 155us/step - loss: 6.3167 - val_loss: 6.3344\n",
      "Epoch 917/1000\n",
      "5966/5966 [==============================] - 1s 209us/step - loss: 6.3176 - val_loss: 6.3207\n",
      "Epoch 918/1000\n",
      "5966/5966 [==============================] - 1s 148us/step - loss: 6.3292 - val_loss: 6.3165\n",
      "Epoch 919/1000\n",
      "5966/5966 [==============================] - 1s 142us/step - loss: 6.3230 - val_loss: 6.3209\n",
      "Epoch 920/1000\n",
      "5966/5966 [==============================] - 1s 141us/step - loss: 6.3161 - val_loss: 6.3202\n",
      "Epoch 921/1000\n",
      "5966/5966 [==============================] - 1s 144us/step - loss: 6.3462 - val_loss: 6.3171\n",
      "Epoch 922/1000\n",
      "5966/5966 [==============================] - 1s 137us/step - loss: 6.3260 - val_loss: 6.3194\n",
      "Epoch 923/1000\n",
      "5966/5966 [==============================] - 1s 179us/step - loss: 6.3352 - val_loss: 6.3192\n",
      "Epoch 924/1000\n",
      "5966/5966 [==============================] - 1s 145us/step - loss: 6.3483 - val_loss: 6.3268\n",
      "Epoch 925/1000\n",
      "5966/5966 [==============================] - 1s 137us/step - loss: 6.3218 - val_loss: 6.3517\n",
      "Epoch 926/1000\n",
      "5966/5966 [==============================] - 1s 135us/step - loss: 6.3227 - val_loss: 6.3202\n",
      "Epoch 927/1000\n",
      "5966/5966 [==============================] - 1s 149us/step - loss: 6.3238 - val_loss: 6.3733\n",
      "Epoch 928/1000\n",
      "5966/5966 [==============================] - 1s 142us/step - loss: 6.3347 - val_loss: 6.3160\n",
      "Epoch 929/1000\n",
      "5966/5966 [==============================] - 1s 156us/step - loss: 6.3265 - val_loss: 6.3175\n",
      "Epoch 930/1000\n",
      "5966/5966 [==============================] - 1s 195us/step - loss: 6.3494 - val_loss: 6.3185\n",
      "Epoch 931/1000\n",
      "5966/5966 [==============================] - 1s 219us/step - loss: 6.3291 - val_loss: 6.3197\n",
      "Epoch 932/1000\n",
      "5966/5966 [==============================] - 1s 197us/step - loss: 6.3261 - val_loss: 6.3169\n",
      "Epoch 933/1000\n",
      "5966/5966 [==============================] - 1s 190us/step - loss: 6.3259 - val_loss: 6.3160\n",
      "Epoch 934/1000\n",
      "5966/5966 [==============================] - 1s 181us/step - loss: 6.3260 - val_loss: 6.3161\n",
      "Epoch 935/1000\n",
      "5966/5966 [==============================] - 1s 166us/step - loss: 6.3351 - val_loss: 6.3168\n",
      "Epoch 936/1000\n",
      "5966/5966 [==============================] - 1s 184us/step - loss: 6.3375 - val_loss: 6.3226\n",
      "Epoch 937/1000\n",
      "5966/5966 [==============================] - 1s 176us/step - loss: 6.3106 - val_loss: 6.3226\n",
      "Epoch 938/1000\n",
      "5966/5966 [==============================] - 1s 179us/step - loss: 6.3265 - val_loss: 6.3207\n",
      "Epoch 939/1000\n",
      "5966/5966 [==============================] - 1s 158us/step - loss: 6.3406 - val_loss: 6.3337\n",
      "Epoch 940/1000\n",
      "5966/5966 [==============================] - 1s 174us/step - loss: 6.3332 - val_loss: 6.3152\n",
      "Epoch 941/1000\n",
      "5966/5966 [==============================] - 1s 171us/step - loss: 6.3296 - val_loss: 6.3193\n",
      "Epoch 942/1000\n",
      "5966/5966 [==============================] - 1s 178us/step - loss: 6.3297 - val_loss: 6.3204\n",
      "Epoch 943/1000\n",
      "5966/5966 [==============================] - 1s 188us/step - loss: 6.3343 - val_loss: 6.3337\n",
      "Epoch 944/1000\n",
      "5966/5966 [==============================] - 1s 158us/step - loss: 6.3241 - val_loss: 6.3157\n",
      "Epoch 945/1000\n",
      "5966/5966 [==============================] - 1s 155us/step - loss: 6.3258 - val_loss: 6.3156\n",
      "Epoch 946/1000\n",
      "5966/5966 [==============================] - 1s 156us/step - loss: 6.3284 - val_loss: 6.3216\n",
      "Epoch 947/1000\n",
      "5966/5966 [==============================] - 1s 158us/step - loss: 6.3255 - val_loss: 6.3157\n",
      "Epoch 948/1000\n",
      "5966/5966 [==============================] - 1s 165us/step - loss: 6.3308 - val_loss: 6.3144\n",
      "Epoch 949/1000\n",
      "5966/5966 [==============================] - 1s 156us/step - loss: 6.3073 - val_loss: 6.3159\n",
      "Epoch 950/1000\n",
      "5966/5966 [==============================] - 1s 161us/step - loss: 6.3361 - val_loss: 6.3222\n",
      "Epoch 951/1000\n",
      "5966/5966 [==============================] - 1s 165us/step - loss: 6.3382 - val_loss: 6.3260\n",
      "Epoch 952/1000\n",
      "5966/5966 [==============================] - 1s 163us/step - loss: 6.3137 - val_loss: 6.3344\n",
      "Epoch 953/1000\n",
      "5966/5966 [==============================] - 1s 158us/step - loss: 6.3096 - val_loss: 6.3185\n",
      "Epoch 954/1000\n",
      "5966/5966 [==============================] - 1s 156us/step - loss: 6.3296 - val_loss: 6.3164\n",
      "Epoch 955/1000\n",
      "5966/5966 [==============================] - 1s 163us/step - loss: 6.3319 - val_loss: 6.3174\n",
      "Epoch 956/1000\n",
      "5966/5966 [==============================] - 1s 174us/step - loss: 6.3338 - val_loss: 6.3252\n",
      "Epoch 957/1000\n",
      "5966/5966 [==============================] - 1s 187us/step - loss: 6.3333 - val_loss: 6.3409\n",
      "Epoch 958/1000\n",
      "5966/5966 [==============================] - 1s 179us/step - loss: 6.3274 - val_loss: 6.3160\n",
      "Epoch 959/1000\n",
      "5966/5966 [==============================] - 1s 189us/step - loss: 6.3292 - val_loss: 6.3195\n",
      "Epoch 960/1000\n",
      "5966/5966 [==============================] - 1s 186us/step - loss: 6.3204 - val_loss: 6.3156\n",
      "Epoch 961/1000\n",
      "5966/5966 [==============================] - 1s 179us/step - loss: 6.3077 - val_loss: 6.3155\n",
      "Epoch 962/1000\n",
      "5966/5966 [==============================] - 1s 190us/step - loss: 6.3132 - val_loss: 6.3158\n",
      "Epoch 963/1000\n",
      "5966/5966 [==============================] - 1s 176us/step - loss: 6.3235 - val_loss: 6.3179\n",
      "Epoch 964/1000\n",
      "5966/5966 [==============================] - 1s 179us/step - loss: 6.3237 - val_loss: 6.3174\n",
      "Epoch 965/1000\n",
      "5966/5966 [==============================] - 1s 151us/step - loss: 6.3183 - val_loss: 6.3170\n",
      "Epoch 966/1000\n",
      "5966/5966 [==============================] - 1s 162us/step - loss: 6.3337 - val_loss: 6.3177\n",
      "Epoch 967/1000\n",
      "5966/5966 [==============================] - 1s 152us/step - loss: 6.3210 - val_loss: 6.3372\n",
      "Epoch 968/1000\n",
      "5966/5966 [==============================] - 1s 149us/step - loss: 6.3245 - val_loss: 6.3174\n",
      "Epoch 969/1000\n",
      "5966/5966 [==============================] - 1s 148us/step - loss: 6.3396 - val_loss: 6.3232\n",
      "Epoch 970/1000\n",
      "5966/5966 [==============================] - 1s 151us/step - loss: 6.3335 - val_loss: 6.3181\n",
      "Epoch 971/1000\n",
      "5966/5966 [==============================] - 1s 149us/step - loss: 6.3397 - val_loss: 6.3211\n",
      "Epoch 972/1000\n",
      "5966/5966 [==============================] - 1s 168us/step - loss: 6.3379 - val_loss: 6.3159\n",
      "Epoch 973/1000\n",
      "5966/5966 [==============================] - 1s 174us/step - loss: 6.3273 - val_loss: 6.3157\n",
      "Epoch 974/1000\n",
      "5966/5966 [==============================] - 1s 172us/step - loss: 6.3235 - val_loss: 6.3145\n",
      "Epoch 975/1000\n",
      "5966/5966 [==============================] - 1s 198us/step - loss: 6.3240 - val_loss: 6.3188\n",
      "Epoch 976/1000\n",
      "5966/5966 [==============================] - 1s 192us/step - loss: 6.3189 - val_loss: 6.3264\n",
      "Epoch 977/1000\n",
      "5966/5966 [==============================] - 1s 164us/step - loss: 6.3294 - val_loss: 6.3151\n",
      "Epoch 978/1000\n",
      "5966/5966 [==============================] - 1s 164us/step - loss: 6.3440 - val_loss: 6.3334\n",
      "Epoch 979/1000\n",
      "5966/5966 [==============================] - 1s 178us/step - loss: 6.3217 - val_loss: 6.3485\n",
      "Epoch 980/1000\n",
      "5966/5966 [==============================] - 1s 172us/step - loss: 6.3342 - val_loss: 6.3165\n",
      "Epoch 981/1000\n",
      "5966/5966 [==============================] - 1s 211us/step - loss: 6.3306 - val_loss: 6.3240\n",
      "Epoch 982/1000\n",
      "5966/5966 [==============================] - 1s 203us/step - loss: 6.3318 - val_loss: 6.3185\n",
      "Epoch 983/1000\n",
      "5966/5966 [==============================] - 1s 191us/step - loss: 6.3261 - val_loss: 6.3145\n",
      "Epoch 984/1000\n",
      "5966/5966 [==============================] - 1s 171us/step - loss: 6.3257 - val_loss: 6.3166\n",
      "Epoch 985/1000\n",
      "5966/5966 [==============================] - 1s 170us/step - loss: 6.3341 - val_loss: 6.3164\n",
      "Epoch 986/1000\n",
      "5966/5966 [==============================] - 1s 190us/step - loss: 6.3195 - val_loss: 6.3171\n",
      "Epoch 987/1000\n",
      "5966/5966 [==============================] - 1s 174us/step - loss: 6.3327 - val_loss: 6.3216\n",
      "Epoch 988/1000\n",
      "5966/5966 [==============================] - 1s 170us/step - loss: 6.3273 - val_loss: 6.3244\n",
      "Epoch 989/1000\n",
      "5966/5966 [==============================] - 1s 156us/step - loss: 6.3357 - val_loss: 6.3200\n",
      "Epoch 990/1000\n",
      "5966/5966 [==============================] - 1s 175us/step - loss: 6.3402 - val_loss: 6.3192\n",
      "Epoch 991/1000\n",
      "5966/5966 [==============================] - 1s 153us/step - loss: 6.3424 - val_loss: 6.3230\n",
      "Epoch 992/1000\n",
      "5966/5966 [==============================] - 1s 182us/step - loss: 6.3275 - val_loss: 6.3179\n",
      "Epoch 993/1000\n",
      "5966/5966 [==============================] - 1s 186us/step - loss: 6.3384 - val_loss: 6.3331\n",
      "Epoch 994/1000\n",
      "5966/5966 [==============================] - 1s 170us/step - loss: 6.3350 - val_loss: 6.3213\n",
      "Epoch 995/1000\n",
      "5966/5966 [==============================] - 1s 184us/step - loss: 6.3171 - val_loss: 6.3173\n",
      "Epoch 996/1000\n",
      "5966/5966 [==============================] - 1s 163us/step - loss: 6.3262 - val_loss: 6.3203\n",
      "Epoch 997/1000\n",
      "5966/5966 [==============================] - 1s 180us/step - loss: 6.3474 - val_loss: 6.3207\n",
      "Epoch 998/1000\n",
      "5966/5966 [==============================] - 1s 180us/step - loss: 6.3220 - val_loss: 6.3211\n",
      "Epoch 999/1000\n",
      "5966/5966 [==============================] - 1s 186us/step - loss: 6.3413 - val_loss: 6.3281\n",
      "Epoch 1000/1000\n",
      "5966/5966 [==============================] - 1s 183us/step - loss: 6.3412 - val_loss: 6.3161\n"
     ]
    }
   ],
   "source": [
    "# Importing the Keras libraries and packages\n",
    "import keras\n",
    "from keras.models import Sequential\n",
    "from keras.layers import Dense\n",
    "from keras.layers import LeakyReLU,PReLU,ELU\n",
    "from keras.layers import Dropout\n",
    "import tensorflow as tf\n",
    "from keras.optimizers import SGD\n",
    "\n",
    "# Initialising the ANN\n",
    "classifier = Sequential()\n",
    "\n",
    "# Adding the input layer and the first hidden layer\n",
    "classifier.add(Dense(init = 'he_uniform',units = 7,activation='relu',input_dim = 7))\n",
    "\n",
    "# Adding the second hidden layer\n",
    "classifier.add(Dense(init = 'he_uniform',activation='relu',units = 4))\n",
    "\n",
    "# Adding the third hidden layer\n",
    "classifier.add(Dense(init = 'he_uniform',activation='relu',units = 4))\n",
    "\n",
    "# Adding the forth hidden layer\n",
    "classifier.add(Dense(init = 'he_uniform',activation='relu',units = 4))\n",
    "\n",
    "# Adding the fifth hidden layer\n",
    "classifier.add(Dense(init = 'he_uniform',activation='relu',units = 4))\n",
    "\n",
    "# Adding the Sixth hidden layer\n",
    "classifier.add(Dense(init = 'he_uniform',activation='relu',units = 4))\n",
    "\n",
    "# Adding the Seventh hidden layer\n",
    "# classifier.add(Dense(init = 'he_uniform',activation='relu',units = 3))\n",
    "\n",
    "# Adding the output layer\n",
    "classifier.add(Dense(init = 'he_uniform',units = 1))\n",
    "\n",
    "# Compiling the ANN\n",
    "\n",
    "opt = tf.keras.optimizers.RMSprop(0.0001)\n",
    "classifier.compile(loss=root_mean_squared_error, optimizer=opt)\n",
    "\n",
    "# Fitting the ANN to the Training set\n",
    "model_history=classifier.fit(x_tb.values,Y,validation_split=0.30, batch_size = 10, nb_epoch = 1000)"
   ]
  },
  {
   "cell_type": "code",
   "execution_count": 203,
   "metadata": {},
   "outputs": [],
   "source": [
    "pred = classifier.predict(final_test) #1162"
   ]
  },
  {
   "cell_type": "markdown",
   "metadata": {},
   "source": [
    "##### Tuning ANN"
   ]
  },
  {
   "cell_type": "code",
   "execution_count": 166,
   "metadata": {},
   "outputs": [],
   "source": [
    "from sklearn.model_selection import GridSearchCV\n",
    "\n",
    "from keras.models import Sequential\n",
    "from keras.layers import Dense, Activation, Embedding, Flatten, LeakyReLU, BatchNormalization, Dropout\n",
    "from keras.activations import relu, sigmoid\n",
    "\n",
    "\n",
    "\n",
    "def create_model(layers, activation):\n",
    "    model = Sequential()\n",
    "    for i, nodes in enumerate(layers):\n",
    "        if i==0:\n",
    "            model.add(Dense(nodes,input_dim=7))\n",
    "            model.add(Activation(activation))\n",
    "#             model.add(Dropout(0.3))\n",
    "        else:\n",
    "            model.add(Dense(nodes))\n",
    "            model.add(Activation(activation))\n",
    "#             model.add(Dropout(0.3))\n",
    "            \n",
    "    model.add(Dense(units = 1, kernel_initializer= 'he_uniform', activation = 'relu')) # Note: no activation beyond this point\n",
    "    \n",
    "    model.compile(optimizer='adam', loss=root_mean_squared_error)\n",
    "    return model\n",
    "    \n",
    "model = KerasRegressor(build_fn=create_model, verbose=0)\n",
    "\n",
    "\n",
    "layers = [(5, 4), (5, 5, 4),(4,4,4,4),(5,5,4,4,4,4),(4,4,4,4,4,4),(6,5,4,4)]\n",
    "activations = ['relu']\n",
    "param_grid = dict(layers=layers, activation=activations, batch_size = [32,128], epochs=[500])\n",
    "grid = GridSearchCV(estimator=model, param_grid=param_grid,cv=5)"
   ]
  },
  {
   "cell_type": "code",
   "execution_count": 167,
   "metadata": {},
   "outputs": [
    {
     "data": {
      "text/plain": [
       "[-8.49549376445125,\n",
       " {'activation': 'relu', 'batch_size': 32, 'epochs': 50, 'layers': (5, 4)}]"
      ]
     },
     "execution_count": 167,
     "metadata": {},
     "output_type": "execute_result"
    }
   ],
   "source": [
    "grid_result = grid.fit(x_tb.values, Y)\n",
    "\n",
    "[grid_result.best_score_,grid_result.best_params_]"
   ]
  },
  {
   "cell_type": "code",
   "execution_count": 169,
   "metadata": {},
   "outputs": [],
   "source": [
    "pred = grid.predict(final_test) #rmse : 1400 ... bad"
   ]
  },
  {
   "cell_type": "markdown",
   "metadata": {},
   "source": [
    "# Stack Models"
   ]
  },
  {
   "cell_type": "markdown",
   "metadata": {},
   "source": [
    "### Simple Stacking : Averaging Base Model"
   ]
  },
  {
   "cell_type": "code",
   "execution_count": 83,
   "metadata": {},
   "outputs": [],
   "source": [
    "from sklearn.base import BaseEstimator,TransformerMixin,RegressorMixin,clone\n",
    "\n",
    "class AveragingModels(BaseEstimator, RegressorMixin, TransformerMixin):\n",
    "    def __init__(self, models):\n",
    "        self.models = models\n",
    "        \n",
    "    # we define clones of the original models to fit the data in\n",
    "    def fit(self, X, y):\n",
    "        self.models_ = [clone(x) for x in self.models]\n",
    "        \n",
    "        # Train cloned base models\n",
    "        for model in self.models_:\n",
    "            model.fit(X, y)\n",
    "\n",
    "        return self\n",
    "#Now we do the predictions for cloned models and average them\n",
    "    def predict(self, X):\n",
    "        predictions = np.column_stack([\n",
    "            model.predict(X) for model in self.models_\n",
    "        ])\n",
    "        return np.mean(predictions, axis=1)   "
   ]
  },
  {
   "cell_type": "code",
   "execution_count": 84,
   "metadata": {},
   "outputs": [],
   "source": [
    "#Validation function\n",
    "from sklearn.model_selection import KFold\n",
    "from sklearn.model_selection import cross_val_score\n",
    "\n",
    "n_folds = 5\n",
    "\n",
    "def rmsle_cv(model):\n",
    "    kf = KFold(n_folds, shuffle=True, random_state=42).get_n_splits(train.values)\n",
    "    rmse= np.sqrt(-cross_val_score(model, x_tb.values, Y, scoring=\"neg_mean_squared_error\", cv = kf))\n",
    "    return(rmse)"
   ]
  },
  {
   "cell_type": "code",
   "execution_count": 85,
   "metadata": {},
   "outputs": [
    {
     "name": "stdout",
     "output_type": "stream",
     "text": [
      " Averaged base models score: 6.5180 (0.0747)\n",
      "\n"
     ]
    }
   ],
   "source": [
    "averaged_models = AveragingModels(models = (xgb_reg, rf_reg))\n",
    "\n",
    "score = rmsle_cv(averaged_models)\n",
    "print(\" Averaged base models score: {:.4f} ({:.4f})\\n\".format(score.mean(), score.std()))"
   ]
  },
  {
   "cell_type": "code",
   "execution_count": 86,
   "metadata": {},
   "outputs": [
    {
     "name": "stdout",
     "output_type": "stream",
     "text": [
      "6.54180854992274\n"
     ]
    }
   ],
   "source": [
    "averaged_models.fit(x_train_tb,y_train)\n",
    "avg_pred =averaged_models.predict(x_test_tb)\n",
    "rmse = np.sqrt(metrics.mean_squared_error(y_test,avg_pred))\n",
    "print(rmse)"
   ]
  },
  {
   "cell_type": "code",
   "execution_count": 88,
   "metadata": {},
   "outputs": [],
   "source": [
    "averaged_models.fit(x_tb,Y)\n",
    "avg_pred_test = averaged_models.predict(final_test)"
   ]
  },
  {
   "cell_type": "markdown",
   "metadata": {},
   "source": [
    "### Stacking Average Model Class"
   ]
  },
  {
   "cell_type": "code",
   "execution_count": 95,
   "metadata": {},
   "outputs": [],
   "source": [
    "class StackingAveragedModels(BaseEstimator, RegressorMixin, TransformerMixin):\n",
    "    def __init__(self, base_models, meta_model, n_folds=5):\n",
    "        self.base_models = base_models\n",
    "        self.meta_model = meta_model\n",
    "        self.n_folds = n_folds\n",
    "   \n",
    "    # We again fit the data on clones of the original models\n",
    "    def fit(self, X, y):\n",
    "        self.base_models_ = [list() for x in self.base_models]\n",
    "        self.meta_model_ = clone(self.meta_model)\n",
    "        kfold = KFold(n_splits=self.n_folds, shuffle=True, random_state=156)\n",
    "        \n",
    "        # Train cloned base models then create out-of-fold predictions\n",
    "        # that are needed to train the cloned meta-model\n",
    "        out_of_fold_predictions = np.zeros((X.shape[0], len(self.base_models)))\n",
    "        for i, model in enumerate(self.base_models):\n",
    "            for train_index, holdout_index in kfold.split(X, y):\n",
    "                instance = clone(model)\n",
    "                self.base_models_[i].append(instance)\n",
    "                instance.fit(X[train_index], y[train_index])\n",
    "                y_pred = instance.predict(X[holdout_index])\n",
    "                out_of_fold_predictions[holdout_index, i] = y_pred\n",
    "                \n",
    "        # Now train the cloned  meta-model using the out-of-fold predictions as new feature\n",
    "        self.meta_model_.fit(out_of_fold_predictions, y)\n",
    "        return self\n",
    "    \n",
    "      #Do the predictions of all base models on the test data and use the averaged predictions as \n",
    "    #meta-features for the final prediction which is done by the meta-model\n",
    "    def predict(self, X):\n",
    "        meta_features = np.column_stack([\n",
    "            np.column_stack([model.predict(X) for model in base_models]).mean(axis=1)\n",
    "            for base_models in self.base_models_ ])\n",
    "        return self.meta_model_.predict(meta_features)"
   ]
  },
  {
   "cell_type": "code",
   "execution_count": 104,
   "metadata": {},
   "outputs": [],
   "source": [
    "from sklearn.ensemble import GradientBoostingRegressor\n",
    "from sklearn.pipeline import make_pipeline\n",
    "from sklearn.preprocessing import RobustScaler\n",
    "from sklearn.linear_model import Lasso\n",
    "\n",
    "\n",
    "GBoost = GradientBoostingRegressor(n_estimators=3000, learning_rate=0.05,\n",
    "                                   max_depth=4, max_features='sqrt',\n",
    "                                   min_samples_leaf=15, min_samples_split=10, \n",
    "                                   loss='huber', random_state =5)\n",
    "\n",
    "# model_lgb = lgb.LGBMRegressor(objective='regression',num_leaves=5,\n",
    "#                               learning_rate=0.05, n_estimators=720,\n",
    "#                               max_bin = 55, bagging_fraction = 0.8,\n",
    "#                               bagging_freq = 5, feature_fraction = 0.2319,\n",
    "#                               feature_fraction_seed=9, bagging_seed=9,\n",
    "#                               min_data_in_leaf =6, min_sum_hessian_in_leaf = 11)\n",
    "\n",
    "\n",
    "lasso = make_pipeline(RobustScaler(), Lasso(alpha =0.0005, random_state=1))"
   ]
  },
  {
   "cell_type": "code",
   "execution_count": 105,
   "metadata": {},
   "outputs": [
    {
     "name": "stdout",
     "output_type": "stream",
     "text": [
      "Stacking Averaged models score: 6.5128 (0.0735)\n"
     ]
    }
   ],
   "source": [
    "stacked_averaged_models = StackingAveragedModels(base_models = (xgb_reg, rf_reg),\n",
    "                                                 meta_model = lasso)\n",
    "\n",
    "score = rmsle_cv(stacked_averaged_models)\n",
    "print(\"Stacking Averaged models score: {:.4f} ({:.4f})\".format(score.mean(), score.std()))"
   ]
  },
  {
   "cell_type": "code",
   "execution_count": 106,
   "metadata": {},
   "outputs": [
    {
     "name": "stdout",
     "output_type": "stream",
     "text": [
      "6.535869099698893\n"
     ]
    }
   ],
   "source": [
    "stacked_averaged_models.fit(x_train_tb.values,y_train)\n",
    "avg_pred =stacked_averaged_models.predict(x_test_tb.values)\n",
    "rmse = np.sqrt(metrics.mean_squared_error(y_test,avg_pred))\n",
    "print(rmse)"
   ]
  },
  {
   "cell_type": "code",
   "execution_count": 108,
   "metadata": {},
   "outputs": [],
   "source": [
    "stacked_averaged_models.fit(x_tb.values,Y)\n",
    "avg_pred_test = stacked_averaged_models.predict(final_test.values) \"\"\"worked fine 1161 rmse\"\"\""
   ]
  },
  {
   "cell_type": "markdown",
   "metadata": {},
   "source": [
    "### Ensembling"
   ]
  },
  {
   "cell_type": "markdown",
   "metadata": {},
   "source": [
    "##### XGBoost"
   ]
  },
  {
   "cell_type": "code",
   "execution_count": 118,
   "metadata": {},
   "outputs": [
    {
     "name": "stdout",
     "output_type": "stream",
     "text": [
      "6.342864050543177\n"
     ]
    }
   ],
   "source": [
    "xgb_reg.fit(x_tb.values,Y)\n",
    "xgb_pred_train = xgb_reg.predict(x_tb.values)\n",
    "xgb_pred_test = xgb_reg.predict(final_test.values)\n",
    "print(RMSE(xgb_pred_train,Y))"
   ]
  },
  {
   "cell_type": "markdown",
   "metadata": {},
   "source": [
    "##### Random Forest"
   ]
  },
  {
   "cell_type": "code",
   "execution_count": 120,
   "metadata": {},
   "outputs": [
    {
     "name": "stdout",
     "output_type": "stream",
     "text": [
      "6.4150740620124544\n"
     ]
    }
   ],
   "source": [
    "rf_reg.fit(x_tb.values,Y)\n",
    "rf_pred_train = rf_reg.predict(x_tb.values)\n",
    "rf_pred_test = rf_reg.predict(final_test.values)\n",
    "print(RMSE(rf_pred_train,Y))"
   ]
  },
  {
   "cell_type": "markdown",
   "metadata": {},
   "source": [
    "##### Stacked Average Model"
   ]
  },
  {
   "cell_type": "code",
   "execution_count": 121,
   "metadata": {},
   "outputs": [
    {
     "name": "stdout",
     "output_type": "stream",
     "text": [
      "6.362260516193485\n"
     ]
    }
   ],
   "source": [
    "stacked_averaged_models.fit(x_tb.values,Y)\n",
    "avg_pred_train =stacked_averaged_models.predict(x_tb.values)\n",
    "avg_pred_test =stacked_averaged_models.predict(final_test.values)\n",
    "print(RMSE(avg_pred_train,Y))"
   ]
  },
  {
   "cell_type": "markdown",
   "metadata": {},
   "source": [
    "##### Ensembling and checking train avg scr"
   ]
  },
  {
   "cell_type": "code",
   "execution_count": 129,
   "metadata": {},
   "outputs": [
    {
     "name": "stdout",
     "output_type": "stream",
     "text": [
      "RMSE score on train data:\n",
      "6.352110276882525\n"
     ]
    }
   ],
   "source": [
    "'''RMSE on the entire Train data when averaging'''\n",
    "\n",
    "print('RMSE score on train data:')\n",
    "print(RMSE(avg_pred_train*0.55 +\n",
    "               xgb_pred_train*0.35 + rf_pred_train*0.10, Y))"
   ]
  },
  {
   "cell_type": "code",
   "execution_count": 137,
   "metadata": {},
   "outputs": [],
   "source": [
    "ensembling = avg_pred_test*0.70 + xgb_pred_test*0.15 + rf_pred_test*0.15 #1162 rmse"
   ]
  },
  {
   "cell_type": "markdown",
   "metadata": {},
   "source": [
    "# SUBMISSION"
   ]
  },
  {
   "cell_type": "code",
   "execution_count": 178,
   "metadata": {},
   "outputs": [],
   "source": [
    "final_test = test.copy()\n",
    "\n",
    "final_test = final_test[['Item_Weight', 'Item_Visibility', 'Item_MRP', 'Outlet_Age', 'Outlet_Type_Supermarket Type1',\n",
    "         'Outlet_Type_Supermarket Type2', 'Outlet_Type_Supermarket Type3']]"
   ]
  },
  {
   "cell_type": "code",
   "execution_count": 204,
   "metadata": {},
   "outputs": [],
   "source": [
    "from scipy.special import boxcox, inv_boxcox\n",
    "sales_rev = inv_boxcox(pred,fitted_lambda)"
   ]
  },
  {
   "cell_type": "code",
   "execution_count": 205,
   "metadata": {},
   "outputs": [
    {
     "data": {
      "text/plain": [
       "array([[1590.7384],\n",
       "       [1374.3092],\n",
       "       [ 695.981 ],\n",
       "       ...,\n",
       "       [1734.8381],\n",
       "       [3609.746 ],\n",
       "       [1187.8453]], dtype=float32)"
      ]
     },
     "execution_count": 205,
     "metadata": {},
     "output_type": "execute_result"
    }
   ],
   "source": [
    "sales_rev"
   ]
  },
  {
   "cell_type": "code",
   "execution_count": 206,
   "metadata": {},
   "outputs": [
    {
     "data": {
      "text/plain": [
       "Item_Identifier      0\n",
       "Outlet_Identifier    0\n",
       "Item_Outlet_Sales    0\n",
       "dtype: int64"
      ]
     },
     "execution_count": 206,
     "metadata": {},
     "output_type": "execute_result"
    }
   ],
   "source": [
    "submission = pd.DataFrame()\n",
    "submission[\"Item_Identifier\"] = test_data[\"Item_Identifier\"]\n",
    "submission[\"Outlet_Identifier\"] = test_data[\"Outlet_Identifier\"]\n",
    "submission[\"Item_Outlet_Sales\"] = sales_rev\n",
    "submission.isna().sum()"
   ]
  },
  {
   "cell_type": "code",
   "execution_count": 208,
   "metadata": {},
   "outputs": [
    {
     "data": {
      "text/html": [
       "<div>\n",
       "<style scoped>\n",
       "    .dataframe tbody tr th:only-of-type {\n",
       "        vertical-align: middle;\n",
       "    }\n",
       "\n",
       "    .dataframe tbody tr th {\n",
       "        vertical-align: top;\n",
       "    }\n",
       "\n",
       "    .dataframe thead th {\n",
       "        text-align: right;\n",
       "    }\n",
       "</style>\n",
       "<table border=\"1\" class=\"dataframe\">\n",
       "  <thead>\n",
       "    <tr style=\"text-align: right;\">\n",
       "      <th></th>\n",
       "      <th>Item_Identifier</th>\n",
       "      <th>Outlet_Identifier</th>\n",
       "      <th>Item_Outlet_Sales</th>\n",
       "    </tr>\n",
       "  </thead>\n",
       "  <tbody>\n",
       "    <tr>\n",
       "      <th>0</th>\n",
       "      <td>FDW58</td>\n",
       "      <td>OUT049</td>\n",
       "      <td>1590.738403</td>\n",
       "    </tr>\n",
       "    <tr>\n",
       "      <th>1</th>\n",
       "      <td>FDW14</td>\n",
       "      <td>OUT017</td>\n",
       "      <td>1374.309204</td>\n",
       "    </tr>\n",
       "    <tr>\n",
       "      <th>2</th>\n",
       "      <td>NCN55</td>\n",
       "      <td>OUT010</td>\n",
       "      <td>695.981018</td>\n",
       "    </tr>\n",
       "    <tr>\n",
       "      <th>3</th>\n",
       "      <td>FDQ58</td>\n",
       "      <td>OUT017</td>\n",
       "      <td>2476.666016</td>\n",
       "    </tr>\n",
       "    <tr>\n",
       "      <th>4</th>\n",
       "      <td>FDY38</td>\n",
       "      <td>OUT027</td>\n",
       "      <td>6022.897949</td>\n",
       "    </tr>\n",
       "  </tbody>\n",
       "</table>\n",
       "</div>"
      ],
      "text/plain": [
       "  Item_Identifier Outlet_Identifier  Item_Outlet_Sales\n",
       "0           FDW58            OUT049        1590.738403\n",
       "1           FDW14            OUT017        1374.309204\n",
       "2           NCN55            OUT010         695.981018\n",
       "3           FDQ58            OUT017        2476.666016\n",
       "4           FDY38            OUT027        6022.897949"
      ]
     },
     "execution_count": 208,
     "metadata": {},
     "output_type": "execute_result"
    }
   ],
   "source": [
    "submission.head()"
   ]
  },
  {
   "cell_type": "code",
   "execution_count": 209,
   "metadata": {},
   "outputs": [
    {
     "name": "stdout",
     "output_type": "stream",
     "text": [
      "Submission is ready\n"
     ]
    }
   ],
   "source": [
    "submission.to_csv(folder+\"submission.csv\",index = False)\n",
    "print(\"Submission is ready\")"
   ]
  }
 ],
 "metadata": {
  "kernelspec": {
   "display_name": "Python 3",
   "language": "python",
   "name": "python3"
  },
  "language_info": {
   "codemirror_mode": {
    "name": "ipython",
    "version": 3
   },
   "file_extension": ".py",
   "mimetype": "text/x-python",
   "name": "python",
   "nbconvert_exporter": "python",
   "pygments_lexer": "ipython3",
   "version": "3.7.7"
  }
 },
 "nbformat": 4,
 "nbformat_minor": 4
}
